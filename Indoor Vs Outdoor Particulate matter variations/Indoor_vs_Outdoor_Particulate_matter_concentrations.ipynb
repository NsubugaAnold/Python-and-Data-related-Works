{
  "cells": [
    {
      "cell_type": "code",
      "execution_count": 173,
      "metadata": {
        "id": "Ci728vN1gPne"
      },
      "outputs": [],
      "source": [
        "#-----------------------------------------\n",
        "import pandas as pd\n",
        "import numpy as np\n",
        "import requests\n",
        "#----------------------------------------- static plots analysis\n",
        "import matplotlib.pyplot as plt\n",
        "import seaborn as sns\n",
        "#-----------------------------------------interactive plots\n",
        "import plotly.express as px\n",
        "import plotly.graph_objects as go\n",
        "#----------------------------------------------------------------------\n",
        "import datetime\n",
        "#----------------------------------------------------------------------\n",
        "from sklearn.metrics import mean_absolute_error\n",
        "from sklearn.metrics import mean_squared_error\n",
        "from sklearn.metrics import r2_score\n",
        "from math import sqrt\n",
        "#---------------------------------------------------------------------\n",
        "from functools import reduce\n",
        "#-------------------------------------------------------------------\n",
        "import pytz\n",
        "fig = go.Figure()\n",
        "fig1 = go.Figure()\n",
        "fig2 = go.Figure()\n",
        "fig3 = go.Figure()\n",
        "fig4 = go.Figure()\n",
        "fig5 = go.Figure()\n",
        "fig6 = go.Figure()\n",
        "fig7 = go.Figure()\n",
        "fig8 = go.Figure()"
      ]
    },
    {
      "cell_type": "code",
      "execution_count": 174,
      "metadata": {
        "colab": {
          "base_uri": "https://localhost:8080/",
          "height": 112
        },
        "id": "6jIXE0yuga6L",
        "outputId": "ddee0f70-14a9-4027-f9f1-40048544d67a"
      },
      "outputs": [
        {
          "data": {
            "text/html": [
              "<div>\n",
              "<style scoped>\n",
              "    .dataframe tbody tr th:only-of-type {\n",
              "        vertical-align: middle;\n",
              "    }\n",
              "\n",
              "    .dataframe tbody tr th {\n",
              "        vertical-align: top;\n",
              "    }\n",
              "\n",
              "    .dataframe thead th {\n",
              "        text-align: right;\n",
              "    }\n",
              "</style>\n",
              "<table border=\"1\" class=\"dataframe\">\n",
              "  <thead>\n",
              "    <tr style=\"text-align: right;\">\n",
              "      <th></th>\n",
              "      <th>datetime</th>\n",
              "      <th>lat</th>\n",
              "      <th>lon</th>\n",
              "      <th>site_id</th>\n",
              "      <th>site_name</th>\n",
              "      <th>duration</th>\n",
              "      <th>qc</th>\n",
              "      <th>parameter</th>\n",
              "      <th>unit</th>\n",
              "      <th>poc</th>\n",
              "      <th>value</th>\n",
              "      <th>data_status</th>\n",
              "      <th>hour</th>\n",
              "      <th>day</th>\n",
              "    </tr>\n",
              "  </thead>\n",
              "  <tbody>\n",
              "    <tr>\n",
              "      <th>0</th>\n",
              "      <td>2023-07-10 10:32:00+03:00</td>\n",
              "      <td>0.329728</td>\n",
              "      <td>32.603488</td>\n",
              "      <td>64a5755320511a001d1b4a3e</td>\n",
              "      <td>Impala Ave</td>\n",
              "      <td>1</td>\n",
              "      <td>4</td>\n",
              "      <td>88500</td>\n",
              "      <td>1</td>\n",
              "      <td>1</td>\n",
              "      <td>40.87</td>\n",
              "      <td>0</td>\n",
              "      <td>10</td>\n",
              "      <td>10</td>\n",
              "    </tr>\n",
              "    <tr>\n",
              "      <th>1</th>\n",
              "      <td>2023-07-10 13:02:00+03:00</td>\n",
              "      <td>0.329728</td>\n",
              "      <td>32.603488</td>\n",
              "      <td>64a5755320511a001d1b4a3e</td>\n",
              "      <td>Impala Ave</td>\n",
              "      <td>1</td>\n",
              "      <td>4</td>\n",
              "      <td>88500</td>\n",
              "      <td>1</td>\n",
              "      <td>1</td>\n",
              "      <td>34.28</td>\n",
              "      <td>0</td>\n",
              "      <td>13</td>\n",
              "      <td>10</td>\n",
              "    </tr>\n",
              "  </tbody>\n",
              "</table>\n",
              "</div>"
            ],
            "text/plain": [
              "                   datetime       lat        lon                   site_id  \\\n",
              "0 2023-07-10 10:32:00+03:00  0.329728  32.603488  64a5755320511a001d1b4a3e   \n",
              "1 2023-07-10 13:02:00+03:00  0.329728  32.603488  64a5755320511a001d1b4a3e   \n",
              "\n",
              "    site_name  duration  qc  parameter  unit  poc  value  data_status  hour  \\\n",
              "0  Impala Ave         1   4      88500     1    1  40.87            0    10   \n",
              "1  Impala Ave         1   4      88500     1    1  34.28            0    13   \n",
              "\n",
              "   day  \n",
              "0   10  \n",
              "1   10  "
            ]
          },
          "execution_count": 174,
          "metadata": {},
          "output_type": "execute_result"
        }
      ],
      "source": [
        "data = pd.read_csv('Kampala_impala_data.csv')\n",
        "data['datetime'] = pd.to_datetime(data['datetime'])\n",
        "target_tz = pytz.timezone('Etc/GMT-3')\n",
        "data['datetime'] = data['datetime'].dt.tz_localize(pytz.utc).dt.tz_convert(target_tz)\n",
        "data['hour'] = data['datetime'].dt.hour\n",
        "data['day'] = data['datetime'].dt.day\n",
        "\n",
        "data.head(2)"
      ]
    },
    {
      "cell_type": "code",
      "execution_count": 175,
      "metadata": {},
      "outputs": [
        {
          "data": {
            "text/plain": [
              "site_name\n",
              "Impala Ave       38.075499\n",
              "Impala Avenue    36.092706\n",
              "Name: value, dtype: float64"
            ]
          },
          "execution_count": 175,
          "metadata": {},
          "output_type": "execute_result"
        }
      ],
      "source": [
        "data.groupby('site_name')['value'].mean()"
      ]
    },
    {
      "cell_type": "code",
      "execution_count": 176,
      "metadata": {
        "colab": {
          "base_uri": "https://localhost:8080/",
          "height": 112
        },
        "id": "7OcT60F8g7oi",
        "outputId": "05054e02-dce4-4220-af08-4a0b0114020f"
      },
      "outputs": [
        {
          "data": {
            "text/html": [
              "<div>\n",
              "<style scoped>\n",
              "    .dataframe tbody tr th:only-of-type {\n",
              "        vertical-align: middle;\n",
              "    }\n",
              "\n",
              "    .dataframe tbody tr th {\n",
              "        vertical-align: top;\n",
              "    }\n",
              "\n",
              "    .dataframe thead th {\n",
              "        text-align: right;\n",
              "    }\n",
              "</style>\n",
              "<table border=\"1\" class=\"dataframe\">\n",
              "  <thead>\n",
              "    <tr style=\"text-align: right;\">\n",
              "      <th></th>\n",
              "      <th>datetime</th>\n",
              "      <th>lat</th>\n",
              "      <th>lon</th>\n",
              "      <th>site_id</th>\n",
              "      <th>site_name</th>\n",
              "      <th>duration</th>\n",
              "      <th>qc</th>\n",
              "      <th>parameter</th>\n",
              "      <th>unit</th>\n",
              "      <th>poc</th>\n",
              "      <th>value</th>\n",
              "      <th>data_status</th>\n",
              "      <th>hour</th>\n",
              "      <th>day</th>\n",
              "    </tr>\n",
              "  </thead>\n",
              "  <tbody>\n",
              "    <tr>\n",
              "      <th>554</th>\n",
              "      <td>2023-07-11 13:13:00+03:00</td>\n",
              "      <td>0.330132</td>\n",
              "      <td>32.594515</td>\n",
              "      <td>64ad2c9de42253002982c4e9</td>\n",
              "      <td>Impala Avenue</td>\n",
              "      <td>1</td>\n",
              "      <td>4</td>\n",
              "      <td>88500</td>\n",
              "      <td>1</td>\n",
              "      <td>1</td>\n",
              "      <td>35.38</td>\n",
              "      <td>0</td>\n",
              "      <td>13</td>\n",
              "      <td>11</td>\n",
              "    </tr>\n",
              "    <tr>\n",
              "      <th>555</th>\n",
              "      <td>2023-07-11 13:39:00+03:00</td>\n",
              "      <td>0.330132</td>\n",
              "      <td>32.594515</td>\n",
              "      <td>64ad2c9de42253002982c4e9</td>\n",
              "      <td>Impala Avenue</td>\n",
              "      <td>1</td>\n",
              "      <td>4</td>\n",
              "      <td>88500</td>\n",
              "      <td>1</td>\n",
              "      <td>1</td>\n",
              "      <td>37.90</td>\n",
              "      <td>0</td>\n",
              "      <td>13</td>\n",
              "      <td>11</td>\n",
              "    </tr>\n",
              "  </tbody>\n",
              "</table>\n",
              "</div>"
            ],
            "text/plain": [
              "                     datetime       lat        lon                   site_id  \\\n",
              "554 2023-07-11 13:13:00+03:00  0.330132  32.594515  64ad2c9de42253002982c4e9   \n",
              "555 2023-07-11 13:39:00+03:00  0.330132  32.594515  64ad2c9de42253002982c4e9   \n",
              "\n",
              "         site_name  duration  qc  parameter  unit  poc  value  data_status  \\\n",
              "554  Impala Avenue         1   4      88500     1    1  35.38            0   \n",
              "555  Impala Avenue         1   4      88500     1    1  37.90            0   \n",
              "\n",
              "     hour  day  \n",
              "554    13   11  \n",
              "555    13   11  "
            ]
          },
          "execution_count": 176,
          "metadata": {},
          "output_type": "execute_result"
        }
      ],
      "source": [
        "Outdoor = data[data['site_name'] == \t\"Impala Ave\"]\n",
        "Indoor = data[data['site_name'] == \t\"Impala Avenue\"]\n",
        "Indoor.head(2)"
      ]
    },
    {
      "cell_type": "code",
      "execution_count": 177,
      "metadata": {
        "colab": {
          "base_uri": "https://localhost:8080/",
          "height": 112
        },
        "id": "MDi-WWHOSs2m",
        "outputId": "1a4de143-2655-40c3-cae1-b1a8907332f4"
      },
      "outputs": [
        {
          "data": {
            "text/html": [
              "<div>\n",
              "<style scoped>\n",
              "    .dataframe tbody tr th:only-of-type {\n",
              "        vertical-align: middle;\n",
              "    }\n",
              "\n",
              "    .dataframe tbody tr th {\n",
              "        vertical-align: top;\n",
              "    }\n",
              "\n",
              "    .dataframe thead th {\n",
              "        text-align: right;\n",
              "    }\n",
              "</style>\n",
              "<table border=\"1\" class=\"dataframe\">\n",
              "  <thead>\n",
              "    <tr style=\"text-align: right;\">\n",
              "      <th></th>\n",
              "      <th>datetime</th>\n",
              "      <th>lat</th>\n",
              "      <th>lon</th>\n",
              "      <th>site_id</th>\n",
              "      <th>site_name</th>\n",
              "      <th>duration</th>\n",
              "      <th>qc</th>\n",
              "      <th>parameter</th>\n",
              "      <th>unit</th>\n",
              "      <th>poc</th>\n",
              "      <th>value</th>\n",
              "      <th>data_status</th>\n",
              "      <th>hour</th>\n",
              "      <th>day</th>\n",
              "    </tr>\n",
              "  </thead>\n",
              "  <tbody>\n",
              "    <tr>\n",
              "      <th>0</th>\n",
              "      <td>2023-07-10 10:32:00+03:00</td>\n",
              "      <td>0.329728</td>\n",
              "      <td>32.603488</td>\n",
              "      <td>64a5755320511a001d1b4a3e</td>\n",
              "      <td>Impala Ave</td>\n",
              "      <td>1</td>\n",
              "      <td>4</td>\n",
              "      <td>88500</td>\n",
              "      <td>1</td>\n",
              "      <td>1</td>\n",
              "      <td>40.87</td>\n",
              "      <td>0</td>\n",
              "      <td>10</td>\n",
              "      <td>10</td>\n",
              "    </tr>\n",
              "    <tr>\n",
              "      <th>1</th>\n",
              "      <td>2023-07-10 13:02:00+03:00</td>\n",
              "      <td>0.329728</td>\n",
              "      <td>32.603488</td>\n",
              "      <td>64a5755320511a001d1b4a3e</td>\n",
              "      <td>Impala Ave</td>\n",
              "      <td>1</td>\n",
              "      <td>4</td>\n",
              "      <td>88500</td>\n",
              "      <td>1</td>\n",
              "      <td>1</td>\n",
              "      <td>34.28</td>\n",
              "      <td>0</td>\n",
              "      <td>13</td>\n",
              "      <td>10</td>\n",
              "    </tr>\n",
              "  </tbody>\n",
              "</table>\n",
              "</div>"
            ],
            "text/plain": [
              "                   datetime       lat        lon                   site_id  \\\n",
              "0 2023-07-10 10:32:00+03:00  0.329728  32.603488  64a5755320511a001d1b4a3e   \n",
              "1 2023-07-10 13:02:00+03:00  0.329728  32.603488  64a5755320511a001d1b4a3e   \n",
              "\n",
              "    site_name  duration  qc  parameter  unit  poc  value  data_status  hour  \\\n",
              "0  Impala Ave         1   4      88500     1    1  40.87            0    10   \n",
              "1  Impala Ave         1   4      88500     1    1  34.28            0    13   \n",
              "\n",
              "   day  \n",
              "0   10  \n",
              "1   10  "
            ]
          },
          "execution_count": 177,
          "metadata": {},
          "output_type": "execute_result"
        }
      ],
      "source": [
        "Outdoor.head(2)"
      ]
    },
    {
      "cell_type": "code",
      "execution_count": 178,
      "metadata": {
        "id": "YfsPdacGTPQW"
      },
      "outputs": [],
      "source": [
        "hour_group = Indoor.groupby(['hour'])['value'].mean().reset_index()\n",
        "hour_group_outdoor = Outdoor.groupby(['hour'])['value'].mean().reset_index()\n"
      ]
    },
    {
      "cell_type": "code",
      "execution_count": 179,
      "metadata": {
        "colab": {
          "base_uri": "https://localhost:8080/",
          "height": 542
        },
        "id": "0i2QlZi1hKqj",
        "outputId": "bad6f3ca-309f-4528-a56e-223e1e37fc2a"
      },
      "outputs": [
        {
          "data": {
            "application/vnd.plotly.v1+json": {
              "config": {
                "plotlyServerURL": "https://plot.ly"
              },
              "data": [
                {
                  "mode": "lines+markers",
                  "name": "indoor",
                  "type": "scatter",
                  "x": [
                    0,
                    1,
                    2,
                    3,
                    4,
                    5,
                    6,
                    7,
                    8,
                    9,
                    10,
                    11,
                    12,
                    13,
                    14,
                    15,
                    16,
                    17,
                    18,
                    19,
                    20,
                    21,
                    22,
                    23
                  ],
                  "y": [
                    38.91356725146199,
                    38.39942708333333,
                    38.74426666666667,
                    37.75533333333333,
                    39.0968,
                    38.66009950248756,
                    37.89251282051282,
                    39.52649122807017,
                    41.408589743589744,
                    43.39993939393939,
                    40.55142857142857,
                    39.22723076923077,
                    36.87577380952381,
                    35.74384615384616,
                    34.309583333333336,
                    31.598119658119657,
                    29.151733333333336,
                    30.129180327868855,
                    29.133035714285718,
                    31.062833333333337,
                    30.50743169398907,
                    33.24941176470588,
                    35.05119402985075,
                    35.95404761904762
                  ]
                },
                {
                  "mode": "lines+markers",
                  "name": "outdoor",
                  "type": "scatter",
                  "x": [
                    0,
                    1,
                    2,
                    3,
                    4,
                    5,
                    6,
                    7,
                    8,
                    9,
                    10,
                    11,
                    12,
                    13,
                    14,
                    15,
                    16,
                    17,
                    18,
                    19,
                    20,
                    21,
                    22,
                    23
                  ],
                  "y": [
                    43.33714285714286,
                    41.435833333333335,
                    41.15254901960785,
                    31.953030303030303,
                    39.047916666666666,
                    34.63666666666666,
                    41.35333333333333,
                    44.93666666666667,
                    47.721333333333334,
                    53.51833333333334,
                    42.34902777777778,
                    43.03269841269841,
                    38.48375,
                    31.747261904761906,
                    30.350354609929074,
                    27.942258064516132,
                    28.268863636363637,
                    32.432323232323235,
                    32.672753623188406,
                    36.86601851851852,
                    46.452843137254895,
                    51.0117094017094,
                    44.76185185185185,
                    44.873218390804595
                  ]
                }
              ],
              "layout": {
                "template": {
                  "data": {
                    "bar": [
                      {
                        "error_x": {
                          "color": "#2a3f5f"
                        },
                        "error_y": {
                          "color": "#2a3f5f"
                        },
                        "marker": {
                          "line": {
                            "color": "#E5ECF6",
                            "width": 0.5
                          },
                          "pattern": {
                            "fillmode": "overlay",
                            "size": 10,
                            "solidity": 0.2
                          }
                        },
                        "type": "bar"
                      }
                    ],
                    "barpolar": [
                      {
                        "marker": {
                          "line": {
                            "color": "#E5ECF6",
                            "width": 0.5
                          },
                          "pattern": {
                            "fillmode": "overlay",
                            "size": 10,
                            "solidity": 0.2
                          }
                        },
                        "type": "barpolar"
                      }
                    ],
                    "carpet": [
                      {
                        "aaxis": {
                          "endlinecolor": "#2a3f5f",
                          "gridcolor": "white",
                          "linecolor": "white",
                          "minorgridcolor": "white",
                          "startlinecolor": "#2a3f5f"
                        },
                        "baxis": {
                          "endlinecolor": "#2a3f5f",
                          "gridcolor": "white",
                          "linecolor": "white",
                          "minorgridcolor": "white",
                          "startlinecolor": "#2a3f5f"
                        },
                        "type": "carpet"
                      }
                    ],
                    "choropleth": [
                      {
                        "colorbar": {
                          "outlinewidth": 0,
                          "ticks": ""
                        },
                        "type": "choropleth"
                      }
                    ],
                    "contour": [
                      {
                        "colorbar": {
                          "outlinewidth": 0,
                          "ticks": ""
                        },
                        "colorscale": [
                          [
                            0,
                            "#0d0887"
                          ],
                          [
                            0.1111111111111111,
                            "#46039f"
                          ],
                          [
                            0.2222222222222222,
                            "#7201a8"
                          ],
                          [
                            0.3333333333333333,
                            "#9c179e"
                          ],
                          [
                            0.4444444444444444,
                            "#bd3786"
                          ],
                          [
                            0.5555555555555556,
                            "#d8576b"
                          ],
                          [
                            0.6666666666666666,
                            "#ed7953"
                          ],
                          [
                            0.7777777777777778,
                            "#fb9f3a"
                          ],
                          [
                            0.8888888888888888,
                            "#fdca26"
                          ],
                          [
                            1,
                            "#f0f921"
                          ]
                        ],
                        "type": "contour"
                      }
                    ],
                    "contourcarpet": [
                      {
                        "colorbar": {
                          "outlinewidth": 0,
                          "ticks": ""
                        },
                        "type": "contourcarpet"
                      }
                    ],
                    "heatmap": [
                      {
                        "colorbar": {
                          "outlinewidth": 0,
                          "ticks": ""
                        },
                        "colorscale": [
                          [
                            0,
                            "#0d0887"
                          ],
                          [
                            0.1111111111111111,
                            "#46039f"
                          ],
                          [
                            0.2222222222222222,
                            "#7201a8"
                          ],
                          [
                            0.3333333333333333,
                            "#9c179e"
                          ],
                          [
                            0.4444444444444444,
                            "#bd3786"
                          ],
                          [
                            0.5555555555555556,
                            "#d8576b"
                          ],
                          [
                            0.6666666666666666,
                            "#ed7953"
                          ],
                          [
                            0.7777777777777778,
                            "#fb9f3a"
                          ],
                          [
                            0.8888888888888888,
                            "#fdca26"
                          ],
                          [
                            1,
                            "#f0f921"
                          ]
                        ],
                        "type": "heatmap"
                      }
                    ],
                    "heatmapgl": [
                      {
                        "colorbar": {
                          "outlinewidth": 0,
                          "ticks": ""
                        },
                        "colorscale": [
                          [
                            0,
                            "#0d0887"
                          ],
                          [
                            0.1111111111111111,
                            "#46039f"
                          ],
                          [
                            0.2222222222222222,
                            "#7201a8"
                          ],
                          [
                            0.3333333333333333,
                            "#9c179e"
                          ],
                          [
                            0.4444444444444444,
                            "#bd3786"
                          ],
                          [
                            0.5555555555555556,
                            "#d8576b"
                          ],
                          [
                            0.6666666666666666,
                            "#ed7953"
                          ],
                          [
                            0.7777777777777778,
                            "#fb9f3a"
                          ],
                          [
                            0.8888888888888888,
                            "#fdca26"
                          ],
                          [
                            1,
                            "#f0f921"
                          ]
                        ],
                        "type": "heatmapgl"
                      }
                    ],
                    "histogram": [
                      {
                        "marker": {
                          "pattern": {
                            "fillmode": "overlay",
                            "size": 10,
                            "solidity": 0.2
                          }
                        },
                        "type": "histogram"
                      }
                    ],
                    "histogram2d": [
                      {
                        "colorbar": {
                          "outlinewidth": 0,
                          "ticks": ""
                        },
                        "colorscale": [
                          [
                            0,
                            "#0d0887"
                          ],
                          [
                            0.1111111111111111,
                            "#46039f"
                          ],
                          [
                            0.2222222222222222,
                            "#7201a8"
                          ],
                          [
                            0.3333333333333333,
                            "#9c179e"
                          ],
                          [
                            0.4444444444444444,
                            "#bd3786"
                          ],
                          [
                            0.5555555555555556,
                            "#d8576b"
                          ],
                          [
                            0.6666666666666666,
                            "#ed7953"
                          ],
                          [
                            0.7777777777777778,
                            "#fb9f3a"
                          ],
                          [
                            0.8888888888888888,
                            "#fdca26"
                          ],
                          [
                            1,
                            "#f0f921"
                          ]
                        ],
                        "type": "histogram2d"
                      }
                    ],
                    "histogram2dcontour": [
                      {
                        "colorbar": {
                          "outlinewidth": 0,
                          "ticks": ""
                        },
                        "colorscale": [
                          [
                            0,
                            "#0d0887"
                          ],
                          [
                            0.1111111111111111,
                            "#46039f"
                          ],
                          [
                            0.2222222222222222,
                            "#7201a8"
                          ],
                          [
                            0.3333333333333333,
                            "#9c179e"
                          ],
                          [
                            0.4444444444444444,
                            "#bd3786"
                          ],
                          [
                            0.5555555555555556,
                            "#d8576b"
                          ],
                          [
                            0.6666666666666666,
                            "#ed7953"
                          ],
                          [
                            0.7777777777777778,
                            "#fb9f3a"
                          ],
                          [
                            0.8888888888888888,
                            "#fdca26"
                          ],
                          [
                            1,
                            "#f0f921"
                          ]
                        ],
                        "type": "histogram2dcontour"
                      }
                    ],
                    "mesh3d": [
                      {
                        "colorbar": {
                          "outlinewidth": 0,
                          "ticks": ""
                        },
                        "type": "mesh3d"
                      }
                    ],
                    "parcoords": [
                      {
                        "line": {
                          "colorbar": {
                            "outlinewidth": 0,
                            "ticks": ""
                          }
                        },
                        "type": "parcoords"
                      }
                    ],
                    "pie": [
                      {
                        "automargin": true,
                        "type": "pie"
                      }
                    ],
                    "scatter": [
                      {
                        "fillpattern": {
                          "fillmode": "overlay",
                          "size": 10,
                          "solidity": 0.2
                        },
                        "type": "scatter"
                      }
                    ],
                    "scatter3d": [
                      {
                        "line": {
                          "colorbar": {
                            "outlinewidth": 0,
                            "ticks": ""
                          }
                        },
                        "marker": {
                          "colorbar": {
                            "outlinewidth": 0,
                            "ticks": ""
                          }
                        },
                        "type": "scatter3d"
                      }
                    ],
                    "scattercarpet": [
                      {
                        "marker": {
                          "colorbar": {
                            "outlinewidth": 0,
                            "ticks": ""
                          }
                        },
                        "type": "scattercarpet"
                      }
                    ],
                    "scattergeo": [
                      {
                        "marker": {
                          "colorbar": {
                            "outlinewidth": 0,
                            "ticks": ""
                          }
                        },
                        "type": "scattergeo"
                      }
                    ],
                    "scattergl": [
                      {
                        "marker": {
                          "colorbar": {
                            "outlinewidth": 0,
                            "ticks": ""
                          }
                        },
                        "type": "scattergl"
                      }
                    ],
                    "scattermapbox": [
                      {
                        "marker": {
                          "colorbar": {
                            "outlinewidth": 0,
                            "ticks": ""
                          }
                        },
                        "type": "scattermapbox"
                      }
                    ],
                    "scatterpolar": [
                      {
                        "marker": {
                          "colorbar": {
                            "outlinewidth": 0,
                            "ticks": ""
                          }
                        },
                        "type": "scatterpolar"
                      }
                    ],
                    "scatterpolargl": [
                      {
                        "marker": {
                          "colorbar": {
                            "outlinewidth": 0,
                            "ticks": ""
                          }
                        },
                        "type": "scatterpolargl"
                      }
                    ],
                    "scatterternary": [
                      {
                        "marker": {
                          "colorbar": {
                            "outlinewidth": 0,
                            "ticks": ""
                          }
                        },
                        "type": "scatterternary"
                      }
                    ],
                    "surface": [
                      {
                        "colorbar": {
                          "outlinewidth": 0,
                          "ticks": ""
                        },
                        "colorscale": [
                          [
                            0,
                            "#0d0887"
                          ],
                          [
                            0.1111111111111111,
                            "#46039f"
                          ],
                          [
                            0.2222222222222222,
                            "#7201a8"
                          ],
                          [
                            0.3333333333333333,
                            "#9c179e"
                          ],
                          [
                            0.4444444444444444,
                            "#bd3786"
                          ],
                          [
                            0.5555555555555556,
                            "#d8576b"
                          ],
                          [
                            0.6666666666666666,
                            "#ed7953"
                          ],
                          [
                            0.7777777777777778,
                            "#fb9f3a"
                          ],
                          [
                            0.8888888888888888,
                            "#fdca26"
                          ],
                          [
                            1,
                            "#f0f921"
                          ]
                        ],
                        "type": "surface"
                      }
                    ],
                    "table": [
                      {
                        "cells": {
                          "fill": {
                            "color": "#EBF0F8"
                          },
                          "line": {
                            "color": "white"
                          }
                        },
                        "header": {
                          "fill": {
                            "color": "#C8D4E3"
                          },
                          "line": {
                            "color": "white"
                          }
                        },
                        "type": "table"
                      }
                    ]
                  },
                  "layout": {
                    "annotationdefaults": {
                      "arrowcolor": "#2a3f5f",
                      "arrowhead": 0,
                      "arrowwidth": 1
                    },
                    "autotypenumbers": "strict",
                    "coloraxis": {
                      "colorbar": {
                        "outlinewidth": 0,
                        "ticks": ""
                      }
                    },
                    "colorscale": {
                      "diverging": [
                        [
                          0,
                          "#8e0152"
                        ],
                        [
                          0.1,
                          "#c51b7d"
                        ],
                        [
                          0.2,
                          "#de77ae"
                        ],
                        [
                          0.3,
                          "#f1b6da"
                        ],
                        [
                          0.4,
                          "#fde0ef"
                        ],
                        [
                          0.5,
                          "#f7f7f7"
                        ],
                        [
                          0.6,
                          "#e6f5d0"
                        ],
                        [
                          0.7,
                          "#b8e186"
                        ],
                        [
                          0.8,
                          "#7fbc41"
                        ],
                        [
                          0.9,
                          "#4d9221"
                        ],
                        [
                          1,
                          "#276419"
                        ]
                      ],
                      "sequential": [
                        [
                          0,
                          "#0d0887"
                        ],
                        [
                          0.1111111111111111,
                          "#46039f"
                        ],
                        [
                          0.2222222222222222,
                          "#7201a8"
                        ],
                        [
                          0.3333333333333333,
                          "#9c179e"
                        ],
                        [
                          0.4444444444444444,
                          "#bd3786"
                        ],
                        [
                          0.5555555555555556,
                          "#d8576b"
                        ],
                        [
                          0.6666666666666666,
                          "#ed7953"
                        ],
                        [
                          0.7777777777777778,
                          "#fb9f3a"
                        ],
                        [
                          0.8888888888888888,
                          "#fdca26"
                        ],
                        [
                          1,
                          "#f0f921"
                        ]
                      ],
                      "sequentialminus": [
                        [
                          0,
                          "#0d0887"
                        ],
                        [
                          0.1111111111111111,
                          "#46039f"
                        ],
                        [
                          0.2222222222222222,
                          "#7201a8"
                        ],
                        [
                          0.3333333333333333,
                          "#9c179e"
                        ],
                        [
                          0.4444444444444444,
                          "#bd3786"
                        ],
                        [
                          0.5555555555555556,
                          "#d8576b"
                        ],
                        [
                          0.6666666666666666,
                          "#ed7953"
                        ],
                        [
                          0.7777777777777778,
                          "#fb9f3a"
                        ],
                        [
                          0.8888888888888888,
                          "#fdca26"
                        ],
                        [
                          1,
                          "#f0f921"
                        ]
                      ]
                    },
                    "colorway": [
                      "#636efa",
                      "#EF553B",
                      "#00cc96",
                      "#ab63fa",
                      "#FFA15A",
                      "#19d3f3",
                      "#FF6692",
                      "#B6E880",
                      "#FF97FF",
                      "#FECB52"
                    ],
                    "font": {
                      "color": "#2a3f5f"
                    },
                    "geo": {
                      "bgcolor": "white",
                      "lakecolor": "white",
                      "landcolor": "#E5ECF6",
                      "showlakes": true,
                      "showland": true,
                      "subunitcolor": "white"
                    },
                    "hoverlabel": {
                      "align": "left"
                    },
                    "hovermode": "closest",
                    "mapbox": {
                      "style": "light"
                    },
                    "paper_bgcolor": "white",
                    "plot_bgcolor": "#E5ECF6",
                    "polar": {
                      "angularaxis": {
                        "gridcolor": "white",
                        "linecolor": "white",
                        "ticks": ""
                      },
                      "bgcolor": "#E5ECF6",
                      "radialaxis": {
                        "gridcolor": "white",
                        "linecolor": "white",
                        "ticks": ""
                      }
                    },
                    "scene": {
                      "xaxis": {
                        "backgroundcolor": "#E5ECF6",
                        "gridcolor": "white",
                        "gridwidth": 2,
                        "linecolor": "white",
                        "showbackground": true,
                        "ticks": "",
                        "zerolinecolor": "white"
                      },
                      "yaxis": {
                        "backgroundcolor": "#E5ECF6",
                        "gridcolor": "white",
                        "gridwidth": 2,
                        "linecolor": "white",
                        "showbackground": true,
                        "ticks": "",
                        "zerolinecolor": "white"
                      },
                      "zaxis": {
                        "backgroundcolor": "#E5ECF6",
                        "gridcolor": "white",
                        "gridwidth": 2,
                        "linecolor": "white",
                        "showbackground": true,
                        "ticks": "",
                        "zerolinecolor": "white"
                      }
                    },
                    "shapedefaults": {
                      "line": {
                        "color": "#2a3f5f"
                      }
                    },
                    "ternary": {
                      "aaxis": {
                        "gridcolor": "white",
                        "linecolor": "white",
                        "ticks": ""
                      },
                      "baxis": {
                        "gridcolor": "white",
                        "linecolor": "white",
                        "ticks": ""
                      },
                      "bgcolor": "#E5ECF6",
                      "caxis": {
                        "gridcolor": "white",
                        "linecolor": "white",
                        "ticks": ""
                      }
                    },
                    "title": {
                      "x": 0.05
                    },
                    "xaxis": {
                      "automargin": true,
                      "gridcolor": "white",
                      "linecolor": "white",
                      "ticks": "",
                      "title": {
                        "standoff": 15
                      },
                      "zerolinecolor": "white",
                      "zerolinewidth": 2
                    },
                    "yaxis": {
                      "automargin": true,
                      "gridcolor": "white",
                      "linecolor": "white",
                      "ticks": "",
                      "title": {
                        "standoff": 15
                      },
                      "zerolinecolor": "white",
                      "zerolinewidth": 2
                    }
                  }
                },
                "title": {
                  "text": "Diunal analysis based on the period of study: July 10, 2023 To August 15, 2023"
                },
                "xaxis": {
                  "tickvals": [
                    0,
                    1,
                    2,
                    3,
                    4,
                    5,
                    6,
                    7,
                    8,
                    9,
                    10,
                    11,
                    12,
                    13,
                    14,
                    15,
                    16,
                    17,
                    18,
                    19,
                    20,
                    21,
                    22,
                    23
                  ],
                  "title": {
                    "text": "Hour"
                  }
                },
                "yaxis": {
                  "title": {
                    "text": "Mean PM2.5"
                  }
                }
              }
            }
          },
          "metadata": {},
          "output_type": "display_data"
        }
      ],
      "source": [
        "fig.add_trace(go.Scatter(x=hour_group['hour'],y=hour_group['value'],mode='lines+markers',name='indoor'))\n",
        "fig.add_trace(go.Scatter(x=hour_group_outdoor['hour'],y=hour_group_outdoor['value'],mode='lines+markers',name='outdoor'))\n",
        "fig.update_layout(title_text='Diunal analysis based on the period of study: July 10, 2023 To August 15, 2023')\n",
        "fig.update_xaxes(\n",
        "    title='Hour',\n",
        "    tickvals=[0,1, 2, 3, 4, 5, 6, 7, 8, 9, 10, 11, 12, 13, 14, 15, 16, 17, 18, 19, 20, 21, 22, 23],  # Set the tick values (the points on the x-axis where the ticks will be displayed)\n",
        ")\n",
        "fig.update_yaxes(\n",
        "    title='Mean PM2.5')\n",
        "fig.show()"
      ]
    },
    {
      "cell_type": "code",
      "execution_count": 180,
      "metadata": {
        "id": "BG8lQePeZLC4"
      },
      "outputs": [],
      "source": [
        "Indoor1 = Indoor.groupby(['datetime'])['value'].mean().reset_index()\n",
        "Outdoor1 = Outdoor.groupby(['datetime'])['value'].mean().reset_index()"
      ]
    },
    {
      "cell_type": "code",
      "execution_count": 181,
      "metadata": {
        "colab": {
          "base_uri": "https://localhost:8080/",
          "height": 542
        },
        "id": "USR-0yczo-yk",
        "outputId": "6a877d5d-042b-4a4e-f5df-a72475dde4a9"
      },
      "outputs": [
        {
          "data": {
            "application/vnd.plotly.v1+json": {
              "config": {
                "plotlyServerURL": "https://plot.ly"
              },
              "data": [
                {
                  "mode": "lines+markers",
                  "name": "indoor",
                  "type": "scatter",
                  "x": [
                    "2023-07-11T13:13:00+03:00",
                    "2023-07-11T13:39:00+03:00",
                    "2023-07-11T13:41:00+03:00",
                    "2023-07-11T15:23:00+03:00",
                    "2023-07-11T15:48:00+03:00",
                    "2023-07-11T17:40:00+03:00",
                    "2023-07-11T18:50:00+03:00",
                    "2023-07-11T18:54:00+03:00",
                    "2023-07-11T19:05:00+03:00",
                    "2023-07-11T20:01:00+03:00",
                    "2023-07-11T20:36:00+03:00",
                    "2023-07-11T20:37:00+03:00",
                    "2023-07-11T20:47:00+03:00",
                    "2023-07-11T21:13:00+03:00",
                    "2023-07-11T22:09:00+03:00",
                    "2023-07-11T22:22:00+03:00",
                    "2023-07-11T22:35:00+03:00",
                    "2023-07-11T23:21:00+03:00",
                    "2023-07-11T23:45:00+03:00",
                    "2023-07-11T23:47:00+03:00",
                    "2023-07-11T23:58:00+03:00",
                    "2023-07-12T00:34:00+03:00",
                    "2023-07-12T01:17:00+03:00",
                    "2023-07-12T02:30:00+03:00",
                    "2023-07-12T03:26:00+03:00",
                    "2023-07-12T04:13:00+03:00",
                    "2023-07-12T04:27:00+03:00",
                    "2023-07-12T04:35:00+03:00",
                    "2023-07-12T04:49:00+03:00",
                    "2023-07-12T04:59:00+03:00",
                    "2023-07-12T05:21:00+03:00",
                    "2023-07-12T05:36:00+03:00",
                    "2023-07-12T06:00:00+03:00",
                    "2023-07-12T06:20:00+03:00",
                    "2023-07-12T08:27:00+03:00",
                    "2023-07-12T08:38:00+03:00",
                    "2023-07-12T08:52:00+03:00",
                    "2023-07-12T09:16:00+03:00",
                    "2023-07-12T09:24:00+03:00",
                    "2023-07-12T09:42:00+03:00",
                    "2023-07-12T10:13:00+03:00",
                    "2023-07-12T11:02:00+03:00",
                    "2023-07-12T11:22:00+03:00",
                    "2023-07-12T13:40:00+03:00",
                    "2023-07-12T13:45:00+03:00",
                    "2023-07-12T13:52:00+03:00",
                    "2023-07-12T13:55:00+03:00",
                    "2023-07-12T14:30:00+03:00",
                    "2023-07-12T14:32:00+03:00",
                    "2023-07-12T15:26:00+03:00",
                    "2023-07-12T16:12:00+03:00",
                    "2023-07-12T16:26:00+03:00",
                    "2023-07-12T17:00:00+03:00",
                    "2023-07-12T18:20:00+03:00",
                    "2023-07-12T19:12:00+03:00",
                    "2023-07-12T20:05:00+03:00",
                    "2023-07-12T20:21:00+03:00",
                    "2023-07-12T21:16:00+03:00",
                    "2023-07-12T21:51:00+03:00",
                    "2023-07-12T22:41:00+03:00",
                    "2023-07-12T22:43:00+03:00",
                    "2023-07-12T22:51:00+03:00",
                    "2023-07-12T23:41:00+03:00",
                    "2023-07-13T00:17:00+03:00",
                    "2023-07-13T01:02:00+03:00",
                    "2023-07-13T01:13:00+03:00",
                    "2023-07-13T01:40:00+03:00",
                    "2023-07-13T02:24:00+03:00",
                    "2023-07-13T03:20:00+03:00",
                    "2023-07-13T03:22:00+03:00",
                    "2023-07-13T03:46:00+03:00",
                    "2023-07-13T04:08:00+03:00",
                    "2023-07-13T04:45:00+03:00",
                    "2023-07-13T04:47:00+03:00",
                    "2023-07-13T05:05:00+03:00",
                    "2023-07-13T05:28:00+03:00",
                    "2023-07-13T05:33:00+03:00",
                    "2023-07-13T05:42:00+03:00",
                    "2023-07-13T05:56:00+03:00",
                    "2023-07-13T06:08:00+03:00",
                    "2023-07-13T06:55:00+03:00",
                    "2023-07-13T07:39:00+03:00",
                    "2023-07-13T07:54:00+03:00",
                    "2023-07-13T08:05:00+03:00",
                    "2023-07-13T09:40:00+03:00",
                    "2023-07-13T09:48:00+03:00",
                    "2023-07-13T09:58:00+03:00",
                    "2023-07-13T10:40:00+03:00",
                    "2023-07-13T10:58:00+03:00",
                    "2023-07-13T11:00:00+03:00",
                    "2023-07-13T11:14:00+03:00",
                    "2023-07-13T11:43:00+03:00",
                    "2023-07-13T11:59:00+03:00",
                    "2023-07-13T12:43:00+03:00",
                    "2023-07-13T13:28:00+03:00",
                    "2023-07-13T13:31:00+03:00",
                    "2023-07-13T14:06:00+03:00",
                    "2023-07-13T15:30:00+03:00",
                    "2023-07-13T16:52:00+03:00",
                    "2023-07-13T17:03:00+03:00",
                    "2023-07-13T17:15:00+03:00",
                    "2023-07-13T17:16:00+03:00",
                    "2023-07-13T17:28:00+03:00",
                    "2023-07-13T17:59:00+03:00",
                    "2023-07-13T18:02:00+03:00",
                    "2023-07-13T18:11:00+03:00",
                    "2023-07-13T19:09:00+03:00",
                    "2023-07-13T19:36:00+03:00",
                    "2023-07-13T19:43:00+03:00",
                    "2023-07-13T19:46:00+03:00",
                    "2023-07-13T23:07:00+03:00",
                    "2023-07-13T23:50:00+03:00",
                    "2023-07-14T00:13:00+03:00",
                    "2023-07-14T00:52:00+03:00",
                    "2023-07-14T01:13:00+03:00",
                    "2023-07-14T01:26:00+03:00",
                    "2023-07-14T01:49:00+03:00",
                    "2023-07-14T01:56:00+03:00",
                    "2023-07-14T01:59:00+03:00",
                    "2023-07-14T02:34:00+03:00",
                    "2023-07-14T02:49:00+03:00",
                    "2023-07-14T03:19:00+03:00",
                    "2023-07-14T03:44:00+03:00",
                    "2023-07-14T05:29:00+03:00",
                    "2023-07-14T06:17:00+03:00",
                    "2023-07-14T06:39:00+03:00",
                    "2023-07-14T07:06:00+03:00",
                    "2023-07-14T07:15:00+03:00",
                    "2023-07-14T07:39:00+03:00",
                    "2023-07-14T08:37:00+03:00",
                    "2023-07-14T08:38:00+03:00",
                    "2023-07-14T09:12:00+03:00",
                    "2023-07-14T09:26:00+03:00",
                    "2023-07-14T09:35:00+03:00",
                    "2023-07-14T10:57:00+03:00",
                    "2023-07-14T11:11:00+03:00",
                    "2023-07-14T11:18:00+03:00",
                    "2023-07-14T11:43:00+03:00",
                    "2023-07-14T13:33:00+03:00",
                    "2023-07-14T15:30:00+03:00",
                    "2023-07-14T16:38:00+03:00",
                    "2023-07-14T17:23:00+03:00",
                    "2023-07-14T18:12:00+03:00",
                    "2023-07-14T18:43:00+03:00",
                    "2023-07-14T19:06:00+03:00",
                    "2023-07-14T19:08:00+03:00",
                    "2023-07-14T19:34:00+03:00",
                    "2023-07-14T19:56:00+03:00",
                    "2023-07-14T19:57:00+03:00",
                    "2023-07-14T20:20:00+03:00",
                    "2023-07-14T20:58:00+03:00",
                    "2023-07-14T21:06:00+03:00",
                    "2023-07-14T21:16:00+03:00",
                    "2023-07-14T21:39:00+03:00",
                    "2023-07-14T22:06:00+03:00",
                    "2023-07-14T23:16:00+03:00",
                    "2023-07-14T23:29:00+03:00",
                    "2023-07-14T23:35:00+03:00",
                    "2023-07-15T01:36:00+03:00",
                    "2023-07-15T02:08:00+03:00",
                    "2023-07-15T02:21:00+03:00",
                    "2023-07-15T03:42:00+03:00",
                    "2023-07-15T03:46:00+03:00",
                    "2023-07-15T04:09:00+03:00",
                    "2023-07-15T04:18:00+03:00",
                    "2023-07-15T04:57:00+03:00",
                    "2023-07-15T05:16:00+03:00",
                    "2023-07-15T06:15:00+03:00",
                    "2023-07-15T06:49:00+03:00",
                    "2023-07-15T09:22:00+03:00",
                    "2023-07-15T10:53:00+03:00",
                    "2023-07-15T11:18:00+03:00",
                    "2023-07-15T11:20:00+03:00",
                    "2023-07-15T11:31:00+03:00",
                    "2023-07-15T12:12:00+03:00",
                    "2023-07-15T12:54:00+03:00",
                    "2023-07-15T13:13:00+03:00",
                    "2023-07-15T13:35:00+03:00",
                    "2023-07-15T13:39:00+03:00",
                    "2023-07-15T14:04:00+03:00",
                    "2023-07-15T14:39:00+03:00",
                    "2023-07-15T15:13:00+03:00",
                    "2023-07-15T15:35:00+03:00",
                    "2023-07-15T17:42:00+03:00",
                    "2023-07-15T18:29:00+03:00",
                    "2023-07-15T18:31:00+03:00",
                    "2023-07-15T19:20:00+03:00",
                    "2023-07-15T20:19:00+03:00",
                    "2023-07-15T21:16:00+03:00",
                    "2023-07-15T21:25:00+03:00",
                    "2023-07-15T23:45:00+03:00",
                    "2023-07-16T00:32:00+03:00",
                    "2023-07-16T01:10:00+03:00",
                    "2023-07-16T01:22:00+03:00",
                    "2023-07-16T01:32:00+03:00",
                    "2023-07-16T02:16:00+03:00",
                    "2023-07-16T02:55:00+03:00",
                    "2023-07-16T04:01:00+03:00",
                    "2023-07-16T04:59:00+03:00",
                    "2023-07-16T05:38:00+03:00",
                    "2023-07-16T06:13:00+03:00",
                    "2023-07-16T06:44:00+03:00",
                    "2023-07-16T07:10:00+03:00",
                    "2023-07-16T08:28:00+03:00",
                    "2023-07-16T08:32:00+03:00",
                    "2023-07-16T08:44:00+03:00",
                    "2023-07-16T09:09:00+03:00",
                    "2023-07-16T09:29:00+03:00",
                    "2023-07-16T09:43:00+03:00",
                    "2023-07-16T10:30:00+03:00",
                    "2023-07-16T11:01:00+03:00",
                    "2023-07-16T11:24:00+03:00",
                    "2023-07-16T11:25:00+03:00",
                    "2023-07-16T13:10:00+03:00",
                    "2023-07-16T13:11:00+03:00",
                    "2023-07-16T13:23:00+03:00",
                    "2023-07-16T13:48:00+03:00",
                    "2023-07-16T14:08:00+03:00",
                    "2023-07-16T16:33:00+03:00",
                    "2023-07-16T16:51:00+03:00",
                    "2023-07-16T16:52:00+03:00",
                    "2023-07-16T16:56:00+03:00",
                    "2023-07-16T17:14:00+03:00",
                    "2023-07-16T17:30:00+03:00",
                    "2023-07-16T18:51:00+03:00",
                    "2023-07-16T18:59:00+03:00",
                    "2023-07-16T19:23:00+03:00",
                    "2023-07-16T20:02:00+03:00",
                    "2023-07-16T20:09:00+03:00",
                    "2023-07-16T20:54:00+03:00",
                    "2023-07-16T20:59:00+03:00",
                    "2023-07-16T21:21:00+03:00",
                    "2023-07-16T21:25:00+03:00",
                    "2023-07-16T22:10:00+03:00",
                    "2023-07-16T22:18:00+03:00",
                    "2023-07-16T22:54:00+03:00",
                    "2023-07-16T23:19:00+03:00",
                    "2023-07-16T23:20:00+03:00",
                    "2023-07-16T23:44:00+03:00",
                    "2023-07-17T00:29:00+03:00",
                    "2023-07-17T01:07:00+03:00",
                    "2023-07-17T02:46:00+03:00",
                    "2023-07-17T04:46:00+03:00",
                    "2023-07-17T05:34:00+03:00",
                    "2023-07-17T06:58:00+03:00",
                    "2023-07-17T07:16:00+03:00",
                    "2023-07-17T07:40:00+03:00",
                    "2023-07-17T08:50:00+03:00",
                    "2023-07-17T08:51:00+03:00",
                    "2023-07-17T09:13:00+03:00",
                    "2023-07-17T09:39:00+03:00",
                    "2023-07-17T10:25:00+03:00",
                    "2023-07-17T10:57:00+03:00",
                    "2023-07-17T11:14:00+03:00",
                    "2023-07-17T13:12:00+03:00",
                    "2023-07-17T13:58:00+03:00",
                    "2023-07-17T14:32:00+03:00",
                    "2023-07-17T15:09:00+03:00",
                    "2023-07-17T15:42:00+03:00",
                    "2023-07-17T17:15:00+03:00",
                    "2023-07-17T17:17:00+03:00",
                    "2023-07-17T18:35:00+03:00",
                    "2023-07-17T19:12:00+03:00",
                    "2023-07-17T19:15:00+03:00",
                    "2023-07-17T19:49:00+03:00",
                    "2023-07-17T19:59:00+03:00",
                    "2023-07-17T21:58:00+03:00",
                    "2023-07-17T22:43:00+03:00",
                    "2023-07-17T23:27:00+03:00",
                    "2023-07-18T00:14:00+03:00",
                    "2023-07-18T00:19:00+03:00",
                    "2023-07-18T01:04:00+03:00",
                    "2023-07-18T02:35:00+03:00",
                    "2023-07-18T03:21:00+03:00",
                    "2023-07-18T03:33:00+03:00",
                    "2023-07-18T03:34:00+03:00",
                    "2023-07-18T04:21:00+03:00",
                    "2023-07-18T04:35:00+03:00",
                    "2023-07-18T04:45:00+03:00",
                    "2023-07-18T04:56:00+03:00",
                    "2023-07-18T05:52:00+03:00",
                    "2023-07-18T06:03:00+03:00",
                    "2023-07-18T06:31:00+03:00",
                    "2023-07-18T06:50:00+03:00",
                    "2023-07-18T07:00:00+03:00",
                    "2023-07-18T07:16:00+03:00",
                    "2023-07-18T07:40:00+03:00",
                    "2023-07-18T08:01:00+03:00",
                    "2023-07-18T08:59:00+03:00",
                    "2023-07-18T11:42:00+03:00",
                    "2023-07-18T14:59:00+03:00",
                    "2023-07-18T15:26:00+03:00",
                    "2023-07-18T16:23:00+03:00",
                    "2023-07-18T17:12:00+03:00",
                    "2023-07-18T19:56:00+03:00",
                    "2023-07-18T21:02:00+03:00",
                    "2023-07-18T21:15:00+03:00",
                    "2023-07-18T21:29:00+03:00",
                    "2023-07-18T23:12:00+03:00",
                    "2023-07-18T23:13:00+03:00",
                    "2023-07-18T23:16:00+03:00",
                    "2023-07-18T23:36:00+03:00",
                    "2023-07-18T23:38:00+03:00",
                    "2023-07-19T00:01:00+03:00",
                    "2023-07-19T00:50:00+03:00",
                    "2023-07-19T01:34:00+03:00",
                    "2023-07-19T02:46:00+03:00",
                    "2023-07-19T02:54:00+03:00",
                    "2023-07-19T03:07:00+03:00",
                    "2023-07-19T03:28:00+03:00",
                    "2023-07-19T04:05:00+03:00",
                    "2023-07-19T04:40:00+03:00",
                    "2023-07-19T05:01:00+03:00",
                    "2023-07-19T05:49:00+03:00",
                    "2023-07-19T07:02:00+03:00",
                    "2023-07-19T07:36:00+03:00",
                    "2023-07-19T07:50:00+03:00",
                    "2023-07-19T08:00:00+03:00",
                    "2023-07-19T10:44:00+03:00",
                    "2023-07-19T11:34:00+03:00",
                    "2023-07-19T11:42:00+03:00",
                    "2023-07-19T12:07:00+03:00",
                    "2023-07-19T12:42:00+03:00",
                    "2023-07-19T13:06:00+03:00",
                    "2023-07-19T13:16:00+03:00",
                    "2023-07-19T14:50:00+03:00",
                    "2023-07-19T15:02:00+03:00",
                    "2023-07-19T15:12:00+03:00",
                    "2023-07-19T15:14:00+03:00",
                    "2023-07-19T15:36:00+03:00",
                    "2023-07-19T16:13:00+03:00",
                    "2023-07-19T16:35:00+03:00",
                    "2023-07-19T16:49:00+03:00",
                    "2023-07-19T17:07:00+03:00",
                    "2023-07-19T17:49:00+03:00",
                    "2023-07-19T18:01:00+03:00",
                    "2023-07-19T18:42:00+03:00",
                    "2023-07-19T18:53:00+03:00",
                    "2023-07-19T19:06:00+03:00",
                    "2023-07-19T20:50:00+03:00",
                    "2023-07-19T21:40:00+03:00",
                    "2023-07-19T22:00:00+03:00",
                    "2023-07-19T23:25:00+03:00",
                    "2023-07-20T00:01:00+03:00",
                    "2023-07-20T00:32:00+03:00",
                    "2023-07-20T01:33:00+03:00",
                    "2023-07-20T03:04:00+03:00",
                    "2023-07-20T03:27:00+03:00",
                    "2023-07-20T04:12:00+03:00",
                    "2023-07-20T04:50:00+03:00",
                    "2023-07-20T05:59:00+03:00",
                    "2023-07-20T06:35:00+03:00",
                    "2023-07-20T06:45:00+03:00",
                    "2023-07-20T07:19:00+03:00",
                    "2023-07-20T07:21:00+03:00",
                    "2023-07-20T08:42:00+03:00",
                    "2023-07-20T09:19:00+03:00",
                    "2023-07-20T09:53:00+03:00",
                    "2023-07-20T09:54:00+03:00",
                    "2023-07-20T11:24:00+03:00",
                    "2023-07-20T11:25:00+03:00",
                    "2023-07-20T11:49:00+03:00",
                    "2023-07-20T11:51:00+03:00",
                    "2023-07-20T12:27:00+03:00",
                    "2023-07-20T13:00:00+03:00",
                    "2023-07-20T13:13:00+03:00",
                    "2023-07-20T13:43:00+03:00",
                    "2023-07-20T14:01:00+03:00",
                    "2023-07-20T14:02:00+03:00",
                    "2023-07-20T14:36:00+03:00",
                    "2023-07-20T15:18:00+03:00",
                    "2023-07-20T17:19:00+03:00",
                    "2023-07-20T18:13:00+03:00",
                    "2023-07-20T18:38:00+03:00",
                    "2023-07-20T18:39:00+03:00",
                    "2023-07-20T19:12:00+03:00",
                    "2023-07-20T19:26:00+03:00",
                    "2023-07-20T20:14:00+03:00",
                    "2023-07-20T21:32:00+03:00",
                    "2023-07-20T22:40:00+03:00",
                    "2023-07-20T23:41:00+03:00",
                    "2023-07-21T00:15:00+03:00",
                    "2023-07-21T01:52:00+03:00",
                    "2023-07-21T03:21:00+03:00",
                    "2023-07-21T03:22:00+03:00",
                    "2023-07-21T04:12:00+03:00",
                    "2023-07-21T05:11:00+03:00",
                    "2023-07-21T05:22:00+03:00",
                    "2023-07-21T05:56:00+03:00",
                    "2023-07-21T06:11:00+03:00",
                    "2023-07-21T06:21:00+03:00",
                    "2023-07-21T06:41:00+03:00",
                    "2023-07-21T06:43:00+03:00",
                    "2023-07-21T07:45:00+03:00",
                    "2023-07-21T08:26:00+03:00",
                    "2023-07-21T09:59:00+03:00",
                    "2023-07-21T10:27:00+03:00",
                    "2023-07-21T10:38:00+03:00",
                    "2023-07-21T10:57:00+03:00",
                    "2023-07-21T11:21:00+03:00",
                    "2023-07-21T11:46:00+03:00",
                    "2023-07-21T12:23:00+03:00",
                    "2023-07-21T13:33:00+03:00",
                    "2023-07-21T14:55:00+03:00",
                    "2023-07-21T15:08:00+03:00",
                    "2023-07-21T15:16:00+03:00",
                    "2023-07-21T15:31:00+03:00",
                    "2023-07-21T16:15:00+03:00",
                    "2023-07-21T16:26:00+03:00",
                    "2023-07-21T16:29:00+03:00",
                    "2023-07-21T17:13:00+03:00",
                    "2023-07-21T19:09:00+03:00",
                    "2023-07-21T20:53:00+03:00",
                    "2023-07-21T21:11:00+03:00",
                    "2023-07-21T22:54:00+03:00",
                    "2023-07-21T23:28:00+03:00",
                    "2023-07-22T00:28:00+03:00",
                    "2023-07-22T00:39:00+03:00",
                    "2023-07-22T00:49:00+03:00",
                    "2023-07-22T01:05:00+03:00",
                    "2023-07-22T01:59:00+03:00",
                    "2023-07-22T02:04:00+03:00",
                    "2023-07-22T02:37:00+03:00",
                    "2023-07-22T02:56:00+03:00",
                    "2023-07-22T04:06:00+03:00",
                    "2023-07-22T04:08:00+03:00",
                    "2023-07-22T04:43:00+03:00",
                    "2023-07-22T05:33:00+03:00",
                    "2023-07-22T05:42:00+03:00",
                    "2023-07-22T06:07:00+03:00",
                    "2023-07-22T06:50:00+03:00",
                    "2023-07-22T08:02:00+03:00",
                    "2023-07-22T08:03:00+03:00",
                    "2023-07-22T08:26:00+03:00",
                    "2023-07-22T10:00:00+03:00",
                    "2023-07-22T10:34:00+03:00",
                    "2023-07-22T11:56:00+03:00",
                    "2023-07-22T12:04:00+03:00",
                    "2023-07-22T12:05:00+03:00",
                    "2023-07-22T13:30:00+03:00",
                    "2023-07-22T14:02:00+03:00",
                    "2023-07-22T14:15:00+03:00",
                    "2023-07-22T14:26:00+03:00",
                    "2023-07-22T14:27:00+03:00",
                    "2023-07-22T15:01:00+03:00",
                    "2023-07-22T15:03:00+03:00",
                    "2023-07-22T15:13:00+03:00",
                    "2023-07-22T15:23:00+03:00",
                    "2023-07-22T15:38:00+03:00",
                    "2023-07-22T15:52:00+03:00",
                    "2023-07-22T16:46:00+03:00",
                    "2023-07-22T16:49:00+03:00",
                    "2023-07-22T17:22:00+03:00",
                    "2023-07-22T17:57:00+03:00",
                    "2023-07-22T19:50:00+03:00",
                    "2023-07-22T20:42:00+03:00",
                    "2023-07-22T20:44:00+03:00",
                    "2023-07-22T21:07:00+03:00",
                    "2023-07-22T21:27:00+03:00",
                    "2023-07-22T21:50:00+03:00",
                    "2023-07-22T22:15:00+03:00",
                    "2023-07-22T22:25:00+03:00",
                    "2023-07-22T22:26:00+03:00",
                    "2023-07-22T22:51:00+03:00",
                    "2023-07-22T23:25:00+03:00",
                    "2023-07-23T00:02:00+03:00",
                    "2023-07-23T00:24:00+03:00",
                    "2023-07-23T01:10:00+03:00",
                    "2023-07-23T01:33:00+03:00",
                    "2023-07-23T01:34:00+03:00",
                    "2023-07-23T02:17:00+03:00",
                    "2023-07-23T02:41:00+03:00",
                    "2023-07-23T03:53:00+03:00",
                    "2023-07-23T04:26:00+03:00",
                    "2023-07-23T04:39:00+03:00",
                    "2023-07-23T05:03:00+03:00",
                    "2023-07-23T05:24:00+03:00",
                    "2023-07-23T06:46:00+03:00",
                    "2023-07-23T06:58:00+03:00",
                    "2023-07-23T07:59:00+03:00",
                    "2023-07-23T08:08:00+03:00",
                    "2023-07-23T08:10:00+03:00",
                    "2023-07-23T09:45:00+03:00",
                    "2023-07-23T10:39:00+03:00",
                    "2023-07-23T11:49:00+03:00",
                    "2023-07-23T12:28:00+03:00",
                    "2023-07-23T12:29:00+03:00",
                    "2023-07-23T12:38:00+03:00",
                    "2023-07-23T14:58:00+03:00",
                    "2023-07-23T15:31:00+03:00",
                    "2023-07-23T16:55:00+03:00",
                    "2023-07-23T16:57:00+03:00",
                    "2023-07-23T17:51:00+03:00",
                    "2023-07-23T18:20:00+03:00",
                    "2023-07-23T18:32:00+03:00",
                    "2023-07-23T21:09:00+03:00",
                    "2023-07-23T21:25:00+03:00",
                    "2023-07-23T22:24:00+03:00",
                    "2023-07-23T22:58:00+03:00",
                    "2023-07-24T01:50:00+03:00",
                    "2023-07-24T03:27:00+03:00",
                    "2023-07-24T03:48:00+03:00",
                    "2023-07-24T05:44:00+03:00",
                    "2023-07-24T05:54:00+03:00",
                    "2023-07-24T06:58:00+03:00",
                    "2023-07-24T07:07:00+03:00",
                    "2023-07-24T07:52:00+03:00",
                    "2023-07-24T08:03:00+03:00",
                    "2023-07-24T09:06:00+03:00",
                    "2023-07-24T09:12:00+03:00",
                    "2023-07-24T09:26:00+03:00",
                    "2023-07-24T09:49:00+03:00",
                    "2023-07-24T10:59:00+03:00",
                    "2023-07-24T11:26:00+03:00",
                    "2023-07-24T11:48:00+03:00",
                    "2023-07-24T11:57:00+03:00",
                    "2023-07-24T12:46:00+03:00",
                    "2023-07-24T12:57:00+03:00",
                    "2023-07-24T13:29:00+03:00",
                    "2023-07-24T14:32:00+03:00",
                    "2023-07-24T14:44:00+03:00",
                    "2023-07-24T15:03:00+03:00",
                    "2023-07-24T17:34:00+03:00",
                    "2023-07-24T17:37:00+03:00",
                    "2023-07-24T17:48:00+03:00",
                    "2023-07-24T17:58:00+03:00",
                    "2023-07-24T18:44:00+03:00",
                    "2023-07-24T19:11:00+03:00",
                    "2023-07-24T19:33:00+03:00",
                    "2023-07-24T20:06:00+03:00",
                    "2023-07-24T20:28:00+03:00",
                    "2023-07-24T20:51:00+03:00",
                    "2023-07-24T22:14:00+03:00",
                    "2023-07-24T23:03:00+03:00",
                    "2023-07-25T00:11:00+03:00",
                    "2023-07-25T00:24:00+03:00",
                    "2023-07-25T00:25:00+03:00",
                    "2023-07-25T01:45:00+03:00",
                    "2023-07-25T01:57:00+03:00",
                    "2023-07-25T02:30:00+03:00",
                    "2023-07-25T04:05:00+03:00",
                    "2023-07-25T04:41:00+03:00",
                    "2023-07-25T05:50:00+03:00",
                    "2023-07-25T06:14:00+03:00",
                    "2023-07-25T06:23:00+03:00",
                    "2023-07-25T06:46:00+03:00",
                    "2023-07-25T06:59:00+03:00",
                    "2023-07-25T07:19:00+03:00",
                    "2023-07-25T07:20:00+03:00",
                    "2023-07-25T07:32:00+03:00",
                    "2023-07-25T07:36:00+03:00",
                    "2023-07-25T08:52:00+03:00",
                    "2023-07-25T08:53:00+03:00",
                    "2023-07-25T09:07:00+03:00",
                    "2023-07-25T09:54:00+03:00",
                    "2023-07-25T10:30:00+03:00",
                    "2023-07-25T11:24:00+03:00",
                    "2023-07-25T11:58:00+03:00",
                    "2023-07-25T12:01:00+03:00",
                    "2023-07-25T13:10:00+03:00",
                    "2023-07-25T13:46:00+03:00",
                    "2023-07-25T14:47:00+03:00",
                    "2023-07-25T15:23:00+03:00",
                    "2023-07-25T15:33:00+03:00",
                    "2023-07-25T15:42:00+03:00",
                    "2023-07-25T15:53:00+03:00",
                    "2023-07-25T16:09:00+03:00",
                    "2023-07-25T17:08:00+03:00",
                    "2023-07-25T17:38:00+03:00",
                    "2023-07-25T17:50:00+03:00",
                    "2023-07-25T17:53:00+03:00",
                    "2023-07-25T18:00:00+03:00",
                    "2023-07-25T18:03:00+03:00",
                    "2023-07-25T18:29:00+03:00",
                    "2023-07-25T18:39:00+03:00",
                    "2023-07-25T18:40:00+03:00",
                    "2023-07-25T19:25:00+03:00",
                    "2023-07-25T20:10:00+03:00",
                    "2023-07-25T20:13:00+03:00",
                    "2023-07-25T20:20:00+03:00",
                    "2023-07-25T20:44:00+03:00",
                    "2023-07-25T20:45:00+03:00",
                    "2023-07-25T21:09:00+03:00",
                    "2023-07-26T00:15:00+03:00",
                    "2023-07-26T00:27:00+03:00",
                    "2023-07-26T01:03:00+03:00",
                    "2023-07-26T01:11:00+03:00",
                    "2023-07-26T01:22:00+03:00",
                    "2023-07-26T04:19:00+03:00",
                    "2023-07-26T04:31:00+03:00",
                    "2023-07-26T04:42:00+03:00",
                    "2023-07-26T05:18:00+03:00",
                    "2023-07-26T05:39:00+03:00",
                    "2023-07-26T05:52:00+03:00",
                    "2023-07-26T06:26:00+03:00",
                    "2023-07-26T06:28:00+03:00",
                    "2023-07-26T07:11:00+03:00",
                    "2023-07-26T09:12:00+03:00",
                    "2023-07-26T09:33:00+03:00",
                    "2023-07-26T10:19:00+03:00",
                    "2023-07-26T10:20:00+03:00",
                    "2023-07-26T10:41:00+03:00",
                    "2023-07-26T10:55:00+03:00",
                    "2023-07-26T11:18:00+03:00",
                    "2023-07-26T12:30:00+03:00",
                    "2023-07-26T13:04:00+03:00",
                    "2023-07-26T14:38:00+03:00",
                    "2023-07-26T14:48:00+03:00",
                    "2023-07-26T14:59:00+03:00",
                    "2023-07-26T15:24:00+03:00",
                    "2023-07-26T15:58:00+03:00",
                    "2023-07-26T16:13:00+03:00",
                    "2023-07-26T16:47:00+03:00",
                    "2023-07-26T17:05:00+03:00",
                    "2023-07-26T18:19:00+03:00",
                    "2023-07-26T18:20:00+03:00",
                    "2023-07-26T19:16:00+03:00",
                    "2023-07-26T19:17:00+03:00",
                    "2023-07-26T20:02:00+03:00",
                    "2023-07-26T22:11:00+03:00",
                    "2023-07-26T22:25:00+03:00",
                    "2023-07-26T22:27:00+03:00",
                    "2023-07-26T22:50:00+03:00",
                    "2023-07-26T22:56:00+03:00",
                    "2023-07-26T23:30:00+03:00",
                    "2023-07-27T00:06:00+03:00",
                    "2023-07-27T01:43:00+03:00",
                    "2023-07-27T02:26:00+03:00",
                    "2023-07-27T02:27:00+03:00",
                    "2023-07-27T03:02:00+03:00",
                    "2023-07-27T03:24:00+03:00",
                    "2023-07-27T04:24:00+03:00",
                    "2023-07-27T04:50:00+03:00",
                    "2023-07-27T06:30:00+03:00",
                    "2023-07-27T07:30:00+03:00",
                    "2023-07-27T08:19:00+03:00",
                    "2023-07-27T10:00:00+03:00",
                    "2023-07-27T10:10:00+03:00",
                    "2023-07-27T10:21:00+03:00",
                    "2023-07-27T10:35:00+03:00",
                    "2023-07-27T10:48:00+03:00",
                    "2023-07-27T11:09:00+03:00",
                    "2023-07-27T12:30:00+03:00",
                    "2023-07-27T13:06:00+03:00",
                    "2023-07-27T13:27:00+03:00",
                    "2023-07-27T13:32:00+03:00",
                    "2023-07-27T15:01:00+03:00",
                    "2023-07-27T15:16:00+03:00",
                    "2023-07-27T15:42:00+03:00",
                    "2023-07-27T16:50:00+03:00",
                    "2023-07-27T17:13:00+03:00",
                    "2023-07-27T17:35:00+03:00",
                    "2023-07-27T17:48:00+03:00",
                    "2023-07-27T18:10:00+03:00",
                    "2023-07-27T18:20:00+03:00",
                    "2023-07-27T19:10:00+03:00",
                    "2023-07-27T19:32:00+03:00",
                    "2023-07-27T20:20:00+03:00",
                    "2023-07-27T21:08:00+03:00",
                    "2023-07-27T22:43:00+03:00",
                    "2023-07-27T23:04:00+03:00",
                    "2023-07-27T23:05:00+03:00",
                    "2023-07-27T23:16:00+03:00",
                    "2023-07-27T23:17:00+03:00",
                    "2023-07-27T23:29:00+03:00",
                    "2023-07-27T23:37:00+03:00",
                    "2023-07-28T00:01:00+03:00",
                    "2023-07-28T00:13:00+03:00",
                    "2023-07-28T00:59:00+03:00",
                    "2023-07-28T02:09:00+03:00",
                    "2023-07-28T02:33:00+03:00",
                    "2023-07-28T02:47:00+03:00",
                    "2023-07-28T03:21:00+03:00",
                    "2023-07-28T03:31:00+03:00",
                    "2023-07-28T04:06:00+03:00",
                    "2023-07-28T04:30:00+03:00",
                    "2023-07-28T04:41:00+03:00",
                    "2023-07-28T05:04:00+03:00",
                    "2023-07-28T07:30:00+03:00",
                    "2023-07-28T08:01:00+03:00",
                    "2023-07-28T08:58:00+03:00",
                    "2023-07-28T09:44:00+03:00",
                    "2023-07-28T10:08:00+03:00",
                    "2023-07-28T11:17:00+03:00",
                    "2023-07-28T11:43:00+03:00",
                    "2023-07-28T12:18:00+03:00",
                    "2023-07-28T12:31:00+03:00",
                    "2023-07-28T12:52:00+03:00",
                    "2023-07-28T13:27:00+03:00",
                    "2023-07-28T13:41:00+03:00",
                    "2023-07-28T13:49:00+03:00",
                    "2023-07-28T13:51:00+03:00",
                    "2023-07-28T13:52:00+03:00",
                    "2023-07-28T15:34:00+03:00",
                    "2023-07-28T17:56:00+03:00",
                    "2023-07-28T20:04:00+03:00",
                    "2023-07-28T20:06:00+03:00",
                    "2023-07-28T21:05:00+03:00",
                    "2023-07-28T21:40:00+03:00",
                    "2023-07-28T22:02:00+03:00",
                    "2023-07-28T22:04:00+03:00",
                    "2023-07-28T22:27:00+03:00",
                    "2023-07-28T23:14:00+03:00",
                    "2023-07-28T23:15:00+03:00",
                    "2023-07-29T00:34:00+03:00",
                    "2023-07-29T01:29:00+03:00",
                    "2023-07-29T01:30:00+03:00",
                    "2023-07-29T02:29:00+03:00",
                    "2023-07-29T02:43:00+03:00",
                    "2023-07-29T03:04:00+03:00",
                    "2023-07-29T03:16:00+03:00",
                    "2023-07-29T03:49:00+03:00",
                    "2023-07-29T04:05:00+03:00",
                    "2023-07-29T04:14:00+03:00",
                    "2023-07-29T04:28:00+03:00",
                    "2023-07-29T05:47:00+03:00",
                    "2023-07-29T07:10:00+03:00",
                    "2023-07-29T07:36:00+03:00",
                    "2023-07-29T08:23:00+03:00",
                    "2023-07-29T09:32:00+03:00",
                    "2023-07-29T09:40:00+03:00",
                    "2023-07-29T09:53:00+03:00",
                    "2023-07-29T09:54:00+03:00",
                    "2023-07-29T10:05:00+03:00",
                    "2023-07-29T10:06:00+03:00",
                    "2023-07-29T10:49:00+03:00",
                    "2023-07-29T11:27:00+03:00",
                    "2023-07-29T11:28:00+03:00",
                    "2023-07-29T12:48:00+03:00",
                    "2023-07-29T13:13:00+03:00",
                    "2023-07-29T13:36:00+03:00",
                    "2023-07-29T14:21:00+03:00",
                    "2023-07-29T14:24:00+03:00",
                    "2023-07-29T14:25:00+03:00",
                    "2023-07-29T15:06:00+03:00",
                    "2023-07-29T16:32:00+03:00",
                    "2023-07-29T17:06:00+03:00",
                    "2023-07-29T17:51:00+03:00",
                    "2023-07-29T18:50:00+03:00",
                    "2023-07-29T20:28:00+03:00",
                    "2023-07-29T20:58:00+03:00",
                    "2023-07-29T21:43:00+03:00",
                    "2023-07-29T21:58:00+03:00",
                    "2023-07-29T22:10:00+03:00",
                    "2023-07-29T22:21:00+03:00",
                    "2023-07-29T23:53:00+03:00",
                    "2023-07-30T00:18:00+03:00",
                    "2023-07-30T00:20:00+03:00",
                    "2023-07-30T01:05:00+03:00",
                    "2023-07-30T01:50:00+03:00",
                    "2023-07-30T02:49:00+03:00",
                    "2023-07-30T03:26:00+03:00",
                    "2023-07-30T03:48:00+03:00",
                    "2023-07-30T04:21:00+03:00",
                    "2023-07-30T05:10:00+03:00",
                    "2023-07-30T05:47:00+03:00",
                    "2023-07-30T05:54:00+03:00",
                    "2023-07-30T06:40:00+03:00",
                    "2023-07-30T06:43:00+03:00",
                    "2023-07-30T07:28:00+03:00",
                    "2023-07-30T08:37:00+03:00",
                    "2023-07-30T09:57:00+03:00",
                    "2023-07-30T10:36:00+03:00",
                    "2023-07-30T11:21:00+03:00",
                    "2023-07-30T11:36:00+03:00",
                    "2023-07-30T12:11:00+03:00",
                    "2023-07-30T13:32:00+03:00",
                    "2023-07-30T13:33:00+03:00",
                    "2023-07-30T13:56:00+03:00",
                    "2023-07-30T14:16:00+03:00",
                    "2023-07-30T14:42:00+03:00",
                    "2023-07-30T15:28:00+03:00",
                    "2023-07-30T17:44:00+03:00",
                    "2023-07-30T17:46:00+03:00",
                    "2023-07-30T20:16:00+03:00",
                    "2023-07-30T22:13:00+03:00",
                    "2023-07-30T22:17:00+03:00",
                    "2023-07-30T22:24:00+03:00",
                    "2023-07-30T23:26:00+03:00",
                    "2023-07-30T23:59:00+03:00",
                    "2023-07-31T00:24:00+03:00",
                    "2023-07-31T00:57:00+03:00",
                    "2023-07-31T01:35:00+03:00",
                    "2023-07-31T04:05:00+03:00",
                    "2023-07-31T04:19:00+03:00",
                    "2023-07-31T04:52:00+03:00",
                    "2023-07-31T05:07:00+03:00",
                    "2023-07-31T05:18:00+03:00",
                    "2023-07-31T05:52:00+03:00",
                    "2023-07-31T06:05:00+03:00",
                    "2023-07-31T06:39:00+03:00",
                    "2023-07-31T06:40:00+03:00",
                    "2023-07-31T07:46:00+03:00",
                    "2023-07-31T08:34:00+03:00",
                    "2023-07-31T08:47:00+03:00",
                    "2023-07-31T09:44:00+03:00",
                    "2023-07-31T09:54:00+03:00",
                    "2023-07-31T10:41:00+03:00",
                    "2023-07-31T11:43:00+03:00",
                    "2023-07-31T12:37:00+03:00",
                    "2023-07-31T12:50:00+03:00",
                    "2023-07-31T13:15:00+03:00",
                    "2023-07-31T13:37:00+03:00",
                    "2023-07-31T13:47:00+03:00",
                    "2023-07-31T14:10:00+03:00",
                    "2023-07-31T14:27:00+03:00",
                    "2023-07-31T14:37:00+03:00",
                    "2023-07-31T14:45:00+03:00",
                    "2023-07-31T14:59:00+03:00",
                    "2023-07-31T15:42:00+03:00",
                    "2023-07-31T15:45:00+03:00",
                    "2023-07-31T16:00:00+03:00",
                    "2023-07-31T16:41:00+03:00",
                    "2023-07-31T17:45:00+03:00",
                    "2023-07-31T18:05:00+03:00",
                    "2023-07-31T18:16:00+03:00",
                    "2023-07-31T18:31:00+03:00",
                    "2023-07-31T19:04:00+03:00",
                    "2023-07-31T19:41:00+03:00",
                    "2023-07-31T19:59:00+03:00",
                    "2023-07-31T20:40:00+03:00",
                    "2023-07-31T20:48:00+03:00",
                    "2023-07-31T21:09:00+03:00",
                    "2023-07-31T22:23:00+03:00",
                    "2023-07-31T22:46:00+03:00",
                    "2023-07-31T23:17:00+03:00",
                    "2023-08-01T00:29:00+03:00",
                    "2023-08-01T00:30:00+03:00",
                    "2023-08-01T01:29:00+03:00",
                    "2023-08-01T01:31:00+03:00",
                    "2023-08-01T01:53:00+03:00",
                    "2023-08-01T02:48:00+03:00",
                    "2023-08-01T04:22:00+03:00",
                    "2023-08-01T05:34:00+03:00",
                    "2023-08-01T05:57:00+03:00",
                    "2023-08-01T07:02:00+03:00",
                    "2023-08-01T07:39:00+03:00",
                    "2023-08-01T07:40:00+03:00",
                    "2023-08-01T08:04:00+03:00",
                    "2023-08-01T08:38:00+03:00",
                    "2023-08-01T09:04:00+03:00",
                    "2023-08-01T09:37:00+03:00",
                    "2023-08-01T11:33:00+03:00",
                    "2023-08-01T12:23:00+03:00",
                    "2023-08-01T12:56:00+03:00",
                    "2023-08-01T13:09:00+03:00",
                    "2023-08-01T14:32:00+03:00",
                    "2023-08-01T15:45:00+03:00",
                    "2023-08-01T17:52:00+03:00",
                    "2023-08-01T19:22:00+03:00",
                    "2023-08-01T19:23:00+03:00",
                    "2023-08-01T19:27:00+03:00",
                    "2023-08-01T19:33:00+03:00",
                    "2023-08-01T19:59:00+03:00",
                    "2023-08-01T20:37:00+03:00",
                    "2023-08-01T20:46:00+03:00",
                    "2023-08-01T21:22:00+03:00",
                    "2023-08-01T21:45:00+03:00",
                    "2023-08-01T22:28:00+03:00",
                    "2023-08-01T22:29:00+03:00",
                    "2023-08-01T22:44:00+03:00",
                    "2023-08-01T23:04:00+03:00",
                    "2023-08-01T23:17:00+03:00",
                    "2023-08-02T01:49:00+03:00",
                    "2023-08-02T02:12:00+03:00",
                    "2023-08-02T02:15:00+03:00",
                    "2023-08-02T02:26:00+03:00",
                    "2023-08-02T02:46:00+03:00",
                    "2023-08-02T03:09:00+03:00",
                    "2023-08-02T03:14:00+03:00",
                    "2023-08-02T03:58:00+03:00",
                    "2023-08-02T04:12:00+03:00",
                    "2023-08-02T04:34:00+03:00",
                    "2023-08-02T04:35:00+03:00",
                    "2023-08-02T05:21:00+03:00",
                    "2023-08-02T05:22:00+03:00",
                    "2023-08-02T05:54:00+03:00",
                    "2023-08-02T06:15:00+03:00",
                    "2023-08-02T06:20:00+03:00",
                    "2023-08-02T06:51:00+03:00",
                    "2023-08-02T07:49:00+03:00",
                    "2023-08-02T08:04:00+03:00",
                    "2023-08-02T08:50:00+03:00",
                    "2023-08-02T09:26:00+03:00",
                    "2023-08-02T10:02:00+03:00",
                    "2023-08-02T12:32:00+03:00",
                    "2023-08-02T12:43:00+03:00",
                    "2023-08-02T13:20:00+03:00",
                    "2023-08-02T15:01:00+03:00",
                    "2023-08-02T15:15:00+03:00",
                    "2023-08-02T15:24:00+03:00",
                    "2023-08-02T15:28:00+03:00",
                    "2023-08-02T15:37:00+03:00",
                    "2023-08-02T15:47:00+03:00",
                    "2023-08-02T15:49:00+03:00",
                    "2023-08-02T15:59:00+03:00",
                    "2023-08-02T16:13:00+03:00",
                    "2023-08-02T16:49:00+03:00",
                    "2023-08-02T17:02:00+03:00",
                    "2023-08-02T17:33:00+03:00",
                    "2023-08-02T18:45:00+03:00",
                    "2023-08-02T18:47:00+03:00",
                    "2023-08-02T18:54:00+03:00",
                    "2023-08-02T19:18:00+03:00",
                    "2023-08-02T20:40:00+03:00",
                    "2023-08-02T21:07:00+03:00",
                    "2023-08-02T21:39:00+03:00",
                    "2023-08-02T21:43:00+03:00",
                    "2023-08-02T22:26:00+03:00",
                    "2023-08-02T22:41:00+03:00",
                    "2023-08-02T23:16:00+03:00",
                    "2023-08-03T00:03:00+03:00",
                    "2023-08-03T00:33:00+03:00",
                    "2023-08-03T01:09:00+03:00",
                    "2023-08-03T01:22:00+03:00",
                    "2023-08-03T02:51:00+03:00",
                    "2023-08-03T03:43:00+03:00",
                    "2023-08-03T03:54:00+03:00",
                    "2023-08-03T03:55:00+03:00",
                    "2023-08-03T04:54:00+03:00",
                    "2023-08-03T05:46:00+03:00",
                    "2023-08-03T05:50:00+03:00",
                    "2023-08-03T06:33:00+03:00",
                    "2023-08-03T07:20:00+03:00",
                    "2023-08-03T07:45:00+03:00",
                    "2023-08-03T08:08:00+03:00",
                    "2023-08-03T08:22:00+03:00",
                    "2023-08-03T08:29:00+03:00",
                    "2023-08-03T10:16:00+03:00",
                    "2023-08-03T10:39:00+03:00",
                    "2023-08-03T11:03:00+03:00",
                    "2023-08-03T11:25:00+03:00",
                    "2023-08-03T11:37:00+03:00",
                    "2023-08-03T12:15:00+03:00",
                    "2023-08-03T12:24:00+03:00",
                    "2023-08-03T12:37:00+03:00",
                    "2023-08-03T13:01:00+03:00",
                    "2023-08-03T13:12:00+03:00",
                    "2023-08-03T13:32:00+03:00",
                    "2023-08-03T13:33:00+03:00",
                    "2023-08-03T14:02:00+03:00",
                    "2023-08-03T14:31:00+03:00",
                    "2023-08-03T15:08:00+03:00",
                    "2023-08-03T15:54:00+03:00",
                    "2023-08-03T16:39:00+03:00",
                    "2023-08-03T17:17:00+03:00",
                    "2023-08-03T17:32:00+03:00",
                    "2023-08-03T17:50:00+03:00",
                    "2023-08-03T18:55:00+03:00",
                    "2023-08-03T19:14:00+03:00",
                    "2023-08-03T19:16:00+03:00",
                    "2023-08-03T20:01:00+03:00",
                    "2023-08-03T20:17:00+03:00",
                    "2023-08-03T20:38:00+03:00",
                    "2023-08-03T20:48:00+03:00",
                    "2023-08-03T22:00:00+03:00",
                    "2023-08-03T23:22:00+03:00",
                    "2023-08-03T23:34:00+03:00",
                    "2023-08-03T23:55:00+03:00",
                    "2023-08-04T00:52:00+03:00",
                    "2023-08-04T01:15:00+03:00",
                    "2023-08-04T02:13:00+03:00",
                    "2023-08-04T02:48:00+03:00",
                    "2023-08-04T03:11:00+03:00",
                    "2023-08-04T05:43:00+03:00",
                    "2023-08-04T05:46:00+03:00",
                    "2023-08-04T06:08:00+03:00",
                    "2023-08-04T06:31:00+03:00",
                    "2023-08-04T06:51:00+03:00",
                    "2023-08-04T07:49:00+03:00",
                    "2023-08-04T08:12:00+03:00",
                    "2023-08-04T09:27:00+03:00",
                    "2023-08-04T09:34:00+03:00",
                    "2023-08-04T09:37:00+03:00",
                    "2023-08-04T10:10:00+03:00",
                    "2023-08-04T10:33:00+03:00",
                    "2023-08-04T10:37:00+03:00",
                    "2023-08-04T10:46:00+03:00",
                    "2023-08-04T11:30:00+03:00",
                    "2023-08-04T11:44:00+03:00",
                    "2023-08-04T11:54:00+03:00",
                    "2023-08-04T12:08:00+03:00",
                    "2023-08-04T12:51:00+03:00",
                    "2023-08-04T14:39:00+03:00",
                    "2023-08-04T14:40:00+03:00",
                    "2023-08-04T15:02:00+03:00",
                    "2023-08-04T15:24:00+03:00",
                    "2023-08-04T15:51:00+03:00",
                    "2023-08-04T16:28:00+03:00",
                    "2023-08-04T16:48:00+03:00",
                    "2023-08-04T16:49:00+03:00",
                    "2023-08-04T16:50:00+03:00",
                    "2023-08-04T17:12:00+03:00",
                    "2023-08-04T17:22:00+03:00",
                    "2023-08-04T17:47:00+03:00",
                    "2023-08-04T18:00:00+03:00",
                    "2023-08-04T19:34:00+03:00",
                    "2023-08-04T20:42:00+03:00",
                    "2023-08-04T21:29:00+03:00",
                    "2023-08-04T21:32:00+03:00",
                    "2023-08-04T22:02:00+03:00",
                    "2023-08-04T22:28:00+03:00",
                    "2023-08-04T23:01:00+03:00",
                    "2023-08-04T23:38:00+03:00",
                    "2023-08-04T23:57:00+03:00",
                    "2023-08-05T00:02:00+03:00",
                    "2023-08-05T01:19:00+03:00",
                    "2023-08-05T02:29:00+03:00",
                    "2023-08-05T02:53:00+03:00",
                    "2023-08-05T03:03:00+03:00",
                    "2023-08-05T03:18:00+03:00",
                    "2023-08-05T03:55:00+03:00",
                    "2023-08-05T04:18:00+03:00",
                    "2023-08-05T04:52:00+03:00",
                    "2023-08-05T05:03:00+03:00",
                    "2023-08-05T07:11:00+03:00",
                    "2023-08-05T07:32:00+03:00",
                    "2023-08-05T07:44:00+03:00",
                    "2023-08-05T09:40:00+03:00",
                    "2023-08-05T09:44:00+03:00",
                    "2023-08-05T10:50:00+03:00",
                    "2023-08-05T11:05:00+03:00",
                    "2023-08-05T11:37:00+03:00",
                    "2023-08-05T12:13:00+03:00",
                    "2023-08-05T12:36:00+03:00",
                    "2023-08-05T12:38:00+03:00",
                    "2023-08-05T13:55:00+03:00",
                    "2023-08-05T13:57:00+03:00",
                    "2023-08-05T15:07:00+03:00",
                    "2023-08-05T15:08:00+03:00",
                    "2023-08-05T15:10:00+03:00",
                    "2023-08-05T16:07:00+03:00",
                    "2023-08-05T17:32:00+03:00",
                    "2023-08-05T17:50:00+03:00",
                    "2023-08-05T19:24:00+03:00",
                    "2023-08-05T19:29:00+03:00",
                    "2023-08-05T19:39:00+03:00",
                    "2023-08-05T20:40:00+03:00",
                    "2023-08-05T20:48:00+03:00",
                    "2023-08-05T20:58:00+03:00",
                    "2023-08-05T21:14:00+03:00",
                    "2023-08-05T22:12:00+03:00",
                    "2023-08-05T22:54:00+03:00",
                    "2023-08-05T22:57:00+03:00",
                    "2023-08-05T23:06:00+03:00",
                    "2023-08-06T00:04:00+03:00",
                    "2023-08-06T00:06:00+03:00",
                    "2023-08-06T00:15:00+03:00",
                    "2023-08-06T00:27:00+03:00",
                    "2023-08-06T00:30:00+03:00",
                    "2023-08-06T00:40:00+03:00",
                    "2023-08-06T01:39:00+03:00",
                    "2023-08-06T01:48:00+03:00",
                    "2023-08-06T02:23:00+03:00",
                    "2023-08-06T02:24:00+03:00",
                    "2023-08-06T02:26:00+03:00",
                    "2023-08-06T02:27:00+03:00",
                    "2023-08-06T03:03:00+03:00",
                    "2023-08-06T03:34:00+03:00",
                    "2023-08-06T04:34:00+03:00",
                    "2023-08-06T04:35:00+03:00",
                    "2023-08-06T04:44:00+03:00",
                    "2023-08-06T04:59:00+03:00",
                    "2023-08-06T05:42:00+03:00",
                    "2023-08-06T05:43:00+03:00",
                    "2023-08-06T05:45:00+03:00",
                    "2023-08-06T07:19:00+03:00",
                    "2023-08-06T07:40:00+03:00",
                    "2023-08-06T08:26:00+03:00",
                    "2023-08-06T09:24:00+03:00",
                    "2023-08-06T09:56:00+03:00",
                    "2023-08-06T10:46:00+03:00",
                    "2023-08-06T12:30:00+03:00",
                    "2023-08-06T12:40:00+03:00",
                    "2023-08-06T12:42:00+03:00",
                    "2023-08-06T15:02:00+03:00",
                    "2023-08-06T15:17:00+03:00",
                    "2023-08-06T17:01:00+03:00",
                    "2023-08-06T17:55:00+03:00",
                    "2023-08-06T17:58:00+03:00",
                    "2023-08-06T18:31:00+03:00",
                    "2023-08-06T18:36:00+03:00",
                    "2023-08-06T19:31:00+03:00",
                    "2023-08-06T20:05:00+03:00",
                    "2023-08-06T20:55:00+03:00",
                    "2023-08-06T23:14:00+03:00",
                    "2023-08-06T23:25:00+03:00",
                    "2023-08-06T23:36:00+03:00",
                    "2023-08-06T23:57:00+03:00",
                    "2023-08-07T00:01:00+03:00",
                    "2023-08-07T00:10:00+03:00",
                    "2023-08-07T00:23:00+03:00",
                    "2023-08-07T00:24:00+03:00",
                    "2023-08-07T01:11:00+03:00",
                    "2023-08-07T01:12:00+03:00",
                    "2023-08-07T01:34:00+03:00",
                    "2023-08-07T02:29:00+03:00",
                    "2023-08-07T02:53:00+03:00",
                    "2023-08-07T03:16:00+03:00",
                    "2023-08-07T03:32:00+03:00",
                    "2023-08-07T04:05:00+03:00",
                    "2023-08-07T04:40:00+03:00",
                    "2023-08-07T05:14:00+03:00",
                    "2023-08-07T05:24:00+03:00",
                    "2023-08-07T05:36:00+03:00",
                    "2023-08-07T05:37:00+03:00",
                    "2023-08-07T05:51:00+03:00",
                    "2023-08-07T06:11:00+03:00",
                    "2023-08-07T06:14:00+03:00",
                    "2023-08-07T06:38:00+03:00",
                    "2023-08-07T06:58:00+03:00",
                    "2023-08-07T07:01:00+03:00",
                    "2023-08-07T07:11:00+03:00",
                    "2023-08-07T07:21:00+03:00",
                    "2023-08-07T07:23:00+03:00",
                    "2023-08-07T07:55:00+03:00",
                    "2023-08-07T08:54:00+03:00",
                    "2023-08-07T09:08:00+03:00",
                    "2023-08-07T10:50:00+03:00",
                    "2023-08-07T11:04:00+03:00",
                    "2023-08-07T12:01:00+03:00",
                    "2023-08-07T13:27:00+03:00",
                    "2023-08-07T14:32:00+03:00",
                    "2023-08-07T14:47:00+03:00",
                    "2023-08-07T16:10:00+03:00",
                    "2023-08-07T16:18:00+03:00",
                    "2023-08-07T16:28:00+03:00",
                    "2023-08-07T16:31:00+03:00",
                    "2023-08-07T18:02:00+03:00",
                    "2023-08-07T18:16:00+03:00",
                    "2023-08-07T18:29:00+03:00",
                    "2023-08-07T18:37:00+03:00",
                    "2023-08-07T18:52:00+03:00",
                    "2023-08-07T19:06:00+03:00",
                    "2023-08-07T19:50:00+03:00",
                    "2023-08-07T20:01:00+03:00",
                    "2023-08-07T20:12:00+03:00",
                    "2023-08-07T21:00:00+03:00",
                    "2023-08-07T21:45:00+03:00",
                    "2023-08-07T22:11:00+03:00",
                    "2023-08-07T22:57:00+03:00",
                    "2023-08-07T23:10:00+03:00",
                    "2023-08-07T23:42:00+03:00",
                    "2023-08-07T23:46:00+03:00",
                    "2023-08-08T00:18:00+03:00",
                    "2023-08-08T00:20:00+03:00",
                    "2023-08-08T03:04:00+03:00",
                    "2023-08-08T03:58:00+03:00",
                    "2023-08-08T04:35:00+03:00",
                    "2023-08-08T05:24:00+03:00",
                    "2023-08-08T06:32:00+03:00",
                    "2023-08-08T06:56:00+03:00",
                    "2023-08-08T08:06:00+03:00",
                    "2023-08-08T08:29:00+03:00",
                    "2023-08-08T08:43:00+03:00",
                    "2023-08-08T09:53:00+03:00",
                    "2023-08-08T10:50:00+03:00",
                    "2023-08-08T11:22:00+03:00",
                    "2023-08-08T11:46:00+03:00",
                    "2023-08-08T12:12:00+03:00",
                    "2023-08-08T12:13:00+03:00",
                    "2023-08-08T13:30:00+03:00",
                    "2023-08-08T15:16:00+03:00",
                    "2023-08-08T15:39:00+03:00",
                    "2023-08-08T15:43:00+03:00",
                    "2023-08-08T16:23:00+03:00",
                    "2023-08-08T16:39:00+03:00",
                    "2023-08-08T17:39:00+03:00",
                    "2023-08-08T18:36:00+03:00",
                    "2023-08-08T18:38:00+03:00",
                    "2023-08-08T19:34:00+03:00",
                    "2023-08-08T19:43:00+03:00",
                    "2023-08-08T19:45:00+03:00",
                    "2023-08-08T19:58:00+03:00",
                    "2023-08-08T20:19:00+03:00",
                    "2023-08-08T20:21:00+03:00",
                    "2023-08-08T21:09:00+03:00",
                    "2023-08-08T21:30:00+03:00",
                    "2023-08-08T22:39:00+03:00",
                    "2023-08-08T22:51:00+03:00",
                    "2023-08-08T23:08:00+03:00",
                    "2023-08-08T23:29:00+03:00",
                    "2023-08-09T01:00:00+03:00",
                    "2023-08-09T02:21:00+03:00",
                    "2023-08-09T03:19:00+03:00",
                    "2023-08-09T03:30:00+03:00",
                    "2023-08-09T03:31:00+03:00",
                    "2023-08-09T05:40:00+03:00",
                    "2023-08-09T06:01:00+03:00",
                    "2023-08-09T06:38:00+03:00",
                    "2023-08-09T07:34:00+03:00",
                    "2023-08-09T10:54:00+03:00",
                    "2023-08-09T12:15:00+03:00",
                    "2023-08-09T12:24:00+03:00",
                    "2023-08-09T12:27:00+03:00",
                    "2023-08-09T13:00:00+03:00",
                    "2023-08-09T13:58:00+03:00",
                    "2023-08-09T14:02:00+03:00",
                    "2023-08-09T14:25:00+03:00",
                    "2023-08-09T15:01:00+03:00",
                    "2023-08-09T15:53:00+03:00",
                    "2023-08-09T16:06:00+03:00",
                    "2023-08-09T16:21:00+03:00",
                    "2023-08-09T17:42:00+03:00",
                    "2023-08-09T17:44:00+03:00",
                    "2023-08-09T18:02:00+03:00",
                    "2023-08-09T18:52:00+03:00",
                    "2023-08-09T19:27:00+03:00",
                    "2023-08-09T19:41:00+03:00",
                    "2023-08-09T19:47:00+03:00",
                    "2023-08-09T20:15:00+03:00",
                    "2023-08-09T21:47:00+03:00",
                    "2023-08-09T22:09:00+03:00",
                    "2023-08-09T22:32:00+03:00",
                    "2023-08-09T22:34:00+03:00",
                    "2023-08-09T22:55:00+03:00",
                    "2023-08-09T23:34:00+03:00",
                    "2023-08-10T00:21:00+03:00",
                    "2023-08-10T00:52:00+03:00",
                    "2023-08-10T01:16:00+03:00",
                    "2023-08-10T01:29:00+03:00",
                    "2023-08-10T01:39:00+03:00",
                    "2023-08-10T02:06:00+03:00",
                    "2023-08-10T02:40:00+03:00",
                    "2023-08-10T03:37:00+03:00",
                    "2023-08-10T04:58:00+03:00",
                    "2023-08-10T05:29:00+03:00",
                    "2023-08-10T05:44:00+03:00",
                    "2023-08-10T06:08:00+03:00",
                    "2023-08-10T06:42:00+03:00",
                    "2023-08-10T06:43:00+03:00",
                    "2023-08-10T07:28:00+03:00",
                    "2023-08-10T08:17:00+03:00",
                    "2023-08-10T12:46:00+03:00",
                    "2023-08-10T13:04:00+03:00",
                    "2023-08-10T15:03:00+03:00",
                    "2023-08-10T15:14:00+03:00",
                    "2023-08-10T15:37:00+03:00",
                    "2023-08-10T16:48:00+03:00",
                    "2023-08-10T17:25:00+03:00",
                    "2023-08-10T17:48:00+03:00",
                    "2023-08-10T21:55:00+03:00",
                    "2023-08-10T22:19:00+03:00",
                    "2023-08-10T22:28:00+03:00",
                    "2023-08-10T22:31:00+03:00",
                    "2023-08-10T23:05:00+03:00",
                    "2023-08-10T23:14:00+03:00",
                    "2023-08-10T23:36:00+03:00",
                    "2023-08-10T23:41:00+03:00",
                    "2023-08-11T00:47:00+03:00",
                    "2023-08-11T01:11:00+03:00",
                    "2023-08-11T01:44:00+03:00",
                    "2023-08-11T02:07:00+03:00",
                    "2023-08-11T03:06:00+03:00",
                    "2023-08-11T03:08:00+03:00",
                    "2023-08-11T03:28:00+03:00",
                    "2023-08-11T03:32:00+03:00",
                    "2023-08-11T04:04:00+03:00",
                    "2023-08-11T04:08:00+03:00",
                    "2023-08-11T04:19:00+03:00",
                    "2023-08-11T05:40:00+03:00",
                    "2023-08-11T05:53:00+03:00",
                    "2023-08-11T06:50:00+03:00",
                    "2023-08-11T07:15:00+03:00",
                    "2023-08-11T07:34:00+03:00",
                    "2023-08-11T08:20:00+03:00",
                    "2023-08-11T08:58:00+03:00",
                    "2023-08-11T09:57:00+03:00",
                    "2023-08-11T10:07:00+03:00",
                    "2023-08-11T10:11:00+03:00",
                    "2023-08-11T10:21:00+03:00",
                    "2023-08-11T10:33:00+03:00",
                    "2023-08-11T10:34:00+03:00",
                    "2023-08-11T11:52:00+03:00",
                    "2023-08-11T12:05:00+03:00",
                    "2023-08-11T12:48:00+03:00",
                    "2023-08-11T12:50:00+03:00",
                    "2023-08-11T15:12:00+03:00",
                    "2023-08-11T15:33:00+03:00",
                    "2023-08-11T15:44:00+03:00",
                    "2023-08-11T15:46:00+03:00",
                    "2023-08-11T15:58:00+03:00",
                    "2023-08-11T16:46:00+03:00",
                    "2023-08-11T17:10:00+03:00",
                    "2023-08-11T18:22:00+03:00",
                    "2023-08-11T19:29:00+03:00",
                    "2023-08-11T19:51:00+03:00",
                    "2023-08-11T19:52:00+03:00",
                    "2023-08-11T19:56:00+03:00",
                    "2023-08-11T20:25:00+03:00",
                    "2023-08-11T20:41:00+03:00",
                    "2023-08-11T21:30:00+03:00",
                    "2023-08-11T21:37:00+03:00",
                    "2023-08-11T21:59:00+03:00",
                    "2023-08-11T22:00:00+03:00",
                    "2023-08-11T22:22:00+03:00",
                    "2023-08-11T22:38:00+03:00",
                    "2023-08-11T23:03:00+03:00",
                    "2023-08-11T23:14:00+03:00",
                    "2023-08-11T23:47:00+03:00",
                    "2023-08-12T01:10:00+03:00",
                    "2023-08-12T02:06:00+03:00",
                    "2023-08-12T02:52:00+03:00",
                    "2023-08-12T04:05:00+03:00",
                    "2023-08-12T04:15:00+03:00",
                    "2023-08-12T04:41:00+03:00",
                    "2023-08-12T04:51:00+03:00",
                    "2023-08-12T05:25:00+03:00",
                    "2023-08-12T06:01:00+03:00",
                    "2023-08-12T06:23:00+03:00",
                    "2023-08-12T07:44:00+03:00",
                    "2023-08-12T08:44:00+03:00",
                    "2023-08-12T09:07:00+03:00",
                    "2023-08-12T10:53:00+03:00",
                    "2023-08-12T11:29:00+03:00",
                    "2023-08-12T11:38:00+03:00",
                    "2023-08-12T11:40:00+03:00",
                    "2023-08-12T13:10:00+03:00",
                    "2023-08-12T14:11:00+03:00",
                    "2023-08-12T14:31:00+03:00",
                    "2023-08-12T15:29:00+03:00",
                    "2023-08-12T16:08:00+03:00",
                    "2023-08-12T16:26:00+03:00",
                    "2023-08-12T16:52:00+03:00",
                    "2023-08-12T18:13:00+03:00",
                    "2023-08-12T18:24:00+03:00",
                    "2023-08-12T18:50:00+03:00",
                    "2023-08-12T20:11:00+03:00",
                    "2023-08-12T20:49:00+03:00",
                    "2023-08-12T22:08:00+03:00",
                    "2023-08-12T22:18:00+03:00",
                    "2023-08-12T22:31:00+03:00",
                    "2023-08-12T22:33:00+03:00",
                    "2023-08-12T23:30:00+03:00",
                    "2023-08-13T00:02:00+03:00",
                    "2023-08-13T00:47:00+03:00",
                    "2023-08-13T01:00:00+03:00",
                    "2023-08-13T01:05:00+03:00",
                    "2023-08-13T01:36:00+03:00",
                    "2023-08-13T01:38:00+03:00",
                    "2023-08-13T02:37:00+03:00",
                    "2023-08-13T03:09:00+03:00",
                    "2023-08-13T03:12:00+03:00",
                    "2023-08-13T03:31:00+03:00",
                    "2023-08-13T03:46:00+03:00",
                    "2023-08-13T04:41:00+03:00",
                    "2023-08-13T04:44:00+03:00",
                    "2023-08-13T04:45:00+03:00",
                    "2023-08-13T05:03:00+03:00",
                    "2023-08-13T05:08:00+03:00",
                    "2023-08-13T05:53:00+03:00",
                    "2023-08-13T06:03:00+03:00",
                    "2023-08-13T07:52:00+03:00",
                    "2023-08-13T08:21:00+03:00",
                    "2023-08-13T08:22:00+03:00",
                    "2023-08-13T09:10:00+03:00",
                    "2023-08-13T10:07:00+03:00",
                    "2023-08-13T10:42:00+03:00",
                    "2023-08-13T10:47:00+03:00",
                    "2023-08-13T11:05:00+03:00",
                    "2023-08-13T11:30:00+03:00",
                    "2023-08-13T11:55:00+03:00",
                    "2023-08-13T12:04:00+03:00",
                    "2023-08-13T12:07:00+03:00",
                    "2023-08-13T12:17:00+03:00",
                    "2023-08-13T12:53:00+03:00",
                    "2023-08-13T13:01:00+03:00",
                    "2023-08-13T13:50:00+03:00",
                    "2023-08-13T14:11:00+03:00",
                    "2023-08-13T14:13:00+03:00",
                    "2023-08-13T15:01:00+03:00",
                    "2023-08-13T15:11:00+03:00",
                    "2023-08-13T15:24:00+03:00",
                    "2023-08-13T16:34:00+03:00",
                    "2023-08-13T16:57:00+03:00",
                    "2023-08-13T17:30:00+03:00",
                    "2023-08-13T18:43:00+03:00",
                    "2023-08-13T19:43:00+03:00",
                    "2023-08-13T20:01:00+03:00",
                    "2023-08-13T20:47:00+03:00",
                    "2023-08-13T20:49:00+03:00",
                    "2023-08-13T21:13:00+03:00",
                    "2023-08-13T21:24:00+03:00",
                    "2023-08-13T21:50:00+03:00",
                    "2023-08-13T21:57:00+03:00",
                    "2023-08-13T23:11:00+03:00",
                    "2023-08-14T00:19:00+03:00",
                    "2023-08-14T01:40:00+03:00",
                    "2023-08-14T01:43:00+03:00",
                    "2023-08-14T01:51:00+03:00",
                    "2023-08-14T03:24:00+03:00",
                    "2023-08-14T04:49:00+03:00",
                    "2023-08-14T05:58:00+03:00",
                    "2023-08-14T06:55:00+03:00",
                    "2023-08-14T06:58:00+03:00",
                    "2023-08-14T07:06:00+03:00",
                    "2023-08-14T09:03:00+03:00",
                    "2023-08-14T09:38:00+03:00",
                    "2023-08-14T09:48:00+03:00",
                    "2023-08-14T10:00:00+03:00",
                    "2023-08-14T10:23:00+03:00",
                    "2023-08-14T10:26:00+03:00",
                    "2023-08-14T11:00:00+03:00",
                    "2023-08-14T11:57:00+03:00",
                    "2023-08-14T12:32:00+03:00",
                    "2023-08-14T12:33:00+03:00",
                    "2023-08-14T13:41:00+03:00",
                    "2023-08-14T13:56:00+03:00",
                    "2023-08-14T14:53:00+03:00",
                    "2023-08-14T15:27:00+03:00",
                    "2023-08-14T15:51:00+03:00",
                    "2023-08-14T16:36:00+03:00",
                    "2023-08-14T17:59:00+03:00",
                    "2023-08-14T18:21:00+03:00",
                    "2023-08-14T20:21:00+03:00",
                    "2023-08-14T21:22:00+03:00",
                    "2023-08-14T22:22:00+03:00",
                    "2023-08-14T23:28:00+03:00",
                    "2023-08-14T23:29:00+03:00",
                    "2023-08-14T23:44:00+03:00",
                    "2023-08-15T00:08:00+03:00",
                    "2023-08-15T01:29:00+03:00",
                    "2023-08-15T01:52:00+03:00",
                    "2023-08-15T02:26:00+03:00",
                    "2023-08-15T03:35:00+03:00",
                    "2023-08-15T03:47:00+03:00",
                    "2023-08-15T04:07:00+03:00",
                    "2023-08-15T04:41:00+03:00",
                    "2023-08-15T04:44:00+03:00",
                    "2023-08-15T04:55:00+03:00",
                    "2023-08-15T05:05:00+03:00",
                    "2023-08-15T05:19:00+03:00",
                    "2023-08-15T06:15:00+03:00",
                    "2023-08-15T06:28:00+03:00",
                    "2023-08-15T06:30:00+03:00",
                    "2023-08-15T06:53:00+03:00",
                    "2023-08-15T07:38:00+03:00",
                    "2023-08-15T07:51:00+03:00",
                    "2023-08-15T08:35:00+03:00",
                    "2023-08-15T08:36:00+03:00",
                    "2023-08-15T09:00:00+03:00",
                    "2023-08-15T11:20:00+03:00",
                    "2023-08-15T11:29:00+03:00",
                    "2023-08-15T11:30:00+03:00",
                    "2023-08-15T12:30:00+03:00",
                    "2023-08-15T13:23:00+03:00"
                  ],
                  "y": [
                    35.38333333333333,
                    37.9,
                    38.66,
                    35.656666666666666,
                    34.69,
                    24.826666666666668,
                    26.16333333333333,
                    28.066666666666666,
                    25.99,
                    21.33666666666667,
                    24.336666666666662,
                    23.439999999999998,
                    24.560000000000002,
                    24.25,
                    29.51,
                    29.41,
                    30,
                    33.49,
                    34.26666666666667,
                    34.47,
                    33.54666666666666,
                    31.75,
                    44.01666666666667,
                    48.919999999999995,
                    48.53,
                    50.699999999999996,
                    49.75666666666666,
                    49.93666666666667,
                    48.46,
                    48.626666666666665,
                    46.97666666666667,
                    45.91,
                    42.46,
                    43.126666666666665,
                    39.67,
                    42.02,
                    41.53333333333333,
                    41.699999999999996,
                    41.85,
                    40.81,
                    38.85333333333333,
                    35.97,
                    33.81333333333333,
                    34.949999999999996,
                    36.17333333333334,
                    36,
                    36.99333333333333,
                    36.45,
                    37.37,
                    34.36,
                    29.59,
                    29.656666666666666,
                    28.073333333333334,
                    23.900000000000002,
                    21.19666666666667,
                    19.48,
                    18.150000000000002,
                    18.933333333333334,
                    20.683333333333334,
                    27.51,
                    26.3,
                    28.099999999999998,
                    25.73,
                    25.040000000000003,
                    27.08666666666667,
                    27.413333333333338,
                    27.136666666666667,
                    27.27333333333333,
                    26.386666666666667,
                    29.61,
                    29.3,
                    27.113333333333333,
                    26.38,
                    28.05,
                    28.076666666666668,
                    28.24,
                    28.75333333333333,
                    28.400000000000002,
                    28.48,
                    24.326666666666668,
                    21.34,
                    27.86,
                    29.349999999999998,
                    25.76,
                    37.406666666666666,
                    37.12,
                    38.25,
                    35.5,
                    34.23333333333333,
                    35.199999999999996,
                    34.03333333333333,
                    29.45,
                    29.790000000000003,
                    27.766666666666666,
                    27.913333333333338,
                    27.350000000000005,
                    26.49,
                    21.89,
                    27.66,
                    30,
                    29.92,
                    29.11,
                    29.16,
                    29.183333333333334,
                    29.05,
                    28.066666666666666,
                    25.713333333333335,
                    28.25666666666667,
                    27.67,
                    27.75333333333333,
                    28.87,
                    29.5,
                    29.376666666666665,
                    27.77,
                    27.25333333333333,
                    26.540000000000003,
                    25.453333333333333,
                    25.39,
                    26.08,
                    24.45,
                    24.98,
                    22.47,
                    22.74,
                    20.613333333333333,
                    22.64,
                    23.02333333333333,
                    25.80333333333333,
                    26.33666666666667,
                    30.84,
                    32.26666666666667,
                    32.77666666666667,
                    35.266666666666666,
                    37.98,
                    36.43666666666667,
                    33.81333333333333,
                    34.696666666666665,
                    33.413333333333334,
                    33.32666666666666,
                    30.790000000000003,
                    33.63999999999999,
                    33.92333333333334,
                    36.086666666666666,
                    30.98,
                    31.73,
                    31.093333333333334,
                    32.48333333333333,
                    31.659999999999997,
                    32.42333333333333,
                    31.02333333333333,
                    32.06333333333333,
                    32.699999999999996,
                    32.86666666666667,
                    32.28,
                    32.88333333333333,
                    32.59,
                    32.82666666666666,
                    32.78333333333333,
                    32.46666666666667,
                    31.113333333333333,
                    30.870000000000005,
                    31.67,
                    31.546666666666667,
                    30.429999999999996,
                    30.963333333333335,
                    30.459999999999997,
                    30.22666666666667,
                    33.12,
                    33.39666666666667,
                    32.61666666666667,
                    46.376666666666665,
                    37.1,
                    32.25,
                    29.816666666666666,
                    32.87,
                    27.146666666666665,
                    26.913333333333338,
                    25.97,
                    24.53,
                    26.26,
                    26.34,
                    25.573333333333334,
                    23.31,
                    21.343333333333334,
                    20.046666666666667,
                    21.650000000000002,
                    17.99,
                    18.97,
                    24.87,
                    26.459999999999997,
                    28.709999999999997,
                    35.09,
                    35.97,
                    36.56,
                    36.75,
                    35.27666666666667,
                    35.25,
                    33.53333333333333,
                    27.86,
                    27.72666666666667,
                    28.650000000000002,
                    27.926666666666666,
                    29.05333333333333,
                    30.703333333333333,
                    39.74666666666667,
                    39.67333333333334,
                    41.5,
                    40.95,
                    42.18666666666667,
                    41.85,
                    43,
                    42.22666666666667,
                    41.9,
                    41.803333333333335,
                    36.25,
                    34.156666666666666,
                    32.17333333333334,
                    31.439999999999998,
                    29.64,
                    26.613333333333333,
                    24.99666666666667,
                    23.790000000000003,
                    25.349999999999998,
                    26.22666666666667,
                    26.77333333333333,
                    27.929999999999996,
                    26.566666666666666,
                    24.959999999999997,
                    19.476666666666667,
                    19.876666666666665,
                    22.399999999999995,
                    24.933333333333334,
                    40.18666666666667,
                    31.886666666666667,
                    32.68,
                    33.55,
                    33.77333333333333,
                    36.48333333333333,
                    35.449999999999996,
                    36.27666666666667,
                    36.19,
                    35.76,
                    36.5,
                    31.679999999999996,
                    40.093333333333334,
                    37.56333333333333,
                    37.916666666666664,
                    37.88666666666666,
                    40.156666666666666,
                    39.75666666666667,
                    38.52333333333333,
                    36.78333333333333,
                    33.01666666666667,
                    31.33666666666667,
                    29.23,
                    28.566666666666666,
                    26.97,
                    25.63,
                    27.613333333333333,
                    28,
                    39.336666666666666,
                    39.52,
                    41.54,
                    43.13333333333333,
                    44.163333333333334,
                    43.53333333333333,
                    43.78333333333333,
                    44.35999999999999,
                    48.61666666666667,
                    49.41,
                    45.02,
                    46.093333333333334,
                    45.11666666666667,
                    43.156666666666666,
                    39.053333333333335,
                    40.99666666666667,
                    40.34,
                    36.64,
                    39.85,
                    38.61666666666667,
                    37.72,
                    35.336666666666666,
                    34.550000000000004,
                    34.77333333333333,
                    33.71666666666667,
                    33.28333333333333,
                    34.61666666666667,
                    33.64,
                    35.86,
                    35.82666666666666,
                    33.67333333333334,
                    36.086666666666666,
                    35.47333333333333,
                    35.17333333333334,
                    34.25,
                    31.02333333333333,
                    32.35666666666666,
                    33.1,
                    30.536666666666665,
                    30.69,
                    33.199999999999996,
                    31.5,
                    31.66333333333333,
                    31.629999999999995,
                    30.326666666666668,
                    30.450000000000003,
                    30.516666666666666,
                    28.25,
                    28.5,
                    28.91,
                    26.51,
                    27.099999999999998,
                    27.626666666666665,
                    27.08,
                    28.823333333333334,
                    32.77333333333333,
                    34.19,
                    36.946666666666665,
                    38.06333333333333,
                    27.496666666666666,
                    25.11,
                    25.39,
                    27.98,
                    27.516666666666666,
                    24.72666666666667,
                    23.52333333333333,
                    18.816666666666666,
                    20.459999999999997,
                    20.09,
                    18.28,
                    19.78,
                    19.65,
                    18.926666666666666,
                    19.213333333333335,
                    17.900000000000002,
                    18.496666666666666,
                    19.599999999999998,
                    18.19666666666667,
                    16.66,
                    18.21,
                    19.349999999999998,
                    28.150000000000002,
                    27.876666666666665,
                    30.52333333333333,
                    31.593333333333334,
                    34.99,
                    38.25,
                    39.76,
                    37.77333333333333,
                    36.15,
                    34.376666666666665,
                    31.676666666666666,
                    36.57666666666666,
                    37.906666666666666,
                    43.949999999999996,
                    46.35,
                    74.36,
                    72.72333333333334,
                    65.57666666666667,
                    63.64666666666667,
                    42.449999999999996,
                    43.51,
                    38.663333333333334,
                    37.88,
                    29.606666666666666,
                    24.810000000000002,
                    24.75333333333333,
                    24.78,
                    23.72666666666667,
                    24.11,
                    20.44666666666667,
                    17.150000000000002,
                    28.52333333333333,
                    24.99,
                    25.27,
                    25.566666666666666,
                    22.66333333333333,
                    24.323333333333334,
                    22.826666666666668,
                    25.016666666666666,
                    27.47666666666667,
                    26,
                    24.926666666666666,
                    27.26,
                    26.816666666666666,
                    24.933333333333334,
                    24.55333333333333,
                    22.77333333333333,
                    23.143333333333334,
                    31.16,
                    32.27666666666667,
                    32.163333333333334,
                    35.27,
                    35.68666666666667,
                    46.586666666666666,
                    50.5,
                    48.34,
                    47.666666666666664,
                    47.71666666666667,
                    46.69,
                    45.48,
                    45.79666666666666,
                    44.79,
                    39.81,
                    31.959999999999997,
                    31.72666666666667,
                    29.05,
                    28.49,
                    27.66,
                    26.566666666666666,
                    25.790000000000003,
                    24.91333333333333,
                    24.349999999999998,
                    25.75,
                    28.03,
                    38.836666666666666,
                    39.4,
                    40.91,
                    39.74,
                    39.8,
                    38.199999999999996,
                    38.32666666666666,
                    40.77666666666667,
                    37.83,
                    39.09,
                    43.330000000000005,
                    42.63,
                    44.22666666666667,
                    43.949999999999996,
                    44.65,
                    43.629999999999995,
                    40.76,
                    38.46,
                    37.92333333333333,
                    38.77666666666667,
                    34.06,
                    32.96666666666667,
                    29.64,
                    29.59,
                    29.8,
                    24.310000000000002,
                    23.886666666666667,
                    21.886666666666667,
                    22.3,
                    22.790000000000003,
                    21.683333333333334,
                    21.97,
                    20.93,
                    21.516666666666666,
                    19.876666666666665,
                    18.286666666666665,
                    18.52,
                    18.150000000000002,
                    18.213333333333335,
                    17.71,
                    18.349999999999998,
                    19.42,
                    19.566666666666666,
                    24.30333333333333,
                    25.99,
                    29.17,
                    33.49,
                    32.77333333333333,
                    33.919999999999995,
                    35.49,
                    35.57,
                    35.92,
                    35.79,
                    35.156666666666666,
                    35.49,
                    36.71666666666667,
                    35.79,
                    35.75,
                    36.586666666666666,
                    34.10666666666666,
                    32.69,
                    32.376666666666665,
                    31.5,
                    32.11,
                    30.876666666666665,
                    33.053333333333335,
                    33.75333333333333,
                    33.68666666666667,
                    42.6,
                    43.51666666666667,
                    41.12,
                    36.919999999999995,
                    38.24333333333333,
                    34.03,
                    22.040000000000003,
                    25.683333333333334,
                    24.459999999999997,
                    22.459999999999997,
                    21.99666666666667,
                    24.03,
                    21.959999999999997,
                    26.099999999999998,
                    28.406666666666666,
                    32.8,
                    35.199999999999996,
                    34.32666666666666,
                    40.02,
                    38.11,
                    38.626666666666665,
                    38.843333333333334,
                    40.14,
                    40.71666666666667,
                    43.64000000000001,
                    44.32666666666666,
                    44.91,
                    47.03,
                    46.18666666666667,
                    47.07,
                    44.4,
                    43.1,
                    41.550000000000004,
                    41.52333333333333,
                    39.03333333333333,
                    40.39,
                    38.803333333333335,
                    45,
                    45.54999999999999,
                    46.413333333333334,
                    42.32666666666667,
                    44.166666666666664,
                    42.92333333333334,
                    42.79,
                    42.163333333333334,
                    41.51,
                    41.51666666666667,
                    40.32666666666666,
                    40.26,
                    40.550000000000004,
                    45.21666666666667,
                    46.48333333333333,
                    45.093333333333334,
                    45.300000000000004,
                    45.51,
                    41.836666666666666,
                    43,
                    41.66,
                    37.6,
                    36.98333333333333,
                    35.449999999999996,
                    37.49,
                    38.14666666666667,
                    41.20333333333333,
                    41.43,
                    42.36,
                    41.303333333333335,
                    41.63666666666666,
                    42.06333333333333,
                    42.56,
                    41.16,
                    44.166666666666664,
                    43.43666666666667,
                    44.42333333333334,
                    43.053333333333335,
                    43.18666666666667,
                    43.73333333333333,
                    45.1,
                    42.550000000000004,
                    42.196666666666665,
                    39.76666666666667,
                    39.876666666666665,
                    38.19,
                    37.77333333333333,
                    37.71,
                    36.57666666666666,
                    34.70333333333334,
                    35.626666666666665,
                    33.82666666666666,
                    34.18,
                    35.13,
                    34.01,
                    34.06333333333333,
                    35.38666666666666,
                    34.81333333333333,
                    34.339999999999996,
                    37.76,
                    36.06,
                    37.13666666666666,
                    38.67333333333334,
                    40.1,
                    37.86,
                    37.73333333333333,
                    39.37,
                    38.33,
                    37.83,
                    39.38,
                    40.68666666666667,
                    40.85,
                    42.6,
                    44.35,
                    44.663333333333334,
                    44.95000000000001,
                    47.76,
                    50.42333333333334,
                    52.669999999999995,
                    52.79666666666666,
                    51.31,
                    51.68,
                    50.303333333333335,
                    51.586666666666666,
                    50.26,
                    47.85,
                    48.73333333333333,
                    44.60999999999999,
                    43.38666666666666,
                    42.053333333333335,
                    40.85333333333333,
                    40.24666666666667,
                    38.593333333333334,
                    38.25,
                    36.23333333333333,
                    32.85,
                    33.4,
                    30.36,
                    32.56,
                    29.676666666666666,
                    33.88,
                    39.76,
                    38.85,
                    39.35,
                    39.51666666666667,
                    39.73,
                    39.93666666666667,
                    39.39,
                    39.836666666666666,
                    38.1,
                    40.10333333333333,
                    40.199999999999996,
                    43.449999999999996,
                    42.43666666666667,
                    49.47666666666667,
                    49.51666666666667,
                    48.91,
                    49.300000000000004,
                    48.16,
                    48.57666666666666,
                    48.86666666666667,
                    49.74,
                    49.25,
                    43.78,
                    41.29,
                    39.46666666666667,
                    40.61,
                    32.22666666666667,
                    34.76,
                    32.84,
                    30.5,
                    28.983333333333334,
                    28.703333333333333,
                    29.046666666666667,
                    29.58,
                    27.27333333333333,
                    28.27333333333333,
                    27.126666666666665,
                    29.11,
                    29.213333333333335,
                    34.86666666666667,
                    34.89666666666667,
                    36.62,
                    34.70333333333333,
                    34.57,
                    35.99,
                    34.75,
                    34.66,
                    35.81333333333333,
                    33.46666666666667,
                    32.66,
                    33.47333333333333,
                    32.57666666666666,
                    32.41,
                    31.97666666666667,
                    31.113333333333333,
                    30.613333333333333,
                    29.933333333333334,
                    29.540000000000003,
                    38.71,
                    41.63333333333333,
                    42.54,
                    44.81333333333333,
                    44.51666666666667,
                    45.52,
                    45.31,
                    44.43666666666667,
                    43.54999999999999,
                    42.446666666666665,
                    42.36666666666667,
                    42.38,
                    41.31,
                    40.1,
                    41.39666666666667,
                    36.6,
                    26.823333333333334,
                    27.399999999999995,
                    26.7,
                    27.099999999999998,
                    29.136666666666667,
                    30.429999999999996,
                    29.34,
                    32.163333333333334,
                    33.62,
                    34.9,
                    36.21,
                    35.76666666666667,
                    35.19,
                    33.699999999999996,
                    33.67333333333333,
                    29.72666666666667,
                    32.6,
                    31.28,
                    32.05,
                    31.99666666666667,
                    32.3,
                    32.75,
                    40.41,
                    40.82666666666667,
                    42.199999999999996,
                    42.49,
                    43.10999999999999,
                    42.72666666666667,
                    43.54,
                    42.5,
                    43.696666666666665,
                    40.92333333333334,
                    40.550000000000004,
                    42.21,
                    39.71666666666667,
                    39.17333333333334,
                    39.913333333333334,
                    40.163333333333334,
                    38.85333333333333,
                    40.31,
                    38.85,
                    34.71,
                    36,
                    34.39666666666667,
                    34.050000000000004,
                    34.27,
                    32.42333333333334,
                    32.31333333333333,
                    33.52333333333333,
                    33.09,
                    33.01666666666667,
                    36.26,
                    38.75,
                    37.836666666666666,
                    38.07,
                    41.04,
                    45.663333333333334,
                    49.843333333333334,
                    49.43666666666667,
                    48.77,
                    48.79999999999999,
                    48.67333333333334,
                    47.89000000000001,
                    47.626666666666665,
                    48.16,
                    47.126666666666665,
                    46.52,
                    46.173333333333325,
                    45.39000000000001,
                    45.21666666666667,
                    44.51,
                    44.050000000000004,
                    43.01,
                    43.53333333333333,
                    43.803333333333335,
                    42.78333333333333,
                    42.5,
                    37.92333333333334,
                    33.54666666666666,
                    33.550000000000004,
                    31.61,
                    36.550000000000004,
                    36.46,
                    36.09,
                    38.71,
                    37.696666666666665,
                    40.553333333333335,
                    41.1,
                    47.51666666666667,
                    48.626666666666665,
                    49.59,
                    47.74,
                    46.906666666666666,
                    47.96,
                    49.11666666666667,
                    48.60333333333333,
                    48.86666666666667,
                    48.02333333333333,
                    49.36666666666667,
                    47.336666666666666,
                    48.17333333333334,
                    47.94,
                    47.586666666666666,
                    48.303333333333335,
                    49.803333333333335,
                    47.24,
                    47.76666666666667,
                    47.04666666666666,
                    45.906666666666666,
                    46.47666666666667,
                    45.836666666666666,
                    44.81,
                    45.79,
                    43.67333333333334,
                    45.09,
                    42.74,
                    42.94,
                    42.11666666666667,
                    41.39,
                    43.336666666666666,
                    43.68,
                    43.02333333333333,
                    44.97666666666667,
                    47.65,
                    48.300000000000004,
                    48.449999999999996,
                    50.49666666666667,
                    49.63999999999999,
                    51.41,
                    56.663333333333334,
                    62.74,
                    69.37,
                    74.85000000000001,
                    76.78333333333333,
                    73.38333333333333,
                    72.01666666666667,
                    70.92666666666668,
                    68.91000000000001,
                    63.19,
                    59.78333333333333,
                    57.71666666666667,
                    55.34,
                    53.03333333333333,
                    53.620000000000005,
                    53.50666666666666,
                    54.93,
                    55.02666666666667,
                    54.67333333333334,
                    47.46,
                    49.09,
                    48.86666666666667,
                    49.56,
                    47.129999999999995,
                    47.50666666666666,
                    45.60333333333333,
                    43.86666666666667,
                    44.93666666666667,
                    44.23333333333333,
                    43.75,
                    44.88666666666666,
                    45.800000000000004,
                    44.59,
                    47.52666666666667,
                    49.550000000000004,
                    54.876666666666665,
                    52.99,
                    53.553333333333335,
                    57.336666666666666,
                    56.949999999999996,
                    57.29,
                    56.11666666666667,
                    57.876666666666665,
                    57.21666666666667,
                    56.38999999999999,
                    54.88666666666666,
                    54.53333333333333,
                    53.43666666666667,
                    51.906666666666666,
                    50.60999999999999,
                    50.46,
                    48.163333333333334,
                    49.85,
                    47.01666666666667,
                    43.89000000000001,
                    45.29,
                    42.88333333333333,
                    40.64,
                    39.72,
                    39.73,
                    39.91,
                    39.93666666666667,
                    42.17333333333333,
                    41.82,
                    41.1,
                    41.54,
                    42.48333333333333,
                    41.81,
                    42.11666666666667,
                    42.96,
                    42.56333333333333,
                    42.696666666666665,
                    42.02666666666667,
                    42.82666666666666,
                    42.156666666666666,
                    43.35,
                    42.20333333333333,
                    43.199999999999996,
                    43.69,
                    41.946666666666665,
                    40.67333333333334,
                    42.9,
                    43.44,
                    43.620000000000005,
                    43.92333333333334,
                    44.47666666666667,
                    44.97,
                    45.419999999999995,
                    45.96666666666667,
                    44.65,
                    45.620000000000005,
                    46.24,
                    44.28,
                    39.163333333333334,
                    44.29999999999999,
                    43.96666666666667,
                    45.20000000000001,
                    43.82,
                    44.22666666666667,
                    44.79,
                    45.949999999999996,
                    46.24,
                    47.82666666666666,
                    48.376666666666665,
                    48.629999999999995,
                    49.93666666666667,
                    50.56,
                    48.086666666666666,
                    46.73,
                    44.84,
                    39.61,
                    39.17333333333334,
                    39.24333333333333,
                    35.70333333333333,
                    34.96666666666667,
                    33.913333333333334,
                    33.48333333333333,
                    33.156666666666666,
                    31.790000000000003,
                    28.876666666666665,
                    27.64,
                    25.41,
                    23.7,
                    23.73,
                    22.349999999999998,
                    22.97666666666667,
                    21.626666666666665,
                    23.713333333333335,
                    23.643333333333334,
                    23.536666666666665,
                    24.266666666666666,
                    25.570000000000004,
                    27.33,
                    33.81,
                    35.836666666666666,
                    35.94,
                    36.4,
                    37.53,
                    38.46666666666667,
                    38.99,
                    39.550000000000004,
                    36.84,
                    38.51666666666667,
                    36.85,
                    36.36000000000001,
                    37.02,
                    36.89,
                    38.25,
                    38.72666666666667,
                    36.82666666666666,
                    38.81333333333333,
                    38.656666666666666,
                    38.50666666666667,
                    38.156666666666666,
                    38.696666666666665,
                    34.52333333333333,
                    36.50666666666667,
                    33.75,
                    32.89,
                    29.406666666666666,
                    27,
                    29.11,
                    24.570000000000004,
                    25.060000000000002,
                    25.47666666666667,
                    26.046666666666667,
                    26.100000000000005,
                    24.649999999999995,
                    26.350000000000005,
                    24.27333333333333,
                    25.876666666666665,
                    26.540000000000003,
                    25.463333333333335,
                    26.09,
                    29.189999999999998,
                    30.84,
                    29.41,
                    31.16,
                    33.416666666666664,
                    33.85,
                    34.29,
                    33.60666666666666,
                    34.836666666666666,
                    37.65,
                    41.27333333333333,
                    40.36,
                    41.376666666666665,
                    36.28333333333333,
                    41.876666666666665,
                    42.70333333333334,
                    41.46,
                    41.83,
                    42.300000000000004,
                    42.656666666666666,
                    41.9,
                    43.26666666666667,
                    44.169999999999995,
                    42.75,
                    41.76,
                    37.18666666666667,
                    35,
                    34.093333333333334,
                    33.083333333333336,
                    27.953333333333333,
                    27.64,
                    27.176666666666666,
                    27.28,
                    29.036666666666665,
                    26.22,
                    28.316666666666666,
                    27.683333333333334,
                    29.399999999999995,
                    29.863333333333333,
                    29.540000000000003,
                    31.376666666666665,
                    33.50666666666667,
                    34.32666666666666,
                    35.906666666666666,
                    38.81,
                    38.78333333333333,
                    38.36,
                    39.52,
                    41.09,
                    41.97666666666667,
                    41.126666666666665,
                    41.376666666666665,
                    41.46,
                    43.24,
                    40.97666666666667,
                    39.81,
                    40,
                    40.73333333333333,
                    40.800000000000004,
                    40.656666666666666,
                    40,
                    38.02,
                    40.77333333333333,
                    40.98333333333333,
                    40.48,
                    41.88666666666666,
                    42.54,
                    42.27,
                    42.06333333333333,
                    40.85,
                    42.9,
                    42.25,
                    42.406666666666666,
                    41.22666666666667,
                    36.59,
                    29.183333333333334,
                    27.073333333333334,
                    27.886666666666667,
                    24.25,
                    24.599999999999998,
                    21.393333333333334,
                    20.05,
                    20.643333333333334,
                    19.246666666666666,
                    20.363333333333333,
                    22.816666666666666,
                    21.17,
                    28.47666666666667,
                    41.51,
                    41.26666666666667,
                    40.14,
                    39.99,
                    40.376666666666665,
                    38.086666666666666,
                    39.73,
                    40.266666666666666,
                    37.47666666666667,
                    33.21666666666667,
                    37.58,
                    33.78333333333333,
                    33.9,
                    31.406666666666666,
                    31.863333333333333,
                    31.689999999999998,
                    30.99,
                    32.06333333333333,
                    30.213333333333335,
                    31.49,
                    32.32666666666666,
                    34.51666666666667,
                    32.78,
                    35.06,
                    34.8,
                    34.10666666666666,
                    34.76,
                    33.343333333333334,
                    33.96666666666667,
                    35.62,
                    34.94,
                    36.72666666666667,
                    36.85,
                    35.23333333333333,
                    35.843333333333334,
                    31.963333333333335,
                    27.709999999999997,
                    24.689999999999998,
                    23.95,
                    22.2,
                    23.433333333333334,
                    21.099999999999998,
                    22.266666666666666,
                    20.2,
                    20.209999999999997,
                    21.266666666666666,
                    20.433333333333334,
                    20.316666666666666,
                    20.29,
                    21.03,
                    20.963333333333335,
                    22.52333333333333,
                    23.606666666666666,
                    23.843333333333334,
                    26.11,
                    26.983333333333334,
                    29.05,
                    27.320000000000004,
                    27.183333333333334,
                    28.03,
                    29.463333333333335,
                    29.27333333333333,
                    28.183333333333334,
                    30.27333333333333,
                    33.71,
                    34.57666666666666,
                    34.14,
                    36.43666666666667,
                    35.196666666666665,
                    38.56,
                    40.52666666666667,
                    39.413333333333334,
                    37.699999999999996,
                    34.17333333333334,
                    37.21666666666667,
                    36.48,
                    32.376666666666665,
                    29.61,
                    30.05,
                    29.69666666666667,
                    28.44666666666667,
                    28.91,
                    27.183333333333334,
                    26.7,
                    27.113333333333333,
                    28.163333333333338,
                    26.400000000000002,
                    25.573333333333334,
                    26.77333333333333,
                    24.5,
                    26.046666666666667,
                    27.400000000000002,
                    27.41333333333333,
                    30.676666666666666,
                    30.650000000000002,
                    32.163333333333334,
                    31.613333333333333,
                    31.55,
                    36.95,
                    39.17333333333334,
                    42.080000000000005,
                    42.56333333333333,
                    42.449999999999996,
                    42.086666666666666,
                    42.76,
                    42.053333333333335,
                    41.16,
                    41.36666666666667,
                    39.376666666666665,
                    40.83,
                    40.093333333333334,
                    37.48333333333333,
                    38.21,
                    36.21666666666667,
                    32.803333333333335,
                    26.45,
                    29.826666666666668,
                    29.296666666666667,
                    26.016666666666666,
                    28.08666666666667,
                    25.69,
                    24.7,
                    23.626666666666665,
                    25.44666666666667,
                    24.233333333333334,
                    25.676666666666666,
                    32.31,
                    32.21,
                    30.23,
                    33.876666666666665,
                    32.71666666666667,
                    35.67,
                    37.88666666666666,
                    36.65,
                    32.91,
                    35.5,
                    34.56,
                    34.76,
                    35.07,
                    38.22666666666667,
                    40.03333333333333,
                    38.663333333333334,
                    39.89666666666667,
                    37.626666666666665,
                    38.52333333333333,
                    38.01666666666667,
                    40.04,
                    40.99666666666667,
                    40.06333333333333,
                    39.18666666666667,
                    38.19,
                    37.88999999999999,
                    36.876666666666665,
                    35.336666666666666,
                    33.29666666666667,
                    31.72,
                    30.926666666666666,
                    32.96,
                    33,
                    31.89,
                    34.949999999999996,
                    33.94,
                    34.406666666666666,
                    36.300000000000004,
                    38.78,
                    39.13666666666666,
                    42.32666666666666,
                    44.550000000000004,
                    45.71666666666667,
                    46.26666666666667,
                    45.46666666666667,
                    45.196666666666665,
                    44.49,
                    43.13666666666666,
                    43.053333333333335,
                    33.97666666666667,
                    36.04,
                    32.126666666666665,
                    27.790000000000003,
                    27.363333333333333,
                    24.61,
                    26.23,
                    26.363333333333333,
                    25.83666666666667,
                    24.176666666666666,
                    26.766666666666666,
                    26.326666666666668,
                    23.33,
                    21.74,
                    25.75,
                    22.88,
                    23.386666666666667,
                    23.64,
                    24.14,
                    23.599999999999998,
                    21.766666666666666,
                    22.80333333333333,
                    23.850000000000005,
                    24.536666666666665,
                    25.913333333333338,
                    23.566666666666666,
                    23.09,
                    24.47666666666667,
                    24.816666666666666,
                    24.233333333333334,
                    25.05,
                    25.63,
                    23.55,
                    25.41,
                    24.463333333333335,
                    26.45,
                    29.13,
                    28.906666666666666,
                    29.86,
                    32.66,
                    33.96666666666667,
                    36.21,
                    36.376666666666665,
                    41.656666666666666,
                    41.699999999999996,
                    44.89000000000001,
                    46.4,
                    47.73333333333333,
                    46.96666666666667,
                    45.59,
                    45.38333333333333,
                    47.67333333333334,
                    46.47666666666667,
                    46.39000000000001,
                    44.38666666666666,
                    44.65,
                    44.41,
                    39.86,
                    38.42333333333334,
                    39.550000000000004,
                    36.199999999999996,
                    32.57666666666666,
                    33.25,
                    33.79,
                    30.17,
                    30.55,
                    30.566666666666666,
                    30.27333333333333,
                    29.863333333333333,
                    31.75,
                    32.199999999999996,
                    31.790000000000003,
                    32.72,
                    34.233333333333334,
                    34.50333333333333,
                    35.31333333333333,
                    36.52333333333333,
                    36.49,
                    36.59,
                    35.946666666666665,
                    38.71666666666667,
                    41.35,
                    40.13,
                    42.156666666666666,
                    42.73333333333333,
                    46.1,
                    48.25666666666667,
                    48.44,
                    48.4,
                    49.629999999999995,
                    50.949999999999996,
                    50.913333333333334,
                    50.9,
                    50.6,
                    50.73333333333333,
                    50.52666666666667,
                    50.126666666666665,
                    47.84,
                    47.48,
                    46.98,
                    45.38333333333333,
                    46.18,
                    44.78,
                    45.629999999999995,
                    45.126666666666665,
                    43.36666666666667,
                    42.77666666666667,
                    41.78333333333333,
                    40.96666666666667,
                    41.13999999999999,
                    40.89666666666667,
                    40.83,
                    40.75,
                    40.48333333333333,
                    41.22666666666667,
                    30.496666666666666,
                    49.32666666666666,
                    47.6,
                    48.97,
                    55.81,
                    55.26,
                    57,
                    52.343333333333334,
                    50.91,
                    50.336666666666666,
                    51.626666666666665,
                    49.76,
                    47.09,
                    46.85333333333333,
                    45.79666666666666,
                    42.04,
                    41.72,
                    44.050000000000004,
                    34.77666666666667,
                    34.626666666666665,
                    36.126666666666665,
                    28.30333333333333,
                    30.09,
                    29.97,
                    30.05333333333333,
                    33.51,
                    28.80333333333333,
                    34.483333333333334,
                    31.349999999999998,
                    30.3,
                    28.22666666666667,
                    27.49,
                    25.89,
                    27.376666666666665,
                    32.5,
                    33.34,
                    30.413333333333338,
                    27.00333333333333,
                    27.733333333333334,
                    32.46,
                    33.36666666666667,
                    32.01,
                    32.63666666666666,
                    32.33,
                    33.33,
                    33.99,
                    32.07666666666667,
                    32,
                    30.893333333333334,
                    31.426666666666666,
                    34.27333333333333,
                    31.343333333333334,
                    31.72666666666667,
                    33,
                    32.03,
                    31.22666666666667,
                    32.300000000000004,
                    31.849999999999998,
                    36.626666666666665,
                    38.79666666666666,
                    39.53333333333333,
                    39.35,
                    38.86666666666667,
                    38.27333333333333,
                    36.56,
                    39.82,
                    43.050000000000004,
                    42.76,
                    42.29,
                    35.41,
                    36.26666666666667
                  ]
                },
                {
                  "mode": "lines+markers",
                  "name": "outdoor",
                  "type": "scatter",
                  "x": [
                    "2023-07-10T10:32:00+03:00",
                    "2023-07-10T13:02:00+03:00",
                    "2023-07-10T13:26:00+03:00",
                    "2023-07-10T13:29:00+03:00",
                    "2023-07-10T13:52:00+03:00",
                    "2023-07-10T14:30:00+03:00",
                    "2023-07-10T15:27:00+03:00",
                    "2023-07-10T16:16:00+03:00",
                    "2023-07-10T16:35:00+03:00",
                    "2023-07-10T16:36:00+03:00",
                    "2023-07-10T16:39:00+03:00",
                    "2023-07-10T16:58:00+03:00",
                    "2023-07-10T17:33:00+03:00",
                    "2023-07-10T18:18:00+03:00",
                    "2023-07-10T18:22:00+03:00",
                    "2023-07-10T19:10:00+03:00",
                    "2023-07-10T19:31:00+03:00",
                    "2023-07-10T19:55:00+03:00",
                    "2023-07-10T20:08:00+03:00",
                    "2023-07-10T20:53:00+03:00",
                    "2023-07-10T20:54:00+03:00",
                    "2023-07-10T21:01:00+03:00",
                    "2023-07-10T21:18:00+03:00",
                    "2023-07-10T22:11:00+03:00",
                    "2023-07-10T22:14:00+03:00",
                    "2023-07-10T22:25:00+03:00",
                    "2023-07-10T22:30:00+03:00",
                    "2023-07-10T22:36:00+03:00",
                    "2023-07-10T22:42:00+03:00",
                    "2023-07-10T23:30:00+03:00",
                    "2023-07-10T23:31:00+03:00",
                    "2023-07-11T00:12:00+03:00",
                    "2023-07-11T00:17:00+03:00",
                    "2023-07-11T00:19:00+03:00",
                    "2023-07-11T00:37:00+03:00",
                    "2023-07-11T01:22:00+03:00",
                    "2023-07-11T01:23:00+03:00",
                    "2023-07-11T02:07:00+03:00",
                    "2023-07-11T02:20:00+03:00",
                    "2023-07-11T02:51:00+03:00",
                    "2023-07-11T02:58:00+03:00",
                    "2023-07-11T03:10:00+03:00",
                    "2023-07-11T03:11:00+03:00",
                    "2023-07-11T03:12:00+03:00",
                    "2023-07-11T03:24:00+03:00",
                    "2023-07-11T04:22:00+03:00",
                    "2023-07-11T04:30:00+03:00",
                    "2023-07-11T04:41:00+03:00",
                    "2023-07-11T04:44:00+03:00",
                    "2023-07-11T04:53:00+03:00",
                    "2023-07-11T04:56:00+03:00",
                    "2023-07-11T05:41:00+03:00",
                    "2023-07-11T06:17:00+03:00",
                    "2023-07-11T07:04:00+03:00",
                    "2023-07-11T07:17:00+03:00",
                    "2023-07-11T08:10:00+03:00",
                    "2023-07-11T08:26:00+03:00",
                    "2023-07-11T08:37:00+03:00",
                    "2023-07-11T08:59:00+03:00",
                    "2023-07-11T09:00:00+03:00",
                    "2023-07-11T09:21:00+03:00",
                    "2023-07-11T09:34:00+03:00",
                    "2023-07-11T10:09:00+03:00",
                    "2023-07-11T10:41:00+03:00",
                    "2023-07-11T10:43:00+03:00",
                    "2023-07-11T11:03:00+03:00",
                    "2023-07-11T11:23:00+03:00",
                    "2023-07-11T11:37:00+03:00",
                    "2023-07-11T11:47:00+03:00",
                    "2023-07-11T12:05:00+03:00",
                    "2023-07-11T12:26:00+03:00",
                    "2023-07-11T12:41:00+03:00",
                    "2023-07-11T12:42:00+03:00",
                    "2023-07-11T12:50:00+03:00",
                    "2023-07-11T16:48:00+03:00",
                    "2023-07-11T17:18:00+03:00",
                    "2023-07-11T17:30:00+03:00",
                    "2023-07-11T18:20:00+03:00",
                    "2023-07-11T18:30:00+03:00",
                    "2023-07-11T18:32:00+03:00",
                    "2023-07-11T19:54:00+03:00",
                    "2023-07-11T20:15:00+03:00",
                    "2023-07-11T20:36:00+03:00",
                    "2023-07-11T20:49:00+03:00",
                    "2023-07-11T21:59:00+03:00",
                    "2023-07-11T23:29:00+03:00",
                    "2023-07-11T23:53:00+03:00",
                    "2023-07-12T09:05:00+03:00",
                    "2023-07-12T09:45:00+03:00",
                    "2023-07-12T10:18:00+03:00",
                    "2023-07-12T11:51:00+03:00",
                    "2023-07-12T12:02:00+03:00",
                    "2023-07-12T12:04:00+03:00",
                    "2023-07-12T12:13:00+03:00",
                    "2023-07-12T12:37:00+03:00",
                    "2023-07-12T13:24:00+03:00",
                    "2023-07-12T13:58:00+03:00",
                    "2023-07-12T13:59:00+03:00",
                    "2023-07-12T14:44:00+03:00",
                    "2023-07-12T14:47:00+03:00",
                    "2023-07-12T14:56:00+03:00",
                    "2023-07-12T15:55:00+03:00",
                    "2023-07-12T16:29:00+03:00",
                    "2023-07-12T17:04:00+03:00",
                    "2023-07-12T17:29:00+03:00",
                    "2023-07-12T18:11:00+03:00",
                    "2023-07-12T20:31:00+03:00",
                    "2023-07-12T21:17:00+03:00",
                    "2023-07-12T22:03:00+03:00",
                    "2023-07-12T23:12:00+03:00",
                    "2023-07-13T02:38:00+03:00",
                    "2023-07-13T03:59:00+03:00",
                    "2023-07-13T04:26:00+03:00",
                    "2023-07-13T08:43:00+03:00",
                    "2023-07-13T10:24:00+03:00",
                    "2023-07-13T10:44:00+03:00",
                    "2023-07-13T11:20:00+03:00",
                    "2023-07-13T14:30:00+03:00",
                    "2023-07-13T14:34:00+03:00",
                    "2023-07-13T15:07:00+03:00",
                    "2023-07-13T16:39:00+03:00",
                    "2023-07-13T17:34:00+03:00",
                    "2023-07-13T17:50:00+03:00",
                    "2023-07-13T18:57:00+03:00",
                    "2023-07-13T18:58:00+03:00",
                    "2023-07-13T19:00:00+03:00",
                    "2023-07-13T19:08:00+03:00",
                    "2023-07-13T19:10:00+03:00",
                    "2023-07-13T19:43:00+03:00",
                    "2023-07-13T19:53:00+03:00",
                    "2023-07-13T20:06:00+03:00",
                    "2023-07-14T14:18:00+03:00",
                    "2023-07-14T14:41:00+03:00",
                    "2023-07-14T16:17:00+03:00",
                    "2023-07-14T17:25:00+03:00",
                    "2023-07-14T17:45:00+03:00",
                    "2023-07-14T17:46:00+03:00",
                    "2023-07-14T18:20:00+03:00",
                    "2023-07-14T18:21:00+03:00",
                    "2023-07-14T19:07:00+03:00",
                    "2023-07-14T19:18:00+03:00",
                    "2023-07-14T19:50:00+03:00",
                    "2023-07-14T20:29:00+03:00",
                    "2023-07-14T20:38:00+03:00",
                    "2023-07-14T21:01:00+03:00",
                    "2023-07-14T21:12:00+03:00",
                    "2023-07-14T21:13:00+03:00",
                    "2023-07-14T21:36:00+03:00",
                    "2023-07-14T22:13:00+03:00",
                    "2023-07-14T22:15:00+03:00",
                    "2023-07-14T22:57:00+03:00",
                    "2023-07-14T23:32:00+03:00",
                    "2023-07-15T00:28:00+03:00",
                    "2023-07-15T01:18:00+03:00",
                    "2023-07-15T01:39:00+03:00",
                    "2023-07-15T03:34:00+03:00",
                    "2023-07-15T10:08:00+03:00",
                    "2023-07-15T10:19:00+03:00",
                    "2023-07-15T10:40:00+03:00",
                    "2023-07-15T12:44:00+03:00",
                    "2023-07-15T12:46:00+03:00",
                    "2023-07-15T13:29:00+03:00",
                    "2023-07-15T14:09:00+03:00",
                    "2023-07-15T14:17:00+03:00",
                    "2023-07-15T14:51:00+03:00",
                    "2023-07-15T14:52:00+03:00",
                    "2023-07-15T15:26:00+03:00",
                    "2023-07-15T15:40:00+03:00",
                    "2023-07-15T16:13:00+03:00",
                    "2023-07-15T16:26:00+03:00",
                    "2023-07-15T16:36:00+03:00",
                    "2023-07-15T17:32:00+03:00",
                    "2023-07-15T17:44:00+03:00",
                    "2023-07-15T18:05:00+03:00",
                    "2023-07-15T18:32:00+03:00",
                    "2023-07-15T19:29:00+03:00",
                    "2023-07-15T19:57:00+03:00",
                    "2023-07-15T20:59:00+03:00",
                    "2023-07-15T21:00:00+03:00",
                    "2023-07-15T22:24:00+03:00",
                    "2023-07-15T22:46:00+03:00",
                    "2023-07-15T23:09:00+03:00",
                    "2023-07-15T23:33:00+03:00",
                    "2023-07-16T00:42:00+03:00",
                    "2023-07-16T01:37:00+03:00",
                    "2023-07-16T02:05:00+03:00",
                    "2023-07-16T10:40:00+03:00",
                    "2023-07-16T10:48:00+03:00",
                    "2023-07-16T10:50:00+03:00",
                    "2023-07-16T12:10:00+03:00",
                    "2023-07-16T13:42:00+03:00",
                    "2023-07-16T14:13:00+03:00",
                    "2023-07-16T14:15:00+03:00",
                    "2023-07-16T14:24:00+03:00",
                    "2023-07-16T14:37:00+03:00",
                    "2023-07-16T15:14:00+03:00",
                    "2023-07-16T15:23:00+03:00",
                    "2023-07-16T15:25:00+03:00",
                    "2023-07-16T16:01:00+03:00",
                    "2023-07-16T16:31:00+03:00",
                    "2023-07-16T16:56:00+03:00",
                    "2023-07-16T16:57:00+03:00",
                    "2023-07-16T17:08:00+03:00",
                    "2023-07-16T17:45:00+03:00",
                    "2023-07-16T17:52:00+03:00",
                    "2023-07-16T19:13:00+03:00",
                    "2023-07-16T19:17:00+03:00",
                    "2023-07-16T21:23:00+03:00",
                    "2023-07-16T21:25:00+03:00",
                    "2023-07-16T21:48:00+03:00",
                    "2023-07-16T22:08:00+03:00",
                    "2023-07-16T23:33:00+03:00",
                    "2023-07-16T23:51:00+03:00",
                    "2023-07-17T02:23:00+03:00",
                    "2023-07-17T02:54:00+03:00",
                    "2023-07-17T02:57:00+03:00",
                    "2023-07-17T09:52:00+03:00",
                    "2023-07-17T10:45:00+03:00",
                    "2023-07-17T11:11:00+03:00",
                    "2023-07-17T11:21:00+03:00",
                    "2023-07-17T11:24:00+03:00",
                    "2023-07-17T12:31:00+03:00",
                    "2023-07-17T12:45:00+03:00",
                    "2023-07-17T17:41:00+03:00",
                    "2023-07-17T17:42:00+03:00",
                    "2023-07-17T18:07:00+03:00",
                    "2023-07-17T18:38:00+03:00",
                    "2023-07-17T18:55:00+03:00",
                    "2023-07-17T19:40:00+03:00",
                    "2023-07-17T19:51:00+03:00",
                    "2023-07-17T19:59:00+03:00",
                    "2023-07-17T20:09:00+03:00",
                    "2023-07-17T20:38:00+03:00",
                    "2023-07-17T21:24:00+03:00",
                    "2023-07-17T21:35:00+03:00",
                    "2023-07-17T21:58:00+03:00",
                    "2023-07-17T22:54:00+03:00",
                    "2023-07-18T02:47:00+03:00",
                    "2023-07-18T10:13:00+03:00",
                    "2023-07-18T13:44:00+03:00",
                    "2023-07-18T13:45:00+03:00",
                    "2023-07-18T14:31:00+03:00",
                    "2023-07-18T14:44:00+03:00",
                    "2023-07-18T15:07:00+03:00",
                    "2023-07-18T16:04:00+03:00",
                    "2023-07-18T16:26:00+03:00",
                    "2023-07-18T16:37:00+03:00",
                    "2023-07-18T17:09:00+03:00",
                    "2023-07-18T17:27:00+03:00",
                    "2023-07-18T18:11:00+03:00",
                    "2023-07-18T18:21:00+03:00",
                    "2023-07-18T18:23:00+03:00",
                    "2023-07-18T18:33:00+03:00",
                    "2023-07-18T18:44:00+03:00",
                    "2023-07-18T19:30:00+03:00",
                    "2023-07-18T20:16:00+03:00",
                    "2023-07-18T21:45:00+03:00",
                    "2023-07-18T21:49:00+03:00",
                    "2023-07-18T23:58:00+03:00",
                    "2023-07-19T00:09:00+03:00",
                    "2023-07-19T00:28:00+03:00",
                    "2023-07-19T01:18:00+03:00",
                    "2023-07-19T01:36:00+03:00",
                    "2023-07-19T02:59:00+03:00",
                    "2023-07-19T03:02:00+03:00",
                    "2023-07-19T13:42:00+03:00",
                    "2023-07-19T14:39:00+03:00",
                    "2023-07-19T14:50:00+03:00",
                    "2023-07-19T16:13:00+03:00",
                    "2023-07-19T16:22:00+03:00",
                    "2023-07-19T16:38:00+03:00",
                    "2023-07-19T17:09:00+03:00",
                    "2023-07-19T18:33:00+03:00",
                    "2023-07-19T18:41:00+03:00",
                    "2023-07-19T18:59:00+03:00",
                    "2023-07-19T20:49:00+03:00",
                    "2023-07-19T21:13:00+03:00",
                    "2023-07-19T21:14:00+03:00",
                    "2023-07-19T22:01:00+03:00",
                    "2023-07-19T23:46:00+03:00",
                    "2023-07-20T01:03:00+03:00",
                    "2023-07-20T01:58:00+03:00",
                    "2023-07-20T02:12:00+03:00",
                    "2023-07-20T02:13:00+03:00",
                    "2023-07-20T02:35:00+03:00",
                    "2023-07-20T03:10:00+03:00",
                    "2023-07-20T03:11:00+03:00",
                    "2023-07-20T09:42:00+03:00",
                    "2023-07-20T14:04:00+03:00",
                    "2023-07-20T14:43:00+03:00",
                    "2023-07-20T14:50:00+03:00",
                    "2023-07-20T15:02:00+03:00",
                    "2023-07-20T17:37:00+03:00",
                    "2023-07-20T17:58:00+03:00",
                    "2023-07-20T19:52:00+03:00",
                    "2023-07-20T22:53:00+03:00",
                    "2023-07-20T23:03:00+03:00",
                    "2023-07-20T23:42:00+03:00",
                    "2023-07-21T01:16:00+03:00",
                    "2023-07-21T01:25:00+03:00",
                    "2023-07-21T02:01:00+03:00",
                    "2023-07-21T03:20:00+03:00",
                    "2023-07-21T03:21:00+03:00",
                    "2023-07-21T09:43:00+03:00",
                    "2023-07-21T10:16:00+03:00",
                    "2023-07-21T13:16:00+03:00",
                    "2023-07-21T14:38:00+03:00",
                    "2023-07-21T14:41:00+03:00",
                    "2023-07-21T14:52:00+03:00",
                    "2023-07-21T15:02:00+03:00",
                    "2023-07-21T15:04:00+03:00",
                    "2023-07-21T16:11:00+03:00",
                    "2023-07-21T16:46:00+03:00",
                    "2023-07-21T16:56:00+03:00",
                    "2023-07-21T18:07:00+03:00",
                    "2023-07-21T18:21:00+03:00",
                    "2023-07-21T18:30:00+03:00",
                    "2023-07-21T18:42:00+03:00",
                    "2023-07-21T19:06:00+03:00",
                    "2023-07-21T19:29:00+03:00",
                    "2023-07-21T20:03:00+03:00",
                    "2023-07-21T20:04:00+03:00",
                    "2023-07-21T21:02:00+03:00",
                    "2023-07-21T21:15:00+03:00",
                    "2023-07-21T21:23:00+03:00",
                    "2023-07-21T21:47:00+03:00",
                    "2023-07-21T23:17:00+03:00",
                    "2023-07-21T23:33:00+03:00",
                    "2023-07-22T01:07:00+03:00",
                    "2023-07-22T01:17:00+03:00",
                    "2023-07-22T01:50:00+03:00",
                    "2023-07-22T02:26:00+03:00",
                    "2023-07-22T10:54:00+03:00",
                    "2023-07-22T18:19:00+03:00",
                    "2023-07-22T18:20:00+03:00",
                    "2023-07-22T18:32:00+03:00",
                    "2023-07-22T18:43:00+03:00",
                    "2023-07-22T20:27:00+03:00",
                    "2023-07-22T20:41:00+03:00",
                    "2023-07-22T21:05:00+03:00",
                    "2023-07-22T21:15:00+03:00",
                    "2023-07-22T21:46:00+03:00",
                    "2023-07-22T21:47:00+03:00",
                    "2023-07-22T21:49:00+03:00",
                    "2023-07-22T21:56:00+03:00",
                    "2023-07-22T22:24:00+03:00",
                    "2023-07-22T22:35:00+03:00",
                    "2023-07-22T22:55:00+03:00",
                    "2023-07-22T22:56:00+03:00",
                    "2023-07-22T23:54:00+03:00",
                    "2023-07-22T23:56:00+03:00",
                    "2023-07-23T00:52:00+03:00",
                    "2023-07-23T01:00:00+03:00",
                    "2023-07-23T01:26:00+03:00",
                    "2023-07-23T02:34:00+03:00",
                    "2023-07-23T09:40:00+03:00",
                    "2023-07-23T13:08:00+03:00",
                    "2023-07-23T14:48:00+03:00",
                    "2023-07-23T14:51:00+03:00",
                    "2023-07-23T16:53:00+03:00",
                    "2023-07-23T17:56:00+03:00",
                    "2023-07-23T18:06:00+03:00",
                    "2023-07-23T19:13:00+03:00",
                    "2023-07-23T19:24:00+03:00",
                    "2023-07-23T19:37:00+03:00",
                    "2023-07-23T20:51:00+03:00",
                    "2023-07-23T21:09:00+03:00",
                    "2023-07-23T21:20:00+03:00",
                    "2023-07-23T21:44:00+03:00",
                    "2023-07-24T10:31:00+03:00",
                    "2023-07-24T14:25:00+03:00",
                    "2023-07-24T14:26:00+03:00",
                    "2023-07-24T14:45:00+03:00",
                    "2023-07-24T16:58:00+03:00",
                    "2023-07-25T10:43:00+03:00",
                    "2023-07-25T11:06:00+03:00",
                    "2023-07-25T13:48:00+03:00",
                    "2023-07-25T13:49:00+03:00",
                    "2023-07-25T14:10:00+03:00",
                    "2023-07-25T14:32:00+03:00",
                    "2023-07-26T11:11:00+03:00",
                    "2023-07-26T11:40:00+03:00",
                    "2023-07-26T12:26:00+03:00",
                    "2023-07-26T12:41:00+03:00",
                    "2023-07-26T12:52:00+03:00",
                    "2023-07-26T14:25:00+03:00",
                    "2023-07-26T14:27:00+03:00",
                    "2023-07-26T14:57:00+03:00",
                    "2023-07-26T15:20:00+03:00",
                    "2023-07-26T15:46:00+03:00",
                    "2023-07-26T16:05:00+03:00",
                    "2023-07-26T16:30:00+03:00",
                    "2023-07-26T16:42:00+03:00",
                    "2023-07-26T17:01:00+03:00",
                    "2023-07-26T18:02:00+03:00",
                    "2023-07-26T19:02:00+03:00",
                    "2023-07-26T19:03:00+03:00",
                    "2023-07-26T19:14:00+03:00",
                    "2023-07-26T19:25:00+03:00",
                    "2023-07-26T20:24:00+03:00",
                    "2023-07-26T21:06:00+03:00",
                    "2023-07-26T21:30:00+03:00",
                    "2023-07-26T21:53:00+03:00",
                    "2023-07-26T22:40:00+03:00",
                    "2023-07-26T23:05:00+03:00",
                    "2023-07-27T00:04:00+03:00",
                    "2023-07-27T00:13:00+03:00",
                    "2023-07-27T00:46:00+03:00",
                    "2023-07-27T01:43:00+03:00",
                    "2023-07-27T01:47:00+03:00",
                    "2023-07-27T09:50:00+03:00",
                    "2023-07-27T11:05:00+03:00",
                    "2023-07-27T14:43:00+03:00",
                    "2023-07-27T16:38:00+03:00",
                    "2023-07-27T16:59:00+03:00",
                    "2023-07-27T17:09:00+03:00",
                    "2023-07-27T17:38:00+03:00",
                    "2023-07-27T17:51:00+03:00",
                    "2023-07-27T19:09:00+03:00",
                    "2023-07-27T19:19:00+03:00",
                    "2023-07-27T20:04:00+03:00",
                    "2023-07-27T20:14:00+03:00",
                    "2023-07-27T20:51:00+03:00",
                    "2023-07-27T20:56:00+03:00",
                    "2023-07-27T21:28:00+03:00",
                    "2023-07-27T22:27:00+03:00",
                    "2023-07-27T22:35:00+03:00",
                    "2023-07-27T23:01:00+03:00",
                    "2023-07-27T23:19:00+03:00",
                    "2023-07-28T00:32:00+03:00",
                    "2023-07-28T00:41:00+03:00",
                    "2023-07-28T01:18:00+03:00",
                    "2023-07-28T01:50:00+03:00",
                    "2023-07-28T11:00:00+03:00",
                    "2023-07-28T13:20:00+03:00",
                    "2023-07-28T17:46:00+03:00",
                    "2023-07-28T18:15:00+03:00",
                    "2023-07-28T18:28:00+03:00",
                    "2023-07-28T18:59:00+03:00",
                    "2023-07-28T19:18:00+03:00",
                    "2023-07-28T19:49:00+03:00",
                    "2023-07-28T20:02:00+03:00",
                    "2023-07-28T20:04:00+03:00",
                    "2023-07-28T20:26:00+03:00",
                    "2023-07-28T20:47:00+03:00",
                    "2023-07-28T22:05:00+03:00",
                    "2023-07-28T23:04:00+03:00",
                    "2023-07-28T23:17:00+03:00",
                    "2023-07-28T23:38:00+03:00",
                    "2023-07-28T23:52:00+03:00",
                    "2023-07-29T10:14:00+03:00",
                    "2023-07-29T10:29:00+03:00",
                    "2023-07-29T12:35:00+03:00",
                    "2023-07-29T12:57:00+03:00",
                    "2023-07-29T14:08:00+03:00",
                    "2023-07-29T16:02:00+03:00",
                    "2023-07-29T16:53:00+03:00",
                    "2023-07-29T18:22:00+03:00",
                    "2023-07-29T18:38:00+03:00",
                    "2023-07-29T19:22:00+03:00",
                    "2023-07-30T14:29:00+03:00",
                    "2023-07-30T15:40:00+03:00",
                    "2023-07-30T15:49:00+03:00",
                    "2023-07-30T16:12:00+03:00",
                    "2023-07-30T16:22:00+03:00",
                    "2023-07-30T18:45:00+03:00",
                    "2023-07-30T20:26:00+03:00",
                    "2023-07-31T10:57:00+03:00",
                    "2023-07-31T12:13:00+03:00",
                    "2023-07-31T12:18:00+03:00",
                    "2023-07-31T13:13:00+03:00",
                    "2023-07-31T14:33:00+03:00",
                    "2023-07-31T15:36:00+03:00",
                    "2023-07-31T15:44:00+03:00",
                    "2023-07-31T16:22:00+03:00",
                    "2023-07-31T16:29:00+03:00",
                    "2023-07-31T16:51:00+03:00",
                    "2023-07-31T17:16:00+03:00",
                    "2023-08-02T11:47:00+03:00",
                    "2023-08-02T14:28:00+03:00",
                    "2023-08-03T11:29:00+03:00",
                    "2023-08-03T15:28:00+03:00",
                    "2023-08-03T15:50:00+03:00",
                    "2023-08-04T10:39:00+03:00",
                    "2023-08-04T13:55:00+03:00",
                    "2023-08-05T09:58:00+03:00",
                    "2023-08-05T13:09:00+03:00",
                    "2023-08-05T18:31:00+03:00",
                    "2023-08-06T09:44:00+03:00",
                    "2023-08-06T10:17:00+03:00",
                    "2023-08-06T11:22:00+03:00",
                    "2023-08-06T11:32:00+03:00",
                    "2023-08-06T12:14:00+03:00",
                    "2023-08-06T14:00:00+03:00",
                    "2023-08-06T14:22:00+03:00",
                    "2023-08-06T14:35:00+03:00",
                    "2023-08-06T16:36:00+03:00",
                    "2023-08-06T23:03:00+03:00",
                    "2023-08-07T13:17:00+03:00",
                    "2023-08-08T15:28:00+03:00",
                    "2023-08-08T15:37:00+03:00",
                    "2023-08-09T15:16:00+03:00",
                    "2023-08-09T15:29:00+03:00",
                    "2023-08-09T16:26:00+03:00",
                    "2023-08-09T18:24:00+03:00",
                    "2023-08-09T19:05:00+03:00",
                    "2023-08-09T20:04:00+03:00",
                    "2023-08-09T20:26:00+03:00",
                    "2023-08-09T21:02:00+03:00",
                    "2023-08-09T21:04:00+03:00",
                    "2023-08-09T21:11:00+03:00",
                    "2023-08-09T22:58:00+03:00",
                    "2023-08-10T13:51:00+03:00",
                    "2023-08-10T13:53:00+03:00",
                    "2023-08-10T14:17:00+03:00",
                    "2023-08-10T14:58:00+03:00",
                    "2023-08-10T18:22:00+03:00",
                    "2023-08-10T18:44:00+03:00",
                    "2023-08-10T20:15:00+03:00",
                    "2023-08-10T20:48:00+03:00",
                    "2023-08-11T12:40:00+03:00",
                    "2023-08-11T13:01:00+03:00",
                    "2023-08-11T13:49:00+03:00",
                    "2023-08-11T15:46:00+03:00",
                    "2023-08-11T15:59:00+03:00",
                    "2023-08-12T16:36:00+03:00",
                    "2023-08-12T16:46:00+03:00",
                    "2023-08-12T16:48:00+03:00",
                    "2023-08-12T22:10:00+03:00",
                    "2023-08-12T22:44:00+03:00",
                    "2023-08-12T23:52:00+03:00",
                    "2023-08-13T13:30:00+03:00",
                    "2023-08-13T13:40:00+03:00",
                    "2023-08-13T14:33:00+03:00",
                    "2023-08-14T15:14:00+03:00",
                    "2023-08-14T15:17:00+03:00",
                    "2023-08-14T15:25:00+03:00",
                    "2023-08-14T15:35:00+03:00",
                    "2023-08-14T15:57:00+03:00",
                    "2023-08-14T17:18:00+03:00",
                    "2023-08-14T17:55:00+03:00",
                    "2023-08-14T17:57:00+03:00",
                    "2023-08-14T17:58:00+03:00",
                    "2023-08-14T18:10:00+03:00",
                    "2023-08-14T18:31:00+03:00",
                    "2023-08-14T18:51:00+03:00",
                    "2023-08-14T23:19:00+03:00",
                    "2023-08-14T23:48:00+03:00",
                    "2023-08-15T11:08:00+03:00",
                    "2023-08-15T11:40:00+03:00",
                    "2023-08-15T11:42:00+03:00",
                    "2023-08-15T12:05:00+03:00",
                    "2023-08-15T13:14:00+03:00"
                  ],
                  "y": [
                    40.86666666666667,
                    34.28333333333333,
                    31.076666666666668,
                    31.646666666666665,
                    32.163333333333334,
                    23.72,
                    32.89,
                    22.61,
                    21.8,
                    31.47666666666667,
                    24.84,
                    22.136666666666667,
                    21.136666666666667,
                    22.97,
                    20.233333333333334,
                    18.266666666666666,
                    53.22,
                    22.66,
                    22.24,
                    46.39666666666667,
                    29.02,
                    41.46,
                    25.213333333333335,
                    41.5,
                    42.54,
                    42.31,
                    26.040000000000003,
                    41.46,
                    26.62,
                    61.580000000000005,
                    25.36,
                    27.24,
                    62.656666666666666,
                    62.57666666666666,
                    31.203333333333333,
                    30.3,
                    30.926666666666666,
                    28.14,
                    26.98,
                    43.68,
                    42.89666666666667,
                    34.46,
                    32.52333333333333,
                    36.24,
                    37.419999999999995,
                    46.550000000000004,
                    36.22,
                    26.893333333333334,
                    43.10999999999999,
                    32.24333333333333,
                    46.06,
                    34.63666666666666,
                    41.35333333333333,
                    44.47666666666667,
                    45.39666666666667,
                    45.800000000000004,
                    47.85999999999999,
                    49.876666666666665,
                    48.879999999999995,
                    49.173333333333325,
                    47.23333333333333,
                    46.21666666666667,
                    46.56333333333333,
                    49.446666666666665,
                    44.67333333333334,
                    45.52333333333333,
                    50.61666666666667,
                    41.93666666666667,
                    45.99666666666667,
                    39.15,
                    38.086666666666666,
                    38.196666666666665,
                    49.36666666666667,
                    37.61666666666667,
                    22.213333333333335,
                    23.850000000000005,
                    28.863333333333333,
                    30.959999999999997,
                    32.199999999999996,
                    33.53333333333333,
                    43.61666666666667,
                    45.96,
                    52.21,
                    52.35333333333333,
                    63.923333333333325,
                    40.27666666666667,
                    34.96666666666667,
                    50.06,
                    45.20333333333334,
                    49.20333333333334,
                    43.07666666666666,
                    43.28333333333333,
                    43.97,
                    48.69,
                    38.64,
                    42.86666666666667,
                    40.626666666666665,
                    40.093333333333334,
                    35.86,
                    36.64666666666667,
                    33.84,
                    29.336666666666662,
                    22.02333333333333,
                    22.189999999999998,
                    23.376666666666665,
                    24.786666666666665,
                    43.4,
                    36.74666666666667,
                    44.696666666666665,
                    35.61,
                    52.43666666666667,
                    18.363333333333333,
                    45.086666666666666,
                    46.19,
                    37.9,
                    34.95333333333333,
                    24.536666666666665,
                    19.55,
                    23.536666666666665,
                    18.273333333333333,
                    32.47,
                    25.66333333333333,
                    28.22666666666667,
                    31.02333333333333,
                    31.52333333333333,
                    31.816666666666666,
                    32.42333333333334,
                    32.876666666666665,
                    36.29,
                    34.47666666666667,
                    38.11666666666667,
                    37.56333333333333,
                    39.800000000000004,
                    35.77,
                    35.83,
                    31.913333333333338,
                    34.32666666666666,
                    36.02,
                    37.19,
                    39.75,
                    43.25666666666666,
                    45.50666666666666,
                    47.68666666666667,
                    47.449999999999996,
                    51.48333333333333,
                    49.12,
                    49.50666666666667,
                    39.85,
                    45.73333333333333,
                    46.35,
                    44.25,
                    41.61,
                    44.14000000000001,
                    44.57,
                    44.56,
                    42.843333333333334,
                    35.46,
                    34.61,
                    35.303333333333335,
                    23.786666666666665,
                    20.37,
                    25.016666666666666,
                    21.126666666666665,
                    23.62,
                    23.356666666666666,
                    22.75333333333333,
                    16.476666666666667,
                    28.573333333333334,
                    30.25,
                    18.16,
                    15.6,
                    34.6,
                    24.843333333333334,
                    24.24,
                    27.516666666666666,
                    34.34,
                    38.93666666666667,
                    61.620000000000005,
                    60.12,
                    46.81333333333333,
                    47.32,
                    50.419999999999995,
                    52.72666666666667,
                    48.54,
                    43.949999999999996,
                    42.586666666666666,
                    43.78333333333333,
                    42.13,
                    42.23,
                    37.086666666666666,
                    23.349999999999998,
                    22.39,
                    22.573333333333334,
                    22.326666666666668,
                    21.72,
                    23.38,
                    21.97666666666667,
                    22.566666666666666,
                    23.363333333333333,
                    25.439999999999998,
                    23.310000000000002,
                    25.97666666666667,
                    39.84,
                    32.15,
                    34.913333333333334,
                    31.323333333333334,
                    30.136666666666667,
                    70.35000000000001,
                    69.02,
                    67.02666666666666,
                    56.26666666666667,
                    54.29,
                    46.96666666666667,
                    39.093333333333334,
                    43.52333333333333,
                    44.02333333333333,
                    31.016666666666666,
                    30.01,
                    26.796666666666667,
                    28.26,
                    29.16,
                    27.703333333333333,
                    24.406666666666666,
                    47.57666666666666,
                    47.92333333333334,
                    50.97666666666667,
                    60.18666666666667,
                    54.15,
                    50.93,
                    47.60999999999999,
                    55.919999999999995,
                    65.93666666666667,
                    54.19,
                    50.78333333333333,
                    51.550000000000004,
                    53.76,
                    75.85333333333334,
                    43.81,
                    46.73,
                    37.74,
                    38.69,
                    35.68666666666667,
                    36.626666666666665,
                    34.876666666666665,
                    36.03,
                    39.32,
                    37.35,
                    35.89,
                    38.78,
                    37.86666666666667,
                    38.53333333333333,
                    36.29666666666667,
                    39.4,
                    38.88999999999999,
                    39.93,
                    45.88666666666666,
                    46.88333333333333,
                    46.25,
                    43.31,
                    40.050000000000004,
                    42.85333333333333,
                    38.28333333333333,
                    39.24,
                    41.75,
                    40.73,
                    17.323333333333334,
                    20.76,
                    16.176666666666666,
                    17.366666666666667,
                    18.536666666666665,
                    18.726666666666667,
                    21.286666666666665,
                    23,
                    26.58,
                    21.266666666666666,
                    33.27,
                    40.57,
                    40.89,
                    36.03333333333333,
                    42.6,
                    55.21666666666667,
                    47.26,
                    42.65,
                    41.64,
                    36.81333333333333,
                    36.82,
                    37.49,
                    58.10333333333333,
                    15.756666666666666,
                    17.226666666666667,
                    16.900000000000002,
                    12.063333333333333,
                    28.350000000000005,
                    29.98,
                    39.28333333333333,
                    43.92333333333334,
                    43.63333333333333,
                    41.76,
                    38.25,
                    39.15,
                    36.38666666666666,
                    17.6,
                    16.993333333333332,
                    42.09,
                    48.56333333333333,
                    25.613333333333333,
                    17.066666666666666,
                    14.676666666666668,
                    14.94,
                    14.410000000000002,
                    16.01,
                    19.83666666666667,
                    21.439999999999998,
                    24.91,
                    24.86,
                    32.376666666666665,
                    31.143333333333334,
                    29.23,
                    35.07666666666666,
                    34.67333333333333,
                    43.21666666666667,
                    45.82666666666666,
                    56.03,
                    55.6,
                    55.41,
                    56.56333333333333,
                    48.07666666666666,
                    46.26666666666667,
                    45.38666666666666,
                    44.02333333333333,
                    42.343333333333334,
                    45.53333333333333,
                    34.36,
                    25.72,
                    25.926666666666666,
                    28.483333333333334,
                    28.570000000000004,
                    55.47666666666667,
                    52.126666666666665,
                    58.75,
                    65.29,
                    43.24,
                    42.62,
                    42.57666666666666,
                    44.5,
                    35.483333333333334,
                    38.27333333333333,
                    43.82666666666666,
                    44.77333333333333,
                    39.65,
                    42.51,
                    44.449999999999996,
                    46.04999999999999,
                    42.14,
                    47.65,
                    89.98333333333333,
                    22.16,
                    16.893333333333334,
                    16.776666666666667,
                    19.99,
                    25.74666666666667,
                    27.83,
                    32.04,
                    37.07,
                    42.65,
                    72.7,
                    53.24666666666667,
                    51.413333333333334,
                    54.4,
                    40.26,
                    73.38333333333333,
                    71.46,
                    74.02,
                    32.53333333333333,
                    56.52,
                    52.47666666666667,
                    21.816666666666666,
                    24.463333333333335,
                    22.323333333333334,
                    19.536666666666665,
                    95.00999999999999,
                    89.65000000000002,
                    51.94,
                    51.76666666666667,
                    54.64666666666667,
                    39.36,
                    38.63,
                    35.93666666666667,
                    33.22333333333333,
                    31.72,
                    32.51666666666667,
                    31.323333333333334,
                    29.87,
                    29.62,
                    22.30333333333333,
                    29.713333333333335,
                    28.953333333333333,
                    34.9,
                    42.1,
                    49.35999999999999,
                    52.446666666666665,
                    51.56,
                    66.7,
                    49.03333333333333,
                    45.94,
                    42.04666666666666,
                    42.449999999999996,
                    48.35333333333333,
                    42.47,
                    41.46,
                    72.85,
                    48.39000000000001,
                    24.386666666666667,
                    25.266666666666666,
                    22.47666666666667,
                    26.27333333333333,
                    29.75,
                    31.45,
                    33.699999999999996,
                    35.449999999999996,
                    44.71,
                    37.15,
                    44.96666666666667,
                    44.81333333333333,
                    48.586666666666666,
                    44.82666666666666,
                    43.11666666666667,
                    43.156666666666666,
                    41.03,
                    34.76,
                    35.4,
                    36.16,
                    36.97666666666667,
                    65.48333333333333,
                    41.406666666666666,
                    30.626666666666665,
                    25.26,
                    28.459999999999997,
                    33.35666666666666,
                    34.35,
                    40.13,
                    41.54,
                    43.01666666666667,
                    41.669999999999995,
                    43.98,
                    54.94,
                    52.09,
                    46.53333333333333,
                    45.413333333333334,
                    44.39000000000001,
                    48.626666666666665,
                    46.76666666666667,
                    44.25,
                    43.120000000000005,
                    43.27333333333333,
                    23.92,
                    32.76,
                    33,
                    42.77333333333333,
                    37.46,
                    45.086666666666666,
                    29.34,
                    20.226666666666667,
                    19.726666666666667,
                    20.09,
                    38.97666666666667,
                    50.803333333333335,
                    56.85,
                    46.54,
                    48.48,
                    43.46,
                    40.49,
                    51.75,
                    53.77,
                    56.31333333333333,
                    55.4,
                    67.77,
                    59.67333333333334,
                    51.35,
                    50.5,
                    17.626666666666665,
                    17.773333333333333,
                    16.703333333333333,
                    40.93,
                    28.45,
                    71.29,
                    17.923333333333332,
                    41.39,
                    39,
                    29.636666666666667,
                    20.576666666666668,
                    17.349999999999998,
                    16.49,
                    27.56,
                    19.226666666666667,
                    11.756666666666666,
                    45.07666666666666,
                    54.64000000000001,
                    25.183333333333334,
                    36.36,
                    38.38999999999999,
                    14.276666666666666,
                    17.65,
                    20.53,
                    33.343333333333334,
                    26.34,
                    47.4,
                    44.419999999999995,
                    48.43,
                    44.96,
                    42.626666666666665,
                    50.23333333333333,
                    38.72,
                    38.99,
                    43.00666666666667,
                    34.61,
                    31.400000000000002,
                    34.11333333333334,
                    43.68666666666667,
                    46.79666666666666,
                    18.506666666666668,
                    21.64,
                    29.52333333333333,
                    24.850000000000005,
                    20.02,
                    24.74,
                    27.136666666666667,
                    25.433333333333334,
                    46.81333333333333,
                    49.54,
                    45.656666666666666,
                    40.92333333333334,
                    39.53333333333333,
                    42.050000000000004,
                    45.21,
                    35.803333333333335,
                    41.169999999999995,
                    37.49,
                    29.650000000000002,
                    33.57666666666666,
                    34.25333333333333,
                    39.233333333333334,
                    38.553333333333335,
                    31.323333333333334,
                    33.126666666666665,
                    40.63666666666666,
                    45.81,
                    45.050000000000004,
                    36.36,
                    35.74,
                    37.77,
                    37.51666666666667,
                    34.24
                  ]
                }
              ],
              "layout": {
                "template": {
                  "data": {
                    "bar": [
                      {
                        "error_x": {
                          "color": "#2a3f5f"
                        },
                        "error_y": {
                          "color": "#2a3f5f"
                        },
                        "marker": {
                          "line": {
                            "color": "#E5ECF6",
                            "width": 0.5
                          },
                          "pattern": {
                            "fillmode": "overlay",
                            "size": 10,
                            "solidity": 0.2
                          }
                        },
                        "type": "bar"
                      }
                    ],
                    "barpolar": [
                      {
                        "marker": {
                          "line": {
                            "color": "#E5ECF6",
                            "width": 0.5
                          },
                          "pattern": {
                            "fillmode": "overlay",
                            "size": 10,
                            "solidity": 0.2
                          }
                        },
                        "type": "barpolar"
                      }
                    ],
                    "carpet": [
                      {
                        "aaxis": {
                          "endlinecolor": "#2a3f5f",
                          "gridcolor": "white",
                          "linecolor": "white",
                          "minorgridcolor": "white",
                          "startlinecolor": "#2a3f5f"
                        },
                        "baxis": {
                          "endlinecolor": "#2a3f5f",
                          "gridcolor": "white",
                          "linecolor": "white",
                          "minorgridcolor": "white",
                          "startlinecolor": "#2a3f5f"
                        },
                        "type": "carpet"
                      }
                    ],
                    "choropleth": [
                      {
                        "colorbar": {
                          "outlinewidth": 0,
                          "ticks": ""
                        },
                        "type": "choropleth"
                      }
                    ],
                    "contour": [
                      {
                        "colorbar": {
                          "outlinewidth": 0,
                          "ticks": ""
                        },
                        "colorscale": [
                          [
                            0,
                            "#0d0887"
                          ],
                          [
                            0.1111111111111111,
                            "#46039f"
                          ],
                          [
                            0.2222222222222222,
                            "#7201a8"
                          ],
                          [
                            0.3333333333333333,
                            "#9c179e"
                          ],
                          [
                            0.4444444444444444,
                            "#bd3786"
                          ],
                          [
                            0.5555555555555556,
                            "#d8576b"
                          ],
                          [
                            0.6666666666666666,
                            "#ed7953"
                          ],
                          [
                            0.7777777777777778,
                            "#fb9f3a"
                          ],
                          [
                            0.8888888888888888,
                            "#fdca26"
                          ],
                          [
                            1,
                            "#f0f921"
                          ]
                        ],
                        "type": "contour"
                      }
                    ],
                    "contourcarpet": [
                      {
                        "colorbar": {
                          "outlinewidth": 0,
                          "ticks": ""
                        },
                        "type": "contourcarpet"
                      }
                    ],
                    "heatmap": [
                      {
                        "colorbar": {
                          "outlinewidth": 0,
                          "ticks": ""
                        },
                        "colorscale": [
                          [
                            0,
                            "#0d0887"
                          ],
                          [
                            0.1111111111111111,
                            "#46039f"
                          ],
                          [
                            0.2222222222222222,
                            "#7201a8"
                          ],
                          [
                            0.3333333333333333,
                            "#9c179e"
                          ],
                          [
                            0.4444444444444444,
                            "#bd3786"
                          ],
                          [
                            0.5555555555555556,
                            "#d8576b"
                          ],
                          [
                            0.6666666666666666,
                            "#ed7953"
                          ],
                          [
                            0.7777777777777778,
                            "#fb9f3a"
                          ],
                          [
                            0.8888888888888888,
                            "#fdca26"
                          ],
                          [
                            1,
                            "#f0f921"
                          ]
                        ],
                        "type": "heatmap"
                      }
                    ],
                    "heatmapgl": [
                      {
                        "colorbar": {
                          "outlinewidth": 0,
                          "ticks": ""
                        },
                        "colorscale": [
                          [
                            0,
                            "#0d0887"
                          ],
                          [
                            0.1111111111111111,
                            "#46039f"
                          ],
                          [
                            0.2222222222222222,
                            "#7201a8"
                          ],
                          [
                            0.3333333333333333,
                            "#9c179e"
                          ],
                          [
                            0.4444444444444444,
                            "#bd3786"
                          ],
                          [
                            0.5555555555555556,
                            "#d8576b"
                          ],
                          [
                            0.6666666666666666,
                            "#ed7953"
                          ],
                          [
                            0.7777777777777778,
                            "#fb9f3a"
                          ],
                          [
                            0.8888888888888888,
                            "#fdca26"
                          ],
                          [
                            1,
                            "#f0f921"
                          ]
                        ],
                        "type": "heatmapgl"
                      }
                    ],
                    "histogram": [
                      {
                        "marker": {
                          "pattern": {
                            "fillmode": "overlay",
                            "size": 10,
                            "solidity": 0.2
                          }
                        },
                        "type": "histogram"
                      }
                    ],
                    "histogram2d": [
                      {
                        "colorbar": {
                          "outlinewidth": 0,
                          "ticks": ""
                        },
                        "colorscale": [
                          [
                            0,
                            "#0d0887"
                          ],
                          [
                            0.1111111111111111,
                            "#46039f"
                          ],
                          [
                            0.2222222222222222,
                            "#7201a8"
                          ],
                          [
                            0.3333333333333333,
                            "#9c179e"
                          ],
                          [
                            0.4444444444444444,
                            "#bd3786"
                          ],
                          [
                            0.5555555555555556,
                            "#d8576b"
                          ],
                          [
                            0.6666666666666666,
                            "#ed7953"
                          ],
                          [
                            0.7777777777777778,
                            "#fb9f3a"
                          ],
                          [
                            0.8888888888888888,
                            "#fdca26"
                          ],
                          [
                            1,
                            "#f0f921"
                          ]
                        ],
                        "type": "histogram2d"
                      }
                    ],
                    "histogram2dcontour": [
                      {
                        "colorbar": {
                          "outlinewidth": 0,
                          "ticks": ""
                        },
                        "colorscale": [
                          [
                            0,
                            "#0d0887"
                          ],
                          [
                            0.1111111111111111,
                            "#46039f"
                          ],
                          [
                            0.2222222222222222,
                            "#7201a8"
                          ],
                          [
                            0.3333333333333333,
                            "#9c179e"
                          ],
                          [
                            0.4444444444444444,
                            "#bd3786"
                          ],
                          [
                            0.5555555555555556,
                            "#d8576b"
                          ],
                          [
                            0.6666666666666666,
                            "#ed7953"
                          ],
                          [
                            0.7777777777777778,
                            "#fb9f3a"
                          ],
                          [
                            0.8888888888888888,
                            "#fdca26"
                          ],
                          [
                            1,
                            "#f0f921"
                          ]
                        ],
                        "type": "histogram2dcontour"
                      }
                    ],
                    "mesh3d": [
                      {
                        "colorbar": {
                          "outlinewidth": 0,
                          "ticks": ""
                        },
                        "type": "mesh3d"
                      }
                    ],
                    "parcoords": [
                      {
                        "line": {
                          "colorbar": {
                            "outlinewidth": 0,
                            "ticks": ""
                          }
                        },
                        "type": "parcoords"
                      }
                    ],
                    "pie": [
                      {
                        "automargin": true,
                        "type": "pie"
                      }
                    ],
                    "scatter": [
                      {
                        "fillpattern": {
                          "fillmode": "overlay",
                          "size": 10,
                          "solidity": 0.2
                        },
                        "type": "scatter"
                      }
                    ],
                    "scatter3d": [
                      {
                        "line": {
                          "colorbar": {
                            "outlinewidth": 0,
                            "ticks": ""
                          }
                        },
                        "marker": {
                          "colorbar": {
                            "outlinewidth": 0,
                            "ticks": ""
                          }
                        },
                        "type": "scatter3d"
                      }
                    ],
                    "scattercarpet": [
                      {
                        "marker": {
                          "colorbar": {
                            "outlinewidth": 0,
                            "ticks": ""
                          }
                        },
                        "type": "scattercarpet"
                      }
                    ],
                    "scattergeo": [
                      {
                        "marker": {
                          "colorbar": {
                            "outlinewidth": 0,
                            "ticks": ""
                          }
                        },
                        "type": "scattergeo"
                      }
                    ],
                    "scattergl": [
                      {
                        "marker": {
                          "colorbar": {
                            "outlinewidth": 0,
                            "ticks": ""
                          }
                        },
                        "type": "scattergl"
                      }
                    ],
                    "scattermapbox": [
                      {
                        "marker": {
                          "colorbar": {
                            "outlinewidth": 0,
                            "ticks": ""
                          }
                        },
                        "type": "scattermapbox"
                      }
                    ],
                    "scatterpolar": [
                      {
                        "marker": {
                          "colorbar": {
                            "outlinewidth": 0,
                            "ticks": ""
                          }
                        },
                        "type": "scatterpolar"
                      }
                    ],
                    "scatterpolargl": [
                      {
                        "marker": {
                          "colorbar": {
                            "outlinewidth": 0,
                            "ticks": ""
                          }
                        },
                        "type": "scatterpolargl"
                      }
                    ],
                    "scatterternary": [
                      {
                        "marker": {
                          "colorbar": {
                            "outlinewidth": 0,
                            "ticks": ""
                          }
                        },
                        "type": "scatterternary"
                      }
                    ],
                    "surface": [
                      {
                        "colorbar": {
                          "outlinewidth": 0,
                          "ticks": ""
                        },
                        "colorscale": [
                          [
                            0,
                            "#0d0887"
                          ],
                          [
                            0.1111111111111111,
                            "#46039f"
                          ],
                          [
                            0.2222222222222222,
                            "#7201a8"
                          ],
                          [
                            0.3333333333333333,
                            "#9c179e"
                          ],
                          [
                            0.4444444444444444,
                            "#bd3786"
                          ],
                          [
                            0.5555555555555556,
                            "#d8576b"
                          ],
                          [
                            0.6666666666666666,
                            "#ed7953"
                          ],
                          [
                            0.7777777777777778,
                            "#fb9f3a"
                          ],
                          [
                            0.8888888888888888,
                            "#fdca26"
                          ],
                          [
                            1,
                            "#f0f921"
                          ]
                        ],
                        "type": "surface"
                      }
                    ],
                    "table": [
                      {
                        "cells": {
                          "fill": {
                            "color": "#EBF0F8"
                          },
                          "line": {
                            "color": "white"
                          }
                        },
                        "header": {
                          "fill": {
                            "color": "#C8D4E3"
                          },
                          "line": {
                            "color": "white"
                          }
                        },
                        "type": "table"
                      }
                    ]
                  },
                  "layout": {
                    "annotationdefaults": {
                      "arrowcolor": "#2a3f5f",
                      "arrowhead": 0,
                      "arrowwidth": 1
                    },
                    "autotypenumbers": "strict",
                    "coloraxis": {
                      "colorbar": {
                        "outlinewidth": 0,
                        "ticks": ""
                      }
                    },
                    "colorscale": {
                      "diverging": [
                        [
                          0,
                          "#8e0152"
                        ],
                        [
                          0.1,
                          "#c51b7d"
                        ],
                        [
                          0.2,
                          "#de77ae"
                        ],
                        [
                          0.3,
                          "#f1b6da"
                        ],
                        [
                          0.4,
                          "#fde0ef"
                        ],
                        [
                          0.5,
                          "#f7f7f7"
                        ],
                        [
                          0.6,
                          "#e6f5d0"
                        ],
                        [
                          0.7,
                          "#b8e186"
                        ],
                        [
                          0.8,
                          "#7fbc41"
                        ],
                        [
                          0.9,
                          "#4d9221"
                        ],
                        [
                          1,
                          "#276419"
                        ]
                      ],
                      "sequential": [
                        [
                          0,
                          "#0d0887"
                        ],
                        [
                          0.1111111111111111,
                          "#46039f"
                        ],
                        [
                          0.2222222222222222,
                          "#7201a8"
                        ],
                        [
                          0.3333333333333333,
                          "#9c179e"
                        ],
                        [
                          0.4444444444444444,
                          "#bd3786"
                        ],
                        [
                          0.5555555555555556,
                          "#d8576b"
                        ],
                        [
                          0.6666666666666666,
                          "#ed7953"
                        ],
                        [
                          0.7777777777777778,
                          "#fb9f3a"
                        ],
                        [
                          0.8888888888888888,
                          "#fdca26"
                        ],
                        [
                          1,
                          "#f0f921"
                        ]
                      ],
                      "sequentialminus": [
                        [
                          0,
                          "#0d0887"
                        ],
                        [
                          0.1111111111111111,
                          "#46039f"
                        ],
                        [
                          0.2222222222222222,
                          "#7201a8"
                        ],
                        [
                          0.3333333333333333,
                          "#9c179e"
                        ],
                        [
                          0.4444444444444444,
                          "#bd3786"
                        ],
                        [
                          0.5555555555555556,
                          "#d8576b"
                        ],
                        [
                          0.6666666666666666,
                          "#ed7953"
                        ],
                        [
                          0.7777777777777778,
                          "#fb9f3a"
                        ],
                        [
                          0.8888888888888888,
                          "#fdca26"
                        ],
                        [
                          1,
                          "#f0f921"
                        ]
                      ]
                    },
                    "colorway": [
                      "#636efa",
                      "#EF553B",
                      "#00cc96",
                      "#ab63fa",
                      "#FFA15A",
                      "#19d3f3",
                      "#FF6692",
                      "#B6E880",
                      "#FF97FF",
                      "#FECB52"
                    ],
                    "font": {
                      "color": "#2a3f5f"
                    },
                    "geo": {
                      "bgcolor": "white",
                      "lakecolor": "white",
                      "landcolor": "#E5ECF6",
                      "showlakes": true,
                      "showland": true,
                      "subunitcolor": "white"
                    },
                    "hoverlabel": {
                      "align": "left"
                    },
                    "hovermode": "closest",
                    "mapbox": {
                      "style": "light"
                    },
                    "paper_bgcolor": "white",
                    "plot_bgcolor": "#E5ECF6",
                    "polar": {
                      "angularaxis": {
                        "gridcolor": "white",
                        "linecolor": "white",
                        "ticks": ""
                      },
                      "bgcolor": "#E5ECF6",
                      "radialaxis": {
                        "gridcolor": "white",
                        "linecolor": "white",
                        "ticks": ""
                      }
                    },
                    "scene": {
                      "xaxis": {
                        "backgroundcolor": "#E5ECF6",
                        "gridcolor": "white",
                        "gridwidth": 2,
                        "linecolor": "white",
                        "showbackground": true,
                        "ticks": "",
                        "zerolinecolor": "white"
                      },
                      "yaxis": {
                        "backgroundcolor": "#E5ECF6",
                        "gridcolor": "white",
                        "gridwidth": 2,
                        "linecolor": "white",
                        "showbackground": true,
                        "ticks": "",
                        "zerolinecolor": "white"
                      },
                      "zaxis": {
                        "backgroundcolor": "#E5ECF6",
                        "gridcolor": "white",
                        "gridwidth": 2,
                        "linecolor": "white",
                        "showbackground": true,
                        "ticks": "",
                        "zerolinecolor": "white"
                      }
                    },
                    "shapedefaults": {
                      "line": {
                        "color": "#2a3f5f"
                      }
                    },
                    "ternary": {
                      "aaxis": {
                        "gridcolor": "white",
                        "linecolor": "white",
                        "ticks": ""
                      },
                      "baxis": {
                        "gridcolor": "white",
                        "linecolor": "white",
                        "ticks": ""
                      },
                      "bgcolor": "#E5ECF6",
                      "caxis": {
                        "gridcolor": "white",
                        "linecolor": "white",
                        "ticks": ""
                      }
                    },
                    "title": {
                      "x": 0.05
                    },
                    "xaxis": {
                      "automargin": true,
                      "gridcolor": "white",
                      "linecolor": "white",
                      "ticks": "",
                      "title": {
                        "standoff": 15
                      },
                      "zerolinecolor": "white",
                      "zerolinewidth": 2
                    },
                    "yaxis": {
                      "automargin": true,
                      "gridcolor": "white",
                      "linecolor": "white",
                      "ticks": "",
                      "title": {
                        "standoff": 15
                      },
                      "zerolinecolor": "white",
                      "zerolinewidth": 2
                    }
                  }
                },
                "title": {
                  "text": "Hourly analysis based on the period of study: July 10, 2023 To August 15, 2023"
                },
                "xaxis": {
                  "title": {
                    "text": "Hour"
                  }
                },
                "yaxis": {
                  "title": {
                    "text": "Mean PM2.5"
                  }
                }
              }
            }
          },
          "metadata": {},
          "output_type": "display_data"
        }
      ],
      "source": [
        "fig1.add_trace(go.Scatter(x=Indoor1['datetime'],y=Indoor1['value'],mode='lines+markers',name='indoor'))\n",
        "fig1.add_trace(go.Scatter(x=Outdoor1['datetime'],y=Outdoor1['value'],mode='lines+markers',name='outdoor'))\n",
        "fig1.update_layout(title_text='Hourly analysis based on the period of study: July 10, 2023 To August 15, 2023')\n",
        "fig1.update_xaxes(\n",
        "    title='Hour'\n",
        ")\n",
        "fig1.update_yaxes(\n",
        "    title='Mean PM2.5')\n",
        "fig1.show()"
      ]
    },
    {
      "cell_type": "code",
      "execution_count": 182,
      "metadata": {
        "id": "d5zSXNaTd5H0"
      },
      "outputs": [],
      "source": [
        "Indoor.set_index('datetime', inplace=True)\n",
        "Outdoor.set_index('datetime', inplace=True)\n",
        "daily_indoor = Indoor.resample('D')['value'].mean().reset_index()\n",
        "daily_outdoor = Outdoor.resample('D')['value'].mean().reset_index()"
      ]
    },
    {
      "cell_type": "code",
      "execution_count": 183,
      "metadata": {
        "colab": {
          "base_uri": "https://localhost:8080/",
          "height": 489
        },
        "id": "d8VncxkRhVin",
        "outputId": "3e489ea6-e49b-418f-b1ab-dbc9630dd4bd"
      },
      "outputs": [
        {
          "data": {
            "text/html": [
              "<div>\n",
              "<style scoped>\n",
              "    .dataframe tbody tr th:only-of-type {\n",
              "        vertical-align: middle;\n",
              "    }\n",
              "\n",
              "    .dataframe tbody tr th {\n",
              "        vertical-align: top;\n",
              "    }\n",
              "\n",
              "    .dataframe thead th {\n",
              "        text-align: right;\n",
              "    }\n",
              "</style>\n",
              "<table border=\"1\" class=\"dataframe\">\n",
              "  <thead>\n",
              "    <tr style=\"text-align: right;\">\n",
              "      <th></th>\n",
              "      <th>datetime</th>\n",
              "      <th>value</th>\n",
              "    </tr>\n",
              "  </thead>\n",
              "  <tbody>\n",
              "    <tr>\n",
              "      <th>0</th>\n",
              "      <td>2023-07-11 00:00:00+03:00</td>\n",
              "      <td>29.997778</td>\n",
              "    </tr>\n",
              "    <tr>\n",
              "      <th>1</th>\n",
              "      <td>2023-07-12 00:00:00+03:00</td>\n",
              "      <td>36.309286</td>\n",
              "    </tr>\n",
              "  </tbody>\n",
              "</table>\n",
              "</div>"
            ],
            "text/plain": [
              "                   datetime      value\n",
              "0 2023-07-11 00:00:00+03:00  29.997778\n",
              "1 2023-07-12 00:00:00+03:00  36.309286"
            ]
          },
          "execution_count": 183,
          "metadata": {},
          "output_type": "execute_result"
        }
      ],
      "source": [
        "daily_indoor.head(2)"
      ]
    },
    {
      "cell_type": "code",
      "execution_count": 184,
      "metadata": {
        "colab": {
          "base_uri": "https://localhost:8080/",
          "height": 542
        },
        "id": "YAESzEaTdIJU",
        "outputId": "02f1efd5-7b3f-45bf-d037-b2c73ea5bc5a"
      },
      "outputs": [
        {
          "data": {
            "application/vnd.plotly.v1+json": {
              "config": {
                "plotlyServerURL": "https://plot.ly"
              },
              "data": [
                {
                  "mode": "lines+markers",
                  "name": "indoor",
                  "type": "scatter",
                  "x": [
                    "2023-07-11T00:00:00+03:00",
                    "2023-07-12T00:00:00+03:00",
                    "2023-07-13T00:00:00+03:00",
                    "2023-07-14T00:00:00+03:00",
                    "2023-07-15T00:00:00+03:00",
                    "2023-07-16T00:00:00+03:00",
                    "2023-07-17T00:00:00+03:00",
                    "2023-07-18T00:00:00+03:00",
                    "2023-07-19T00:00:00+03:00",
                    "2023-07-20T00:00:00+03:00",
                    "2023-07-21T00:00:00+03:00",
                    "2023-07-22T00:00:00+03:00",
                    "2023-07-23T00:00:00+03:00",
                    "2023-07-24T00:00:00+03:00",
                    "2023-07-25T00:00:00+03:00",
                    "2023-07-26T00:00:00+03:00",
                    "2023-07-27T00:00:00+03:00",
                    "2023-07-28T00:00:00+03:00",
                    "2023-07-29T00:00:00+03:00",
                    "2023-07-30T00:00:00+03:00",
                    "2023-07-31T00:00:00+03:00",
                    "2023-08-01T00:00:00+03:00",
                    "2023-08-02T00:00:00+03:00",
                    "2023-08-03T00:00:00+03:00",
                    "2023-08-04T00:00:00+03:00",
                    "2023-08-05T00:00:00+03:00",
                    "2023-08-06T00:00:00+03:00",
                    "2023-08-07T00:00:00+03:00",
                    "2023-08-08T00:00:00+03:00",
                    "2023-08-09T00:00:00+03:00",
                    "2023-08-10T00:00:00+03:00",
                    "2023-08-11T00:00:00+03:00",
                    "2023-08-12T00:00:00+03:00",
                    "2023-08-13T00:00:00+03:00",
                    "2023-08-14T00:00:00+03:00",
                    "2023-08-15T00:00:00+03:00"
                  ],
                  "y": [
                    29.997777777777777,
                    36.309285714285714,
                    28.850680272108846,
                    30.239782608695652,
                    28.666666666666668,
                    32.582013888888895,
                    37.219,
                    36.01656862745098,
                    25.199749999999998,
                    35.00535087719298,
                    33.910380952380955,
                    30.79877551020408,
                    32.43882352941176,
                    42.28409523809524,
                    39.57829931972789,
                    41.860396825396826,
                    38.15682926829268,
                    35.881052631578946,
                    36.98714285714286,
                    42.56803921568627,
                    47.645072463768116,
                    54.53387387387387,
                    45.62166666666666,
                    37.09159722222222,
                    32.72811594202899,
                    35.962916666666665,
                    35.876060606060605,
                    29.884545454545453,
                    31.0740350877193,
                    34.150571428571425,
                    36.259166666666665,
                    29.69326797385621,
                    38.48901960784314,
                    45.17942307692307,
                    33.99441176470588,
                    35.605384615384615
                  ]
                },
                {
                  "mode": "lines+markers",
                  "name": "outdoor",
                  "type": "scatter",
                  "x": [
                    "2023-07-10T00:00:00+03:00",
                    "2023-07-11T00:00:00+03:00",
                    "2023-07-12T00:00:00+03:00",
                    "2023-07-13T00:00:00+03:00",
                    "2023-07-14T00:00:00+03:00",
                    "2023-07-15T00:00:00+03:00",
                    "2023-07-16T00:00:00+03:00",
                    "2023-07-17T00:00:00+03:00",
                    "2023-07-18T00:00:00+03:00",
                    "2023-07-19T00:00:00+03:00",
                    "2023-07-20T00:00:00+03:00",
                    "2023-07-21T00:00:00+03:00",
                    "2023-07-22T00:00:00+03:00",
                    "2023-07-23T00:00:00+03:00",
                    "2023-07-24T00:00:00+03:00",
                    "2023-07-25T00:00:00+03:00",
                    "2023-07-26T00:00:00+03:00",
                    "2023-07-27T00:00:00+03:00",
                    "2023-07-28T00:00:00+03:00",
                    "2023-07-29T00:00:00+03:00",
                    "2023-07-30T00:00:00+03:00",
                    "2023-07-31T00:00:00+03:00",
                    "2023-08-01T00:00:00+03:00",
                    "2023-08-02T00:00:00+03:00",
                    "2023-08-03T00:00:00+03:00",
                    "2023-08-04T00:00:00+03:00",
                    "2023-08-05T00:00:00+03:00",
                    "2023-08-06T00:00:00+03:00",
                    "2023-08-07T00:00:00+03:00",
                    "2023-08-08T00:00:00+03:00",
                    "2023-08-09T00:00:00+03:00",
                    "2023-08-10T00:00:00+03:00",
                    "2023-08-11T00:00:00+03:00",
                    "2023-08-12T00:00:00+03:00",
                    "2023-08-13T00:00:00+03:00",
                    "2023-08-14T00:00:00+03:00",
                    "2023-08-15T00:00:00+03:00"
                  ],
                  "y": [
                    31.60440860215054,
                    40.834093567251465,
                    38.009855072463765,
                    32.17777777777778,
                    41.903174603174605,
                    34.00236559139785,
                    37.03211111111111,
                    45.4725,
                    39.76257575757575,
                    30.34730158730159,
                    35.82611111111111,
                    33.409555555555556,
                    42.14971014492753,
                    41.288333333333334,
                    58.331333333333326,
                    32.85611111111111,
                    44.72893333333334,
                    39.96375,
                    40.759206349206345,
                    39.595,
                    32.035714285714285,
                    52.77242424242424,
                    null,
                    50.925000000000004,
                    17.36777777777778,
                    34.69,
                    43.534444444444446,
                    28.13133333333333,
                    25.183333333333334,
                    37.375,
                    35.473636363636366,
                    38.915416666666665,
                    22.908,
                    36.553333333333335,
                    40.83555555555555,
                    37.920476190476194,
                    36.32533333333333
                  ]
                }
              ],
              "layout": {
                "template": {
                  "data": {
                    "bar": [
                      {
                        "error_x": {
                          "color": "#2a3f5f"
                        },
                        "error_y": {
                          "color": "#2a3f5f"
                        },
                        "marker": {
                          "line": {
                            "color": "#E5ECF6",
                            "width": 0.5
                          },
                          "pattern": {
                            "fillmode": "overlay",
                            "size": 10,
                            "solidity": 0.2
                          }
                        },
                        "type": "bar"
                      }
                    ],
                    "barpolar": [
                      {
                        "marker": {
                          "line": {
                            "color": "#E5ECF6",
                            "width": 0.5
                          },
                          "pattern": {
                            "fillmode": "overlay",
                            "size": 10,
                            "solidity": 0.2
                          }
                        },
                        "type": "barpolar"
                      }
                    ],
                    "carpet": [
                      {
                        "aaxis": {
                          "endlinecolor": "#2a3f5f",
                          "gridcolor": "white",
                          "linecolor": "white",
                          "minorgridcolor": "white",
                          "startlinecolor": "#2a3f5f"
                        },
                        "baxis": {
                          "endlinecolor": "#2a3f5f",
                          "gridcolor": "white",
                          "linecolor": "white",
                          "minorgridcolor": "white",
                          "startlinecolor": "#2a3f5f"
                        },
                        "type": "carpet"
                      }
                    ],
                    "choropleth": [
                      {
                        "colorbar": {
                          "outlinewidth": 0,
                          "ticks": ""
                        },
                        "type": "choropleth"
                      }
                    ],
                    "contour": [
                      {
                        "colorbar": {
                          "outlinewidth": 0,
                          "ticks": ""
                        },
                        "colorscale": [
                          [
                            0,
                            "#0d0887"
                          ],
                          [
                            0.1111111111111111,
                            "#46039f"
                          ],
                          [
                            0.2222222222222222,
                            "#7201a8"
                          ],
                          [
                            0.3333333333333333,
                            "#9c179e"
                          ],
                          [
                            0.4444444444444444,
                            "#bd3786"
                          ],
                          [
                            0.5555555555555556,
                            "#d8576b"
                          ],
                          [
                            0.6666666666666666,
                            "#ed7953"
                          ],
                          [
                            0.7777777777777778,
                            "#fb9f3a"
                          ],
                          [
                            0.8888888888888888,
                            "#fdca26"
                          ],
                          [
                            1,
                            "#f0f921"
                          ]
                        ],
                        "type": "contour"
                      }
                    ],
                    "contourcarpet": [
                      {
                        "colorbar": {
                          "outlinewidth": 0,
                          "ticks": ""
                        },
                        "type": "contourcarpet"
                      }
                    ],
                    "heatmap": [
                      {
                        "colorbar": {
                          "outlinewidth": 0,
                          "ticks": ""
                        },
                        "colorscale": [
                          [
                            0,
                            "#0d0887"
                          ],
                          [
                            0.1111111111111111,
                            "#46039f"
                          ],
                          [
                            0.2222222222222222,
                            "#7201a8"
                          ],
                          [
                            0.3333333333333333,
                            "#9c179e"
                          ],
                          [
                            0.4444444444444444,
                            "#bd3786"
                          ],
                          [
                            0.5555555555555556,
                            "#d8576b"
                          ],
                          [
                            0.6666666666666666,
                            "#ed7953"
                          ],
                          [
                            0.7777777777777778,
                            "#fb9f3a"
                          ],
                          [
                            0.8888888888888888,
                            "#fdca26"
                          ],
                          [
                            1,
                            "#f0f921"
                          ]
                        ],
                        "type": "heatmap"
                      }
                    ],
                    "heatmapgl": [
                      {
                        "colorbar": {
                          "outlinewidth": 0,
                          "ticks": ""
                        },
                        "colorscale": [
                          [
                            0,
                            "#0d0887"
                          ],
                          [
                            0.1111111111111111,
                            "#46039f"
                          ],
                          [
                            0.2222222222222222,
                            "#7201a8"
                          ],
                          [
                            0.3333333333333333,
                            "#9c179e"
                          ],
                          [
                            0.4444444444444444,
                            "#bd3786"
                          ],
                          [
                            0.5555555555555556,
                            "#d8576b"
                          ],
                          [
                            0.6666666666666666,
                            "#ed7953"
                          ],
                          [
                            0.7777777777777778,
                            "#fb9f3a"
                          ],
                          [
                            0.8888888888888888,
                            "#fdca26"
                          ],
                          [
                            1,
                            "#f0f921"
                          ]
                        ],
                        "type": "heatmapgl"
                      }
                    ],
                    "histogram": [
                      {
                        "marker": {
                          "pattern": {
                            "fillmode": "overlay",
                            "size": 10,
                            "solidity": 0.2
                          }
                        },
                        "type": "histogram"
                      }
                    ],
                    "histogram2d": [
                      {
                        "colorbar": {
                          "outlinewidth": 0,
                          "ticks": ""
                        },
                        "colorscale": [
                          [
                            0,
                            "#0d0887"
                          ],
                          [
                            0.1111111111111111,
                            "#46039f"
                          ],
                          [
                            0.2222222222222222,
                            "#7201a8"
                          ],
                          [
                            0.3333333333333333,
                            "#9c179e"
                          ],
                          [
                            0.4444444444444444,
                            "#bd3786"
                          ],
                          [
                            0.5555555555555556,
                            "#d8576b"
                          ],
                          [
                            0.6666666666666666,
                            "#ed7953"
                          ],
                          [
                            0.7777777777777778,
                            "#fb9f3a"
                          ],
                          [
                            0.8888888888888888,
                            "#fdca26"
                          ],
                          [
                            1,
                            "#f0f921"
                          ]
                        ],
                        "type": "histogram2d"
                      }
                    ],
                    "histogram2dcontour": [
                      {
                        "colorbar": {
                          "outlinewidth": 0,
                          "ticks": ""
                        },
                        "colorscale": [
                          [
                            0,
                            "#0d0887"
                          ],
                          [
                            0.1111111111111111,
                            "#46039f"
                          ],
                          [
                            0.2222222222222222,
                            "#7201a8"
                          ],
                          [
                            0.3333333333333333,
                            "#9c179e"
                          ],
                          [
                            0.4444444444444444,
                            "#bd3786"
                          ],
                          [
                            0.5555555555555556,
                            "#d8576b"
                          ],
                          [
                            0.6666666666666666,
                            "#ed7953"
                          ],
                          [
                            0.7777777777777778,
                            "#fb9f3a"
                          ],
                          [
                            0.8888888888888888,
                            "#fdca26"
                          ],
                          [
                            1,
                            "#f0f921"
                          ]
                        ],
                        "type": "histogram2dcontour"
                      }
                    ],
                    "mesh3d": [
                      {
                        "colorbar": {
                          "outlinewidth": 0,
                          "ticks": ""
                        },
                        "type": "mesh3d"
                      }
                    ],
                    "parcoords": [
                      {
                        "line": {
                          "colorbar": {
                            "outlinewidth": 0,
                            "ticks": ""
                          }
                        },
                        "type": "parcoords"
                      }
                    ],
                    "pie": [
                      {
                        "automargin": true,
                        "type": "pie"
                      }
                    ],
                    "scatter": [
                      {
                        "fillpattern": {
                          "fillmode": "overlay",
                          "size": 10,
                          "solidity": 0.2
                        },
                        "type": "scatter"
                      }
                    ],
                    "scatter3d": [
                      {
                        "line": {
                          "colorbar": {
                            "outlinewidth": 0,
                            "ticks": ""
                          }
                        },
                        "marker": {
                          "colorbar": {
                            "outlinewidth": 0,
                            "ticks": ""
                          }
                        },
                        "type": "scatter3d"
                      }
                    ],
                    "scattercarpet": [
                      {
                        "marker": {
                          "colorbar": {
                            "outlinewidth": 0,
                            "ticks": ""
                          }
                        },
                        "type": "scattercarpet"
                      }
                    ],
                    "scattergeo": [
                      {
                        "marker": {
                          "colorbar": {
                            "outlinewidth": 0,
                            "ticks": ""
                          }
                        },
                        "type": "scattergeo"
                      }
                    ],
                    "scattergl": [
                      {
                        "marker": {
                          "colorbar": {
                            "outlinewidth": 0,
                            "ticks": ""
                          }
                        },
                        "type": "scattergl"
                      }
                    ],
                    "scattermapbox": [
                      {
                        "marker": {
                          "colorbar": {
                            "outlinewidth": 0,
                            "ticks": ""
                          }
                        },
                        "type": "scattermapbox"
                      }
                    ],
                    "scatterpolar": [
                      {
                        "marker": {
                          "colorbar": {
                            "outlinewidth": 0,
                            "ticks": ""
                          }
                        },
                        "type": "scatterpolar"
                      }
                    ],
                    "scatterpolargl": [
                      {
                        "marker": {
                          "colorbar": {
                            "outlinewidth": 0,
                            "ticks": ""
                          }
                        },
                        "type": "scatterpolargl"
                      }
                    ],
                    "scatterternary": [
                      {
                        "marker": {
                          "colorbar": {
                            "outlinewidth": 0,
                            "ticks": ""
                          }
                        },
                        "type": "scatterternary"
                      }
                    ],
                    "surface": [
                      {
                        "colorbar": {
                          "outlinewidth": 0,
                          "ticks": ""
                        },
                        "colorscale": [
                          [
                            0,
                            "#0d0887"
                          ],
                          [
                            0.1111111111111111,
                            "#46039f"
                          ],
                          [
                            0.2222222222222222,
                            "#7201a8"
                          ],
                          [
                            0.3333333333333333,
                            "#9c179e"
                          ],
                          [
                            0.4444444444444444,
                            "#bd3786"
                          ],
                          [
                            0.5555555555555556,
                            "#d8576b"
                          ],
                          [
                            0.6666666666666666,
                            "#ed7953"
                          ],
                          [
                            0.7777777777777778,
                            "#fb9f3a"
                          ],
                          [
                            0.8888888888888888,
                            "#fdca26"
                          ],
                          [
                            1,
                            "#f0f921"
                          ]
                        ],
                        "type": "surface"
                      }
                    ],
                    "table": [
                      {
                        "cells": {
                          "fill": {
                            "color": "#EBF0F8"
                          },
                          "line": {
                            "color": "white"
                          }
                        },
                        "header": {
                          "fill": {
                            "color": "#C8D4E3"
                          },
                          "line": {
                            "color": "white"
                          }
                        },
                        "type": "table"
                      }
                    ]
                  },
                  "layout": {
                    "annotationdefaults": {
                      "arrowcolor": "#2a3f5f",
                      "arrowhead": 0,
                      "arrowwidth": 1
                    },
                    "autotypenumbers": "strict",
                    "coloraxis": {
                      "colorbar": {
                        "outlinewidth": 0,
                        "ticks": ""
                      }
                    },
                    "colorscale": {
                      "diverging": [
                        [
                          0,
                          "#8e0152"
                        ],
                        [
                          0.1,
                          "#c51b7d"
                        ],
                        [
                          0.2,
                          "#de77ae"
                        ],
                        [
                          0.3,
                          "#f1b6da"
                        ],
                        [
                          0.4,
                          "#fde0ef"
                        ],
                        [
                          0.5,
                          "#f7f7f7"
                        ],
                        [
                          0.6,
                          "#e6f5d0"
                        ],
                        [
                          0.7,
                          "#b8e186"
                        ],
                        [
                          0.8,
                          "#7fbc41"
                        ],
                        [
                          0.9,
                          "#4d9221"
                        ],
                        [
                          1,
                          "#276419"
                        ]
                      ],
                      "sequential": [
                        [
                          0,
                          "#0d0887"
                        ],
                        [
                          0.1111111111111111,
                          "#46039f"
                        ],
                        [
                          0.2222222222222222,
                          "#7201a8"
                        ],
                        [
                          0.3333333333333333,
                          "#9c179e"
                        ],
                        [
                          0.4444444444444444,
                          "#bd3786"
                        ],
                        [
                          0.5555555555555556,
                          "#d8576b"
                        ],
                        [
                          0.6666666666666666,
                          "#ed7953"
                        ],
                        [
                          0.7777777777777778,
                          "#fb9f3a"
                        ],
                        [
                          0.8888888888888888,
                          "#fdca26"
                        ],
                        [
                          1,
                          "#f0f921"
                        ]
                      ],
                      "sequentialminus": [
                        [
                          0,
                          "#0d0887"
                        ],
                        [
                          0.1111111111111111,
                          "#46039f"
                        ],
                        [
                          0.2222222222222222,
                          "#7201a8"
                        ],
                        [
                          0.3333333333333333,
                          "#9c179e"
                        ],
                        [
                          0.4444444444444444,
                          "#bd3786"
                        ],
                        [
                          0.5555555555555556,
                          "#d8576b"
                        ],
                        [
                          0.6666666666666666,
                          "#ed7953"
                        ],
                        [
                          0.7777777777777778,
                          "#fb9f3a"
                        ],
                        [
                          0.8888888888888888,
                          "#fdca26"
                        ],
                        [
                          1,
                          "#f0f921"
                        ]
                      ]
                    },
                    "colorway": [
                      "#636efa",
                      "#EF553B",
                      "#00cc96",
                      "#ab63fa",
                      "#FFA15A",
                      "#19d3f3",
                      "#FF6692",
                      "#B6E880",
                      "#FF97FF",
                      "#FECB52"
                    ],
                    "font": {
                      "color": "#2a3f5f"
                    },
                    "geo": {
                      "bgcolor": "white",
                      "lakecolor": "white",
                      "landcolor": "#E5ECF6",
                      "showlakes": true,
                      "showland": true,
                      "subunitcolor": "white"
                    },
                    "hoverlabel": {
                      "align": "left"
                    },
                    "hovermode": "closest",
                    "mapbox": {
                      "style": "light"
                    },
                    "paper_bgcolor": "white",
                    "plot_bgcolor": "#E5ECF6",
                    "polar": {
                      "angularaxis": {
                        "gridcolor": "white",
                        "linecolor": "white",
                        "ticks": ""
                      },
                      "bgcolor": "#E5ECF6",
                      "radialaxis": {
                        "gridcolor": "white",
                        "linecolor": "white",
                        "ticks": ""
                      }
                    },
                    "scene": {
                      "xaxis": {
                        "backgroundcolor": "#E5ECF6",
                        "gridcolor": "white",
                        "gridwidth": 2,
                        "linecolor": "white",
                        "showbackground": true,
                        "ticks": "",
                        "zerolinecolor": "white"
                      },
                      "yaxis": {
                        "backgroundcolor": "#E5ECF6",
                        "gridcolor": "white",
                        "gridwidth": 2,
                        "linecolor": "white",
                        "showbackground": true,
                        "ticks": "",
                        "zerolinecolor": "white"
                      },
                      "zaxis": {
                        "backgroundcolor": "#E5ECF6",
                        "gridcolor": "white",
                        "gridwidth": 2,
                        "linecolor": "white",
                        "showbackground": true,
                        "ticks": "",
                        "zerolinecolor": "white"
                      }
                    },
                    "shapedefaults": {
                      "line": {
                        "color": "#2a3f5f"
                      }
                    },
                    "ternary": {
                      "aaxis": {
                        "gridcolor": "white",
                        "linecolor": "white",
                        "ticks": ""
                      },
                      "baxis": {
                        "gridcolor": "white",
                        "linecolor": "white",
                        "ticks": ""
                      },
                      "bgcolor": "#E5ECF6",
                      "caxis": {
                        "gridcolor": "white",
                        "linecolor": "white",
                        "ticks": ""
                      }
                    },
                    "title": {
                      "x": 0.05
                    },
                    "xaxis": {
                      "automargin": true,
                      "gridcolor": "white",
                      "linecolor": "white",
                      "ticks": "",
                      "title": {
                        "standoff": 15
                      },
                      "zerolinecolor": "white",
                      "zerolinewidth": 2
                    },
                    "yaxis": {
                      "automargin": true,
                      "gridcolor": "white",
                      "linecolor": "white",
                      "ticks": "",
                      "title": {
                        "standoff": 15
                      },
                      "zerolinecolor": "white",
                      "zerolinewidth": 2
                    }
                  }
                },
                "title": {
                  "text": "Daily analysis based on the period of study: July 10, 2023 To August 15, 2023"
                },
                "xaxis": {
                  "title": {
                    "text": "Date"
                  }
                },
                "yaxis": {
                  "title": {
                    "text": "Mean PM2.5"
                  }
                }
              }
            }
          },
          "metadata": {},
          "output_type": "display_data"
        }
      ],
      "source": [
        "fig2.add_trace(go.Scatter(x=daily_indoor['datetime'],y=daily_indoor['value'],mode='lines+markers',name='indoor'))\n",
        "fig2.add_trace(go.Scatter(x=daily_outdoor['datetime'],y=daily_outdoor['value'],mode='lines+markers',name='outdoor'))\n",
        "fig2.update_layout(title_text='Daily analysis based on the period of study: July 10, 2023 To August 15, 2023')\n",
        "fig2.update_xaxes(\n",
        "    title='Date'\n",
        ")\n",
        "fig2.update_yaxes(\n",
        "    title='Mean PM2.5')\n",
        "fig2.show()"
      ]
    },
    {
      "cell_type": "code",
      "execution_count": 185,
      "metadata": {},
      "outputs": [
        {
          "data": {
            "text/html": [
              "<div>\n",
              "<style scoped>\n",
              "    .dataframe tbody tr th:only-of-type {\n",
              "        vertical-align: middle;\n",
              "    }\n",
              "\n",
              "    .dataframe tbody tr th {\n",
              "        vertical-align: top;\n",
              "    }\n",
              "\n",
              "    .dataframe thead th {\n",
              "        text-align: right;\n",
              "    }\n",
              "</style>\n",
              "<table border=\"1\" class=\"dataframe\">\n",
              "  <thead>\n",
              "    <tr style=\"text-align: right;\">\n",
              "      <th></th>\n",
              "      <th>datetime</th>\n",
              "      <th>value</th>\n",
              "    </tr>\n",
              "  </thead>\n",
              "  <tbody>\n",
              "    <tr>\n",
              "      <th>0</th>\n",
              "      <td>2023-07-11 00:00:00+03:00</td>\n",
              "      <td>29.997778</td>\n",
              "    </tr>\n",
              "    <tr>\n",
              "      <th>1</th>\n",
              "      <td>2023-07-12 00:00:00+03:00</td>\n",
              "      <td>36.309286</td>\n",
              "    </tr>\n",
              "  </tbody>\n",
              "</table>\n",
              "</div>"
            ],
            "text/plain": [
              "                   datetime      value\n",
              "0 2023-07-11 00:00:00+03:00  29.997778\n",
              "1 2023-07-12 00:00:00+03:00  36.309286"
            ]
          },
          "execution_count": 185,
          "metadata": {},
          "output_type": "execute_result"
        }
      ],
      "source": [
        "daily_indoor.head(2)"
      ]
    },
    {
      "cell_type": "markdown",
      "metadata": {
        "id": "Ykp4tpO1yfKl"
      },
      "source": [
        "##### PM_10_Analysis"
      ]
    },
    {
      "cell_type": "code",
      "execution_count": 186,
      "metadata": {},
      "outputs": [
        {
          "data": {
            "text/html": [
              "<div>\n",
              "<style scoped>\n",
              "    .dataframe tbody tr th:only-of-type {\n",
              "        vertical-align: middle;\n",
              "    }\n",
              "\n",
              "    .dataframe tbody tr th {\n",
              "        vertical-align: top;\n",
              "    }\n",
              "\n",
              "    .dataframe thead th {\n",
              "        text-align: right;\n",
              "    }\n",
              "</style>\n",
              "<table border=\"1\" class=\"dataframe\">\n",
              "  <thead>\n",
              "    <tr style=\"text-align: right;\">\n",
              "      <th></th>\n",
              "      <th>datetime</th>\n",
              "      <th>lat</th>\n",
              "      <th>lon</th>\n",
              "      <th>site_id</th>\n",
              "      <th>site_name</th>\n",
              "      <th>duration</th>\n",
              "      <th>qc</th>\n",
              "      <th>parameter</th>\n",
              "      <th>unit</th>\n",
              "      <th>poc</th>\n",
              "      <th>PM10</th>\n",
              "      <th>data_status</th>\n",
              "      <th>hour</th>\n",
              "      <th>day</th>\n",
              "      <th>PM2.5</th>\n",
              "      <th>PM_ratio</th>\n",
              "    </tr>\n",
              "  </thead>\n",
              "  <tbody>\n",
              "    <tr>\n",
              "      <th>0</th>\n",
              "      <td>2023-07-10 09:00:00+03:00</td>\n",
              "      <td>0.329728</td>\n",
              "      <td>32.603488</td>\n",
              "      <td>64a5755320511a001d1b4a3e</td>\n",
              "      <td>Impala Ave</td>\n",
              "      <td>60</td>\n",
              "      <td>2</td>\n",
              "      <td>85101</td>\n",
              "      <td>1</td>\n",
              "      <td>1</td>\n",
              "      <td>106.1</td>\n",
              "      <td>1</td>\n",
              "      <td>9</td>\n",
              "      <td>10</td>\n",
              "      <td>40.87</td>\n",
              "      <td>2.596036</td>\n",
              "    </tr>\n",
              "    <tr>\n",
              "      <th>1</th>\n",
              "      <td>2023-07-10 10:00:00+03:00</td>\n",
              "      <td>0.329728</td>\n",
              "      <td>32.603488</td>\n",
              "      <td>64a5755320511a001d1b4a3e</td>\n",
              "      <td>Impala Ave</td>\n",
              "      <td>60</td>\n",
              "      <td>2</td>\n",
              "      <td>85101</td>\n",
              "      <td>1</td>\n",
              "      <td>1</td>\n",
              "      <td>58.4</td>\n",
              "      <td>1</td>\n",
              "      <td>10</td>\n",
              "      <td>10</td>\n",
              "      <td>34.28</td>\n",
              "      <td>1.703617</td>\n",
              "    </tr>\n",
              "  </tbody>\n",
              "</table>\n",
              "</div>"
            ],
            "text/plain": [
              "                   datetime       lat        lon                   site_id  \\\n",
              "0 2023-07-10 09:00:00+03:00  0.329728  32.603488  64a5755320511a001d1b4a3e   \n",
              "1 2023-07-10 10:00:00+03:00  0.329728  32.603488  64a5755320511a001d1b4a3e   \n",
              "\n",
              "    site_name  duration  qc  parameter  unit  poc   PM10  data_status  hour  \\\n",
              "0  Impala Ave        60   2      85101     1    1  106.1            1     9   \n",
              "1  Impala Ave        60   2      85101     1    1   58.4            1    10   \n",
              "\n",
              "   day  PM2.5  PM_ratio  \n",
              "0   10  40.87  2.596036  \n",
              "1   10  34.28  1.703617  "
            ]
          },
          "execution_count": 186,
          "metadata": {},
          "output_type": "execute_result"
        }
      ],
      "source": [
        "data_10 = pd.read_csv('Kampala_impala_data_PM10.csv')\n",
        "data_10 = pd.read_csv('Kampala_impala_data_PM10.csv')\n",
        "data_10['datetime'] = pd.to_datetime(data_10['datetime'])\n",
        "data_10['datetime'] = data_10['datetime'].dt.tz_localize(pytz.utc).dt.tz_convert(target_tz_10)\n",
        "data_10['hour'] = data_10['datetime'].dt.hour\n",
        "data_10['day'] = data_10['datetime'].dt.day\n",
        "data_10.rename(columns={'value': 'PM10'}, inplace=True)\n",
        "data_10['PM2.5'] = data['value']\n",
        "data_10[\"PM_ratio\"] = data_10[\"PM10\"]/data_10[\"PM2.5\"]\n",
        "data_10.head(2)"
      ]
    },
    {
      "cell_type": "code",
      "execution_count": 187,
      "metadata": {},
      "outputs": [],
      "source": [
        "Outdoor_10 = data_10[data_10['site_name'] == \t\"Impala Ave\"]\n",
        "Indoor_10 = data_10[data_10['site_name'] == \t\"Impala Avenue\"]"
      ]
    },
    {
      "cell_type": "code",
      "execution_count": 188,
      "metadata": {},
      "outputs": [
        {
          "data": {
            "text/plain": [
              "site_name\n",
              "Impala Ave       1.310162\n",
              "Impala Avenue    1.206529\n",
              "Name: PM_ratio, dtype: float64"
            ]
          },
          "execution_count": 188,
          "metadata": {},
          "output_type": "execute_result"
        }
      ],
      "source": [
        "data_10.groupby('site_name')['PM_ratio'].mean()"
      ]
    }
  ],
  "metadata": {
    "colab": {
      "provenance": []
    },
    "kernelspec": {
      "display_name": "Python 3",
      "name": "python3"
    },
    "language_info": {
      "codemirror_mode": {
        "name": "ipython",
        "version": 3
      },
      "file_extension": ".py",
      "mimetype": "text/x-python",
      "name": "python",
      "nbconvert_exporter": "python",
      "pygments_lexer": "ipython3",
      "version": "3.10.11"
    }
  },
  "nbformat": 4,
  "nbformat_minor": 0
}
