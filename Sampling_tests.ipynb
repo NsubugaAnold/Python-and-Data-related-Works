{
 "cells": [
  {
   "cell_type": "code",
   "execution_count": 15,
   "metadata": {},
   "outputs": [
    {
     "data": {
      "text/html": [
       "<div class=\"bk-root\">\n",
       "        <a href=\"https://bokeh.org\" target=\"_blank\" class=\"bk-logo bk-logo-small bk-logo-notebook\"></a>\n",
       "        <span id=\"1610\">Loading BokehJS ...</span>\n",
       "    </div>\n"
      ]
     },
     "metadata": {},
     "output_type": "display_data"
    },
    {
     "data": {
      "application/javascript": "(function(root) {\n  function now() {\n    return new Date();\n  }\n\n  const force = true;\n\n  if (typeof root._bokeh_onload_callbacks === \"undefined\" || force === true) {\n    root._bokeh_onload_callbacks = [];\n    root._bokeh_is_loading = undefined;\n  }\n\nconst JS_MIME_TYPE = 'application/javascript';\n  const HTML_MIME_TYPE = 'text/html';\n  const EXEC_MIME_TYPE = 'application/vnd.bokehjs_exec.v0+json';\n  const CLASS_NAME = 'output_bokeh rendered_html';\n\n  /**\n   * Render data to the DOM node\n   */\n  function render(props, node) {\n    const script = document.createElement(\"script\");\n    node.appendChild(script);\n  }\n\n  /**\n   * Handle when an output is cleared or removed\n   */\n  function handleClearOutput(event, handle) {\n    const cell = handle.cell;\n\n    const id = cell.output_area._bokeh_element_id;\n    const server_id = cell.output_area._bokeh_server_id;\n    // Clean up Bokeh references\n    if (id != null && id in Bokeh.index) {\n      Bokeh.index[id].model.document.clear();\n      delete Bokeh.index[id];\n    }\n\n    if (server_id !== undefined) {\n      // Clean up Bokeh references\n      const cmd_clean = \"from bokeh.io.state import curstate; print(curstate().uuid_to_server['\" + server_id + \"'].get_sessions()[0].document.roots[0]._id)\";\n      cell.notebook.kernel.execute(cmd_clean, {\n        iopub: {\n          output: function(msg) {\n            const id = msg.content.text.trim();\n            if (id in Bokeh.index) {\n              Bokeh.index[id].model.document.clear();\n              delete Bokeh.index[id];\n            }\n          }\n        }\n      });\n      // Destroy server and session\n      const cmd_destroy = \"import bokeh.io.notebook as ion; ion.destroy_server('\" + server_id + \"')\";\n      cell.notebook.kernel.execute(cmd_destroy);\n    }\n  }\n\n  /**\n   * Handle when a new output is added\n   */\n  function handleAddOutput(event, handle) {\n    const output_area = handle.output_area;\n    const output = handle.output;\n\n    // limit handleAddOutput to display_data with EXEC_MIME_TYPE content only\n    if ((output.output_type != \"display_data\") || (!Object.prototype.hasOwnProperty.call(output.data, EXEC_MIME_TYPE))) {\n      return\n    }\n\n    const toinsert = output_area.element.find(\".\" + CLASS_NAME.split(' ')[0]);\n\n    if (output.metadata[EXEC_MIME_TYPE][\"id\"] !== undefined) {\n      toinsert[toinsert.length - 1].firstChild.textContent = output.data[JS_MIME_TYPE];\n      // store reference to embed id on output_area\n      output_area._bokeh_element_id = output.metadata[EXEC_MIME_TYPE][\"id\"];\n    }\n    if (output.metadata[EXEC_MIME_TYPE][\"server_id\"] !== undefined) {\n      const bk_div = document.createElement(\"div\");\n      bk_div.innerHTML = output.data[HTML_MIME_TYPE];\n      const script_attrs = bk_div.children[0].attributes;\n      for (let i = 0; i < script_attrs.length; i++) {\n        toinsert[toinsert.length - 1].firstChild.setAttribute(script_attrs[i].name, script_attrs[i].value);\n        toinsert[toinsert.length - 1].firstChild.textContent = bk_div.children[0].textContent\n      }\n      // store reference to server id on output_area\n      output_area._bokeh_server_id = output.metadata[EXEC_MIME_TYPE][\"server_id\"];\n    }\n  }\n\n  function register_renderer(events, OutputArea) {\n\n    function append_mime(data, metadata, element) {\n      // create a DOM node to render to\n      const toinsert = this.create_output_subarea(\n        metadata,\n        CLASS_NAME,\n        EXEC_MIME_TYPE\n      );\n      this.keyboard_manager.register_events(toinsert);\n      // Render to node\n      const props = {data: data, metadata: metadata[EXEC_MIME_TYPE]};\n      render(props, toinsert[toinsert.length - 1]);\n      element.append(toinsert);\n      return toinsert\n    }\n\n    /* Handle when an output is cleared or removed */\n    events.on('clear_output.CodeCell', handleClearOutput);\n    events.on('delete.Cell', handleClearOutput);\n\n    /* Handle when a new output is added */\n    events.on('output_added.OutputArea', handleAddOutput);\n\n    /**\n     * Register the mime type and append_mime function with output_area\n     */\n    OutputArea.prototype.register_mime_type(EXEC_MIME_TYPE, append_mime, {\n      /* Is output safe? */\n      safe: true,\n      /* Index of renderer in `output_area.display_order` */\n      index: 0\n    });\n  }\n\n  // register the mime type if in Jupyter Notebook environment and previously unregistered\n  if (root.Jupyter !== undefined) {\n    const events = require('base/js/events');\n    const OutputArea = require('notebook/js/outputarea').OutputArea;\n\n    if (OutputArea.prototype.mime_types().indexOf(EXEC_MIME_TYPE) == -1) {\n      register_renderer(events, OutputArea);\n    }\n  }\n  if (typeof (root._bokeh_timeout) === \"undefined\" || force === true) {\n    root._bokeh_timeout = Date.now() + 5000;\n    root._bokeh_failed_load = false;\n  }\n\n  const NB_LOAD_WARNING = {'data': {'text/html':\n     \"<div style='background-color: #fdd'>\\n\"+\n     \"<p>\\n\"+\n     \"BokehJS does not appear to have successfully loaded. If loading BokehJS from CDN, this \\n\"+\n     \"may be due to a slow or bad network connection. Possible fixes:\\n\"+\n     \"</p>\\n\"+\n     \"<ul>\\n\"+\n     \"<li>re-rerun `output_notebook()` to attempt to load from CDN again, or</li>\\n\"+\n     \"<li>use INLINE resources instead, as so:</li>\\n\"+\n     \"</ul>\\n\"+\n     \"<code>\\n\"+\n     \"from bokeh.resources import INLINE\\n\"+\n     \"output_notebook(resources=INLINE)\\n\"+\n     \"</code>\\n\"+\n     \"</div>\"}};\n\n  function display_loaded() {\n    const el = document.getElementById(\"1610\");\n    if (el != null) {\n      el.textContent = \"BokehJS is loading...\";\n    }\n    if (root.Bokeh !== undefined) {\n      if (el != null) {\n        el.textContent = \"BokehJS \" + root.Bokeh.version + \" successfully loaded.\";\n      }\n    } else if (Date.now() < root._bokeh_timeout) {\n      setTimeout(display_loaded, 100)\n    }\n  }\n\n  function run_callbacks() {\n    try {\n      root._bokeh_onload_callbacks.forEach(function(callback) {\n        if (callback != null)\n          callback();\n      });\n    } finally {\n      delete root._bokeh_onload_callbacks\n    }\n    console.debug(\"Bokeh: all callbacks have finished\");\n  }\n\n  function load_libs(css_urls, js_urls, callback) {\n    if (css_urls == null) css_urls = [];\n    if (js_urls == null) js_urls = [];\n\n    root._bokeh_onload_callbacks.push(callback);\n    if (root._bokeh_is_loading > 0) {\n      console.debug(\"Bokeh: BokehJS is being loaded, scheduling callback at\", now());\n      return null;\n    }\n    if (js_urls == null || js_urls.length === 0) {\n      run_callbacks();\n      return null;\n    }\n    console.debug(\"Bokeh: BokehJS not loaded, scheduling load and callback at\", now());\n    root._bokeh_is_loading = css_urls.length + js_urls.length;\n\n    function on_load() {\n      root._bokeh_is_loading--;\n      if (root._bokeh_is_loading === 0) {\n        console.debug(\"Bokeh: all BokehJS libraries/stylesheets loaded\");\n        run_callbacks()\n      }\n    }\n\n    function on_error(url) {\n      console.error(\"failed to load \" + url);\n    }\n\n    for (let i = 0; i < css_urls.length; i++) {\n      const url = css_urls[i];\n      const element = document.createElement(\"link\");\n      element.onload = on_load;\n      element.onerror = on_error.bind(null, url);\n      element.rel = \"stylesheet\";\n      element.type = \"text/css\";\n      element.href = url;\n      console.debug(\"Bokeh: injecting link tag for BokehJS stylesheet: \", url);\n      document.body.appendChild(element);\n    }\n\n    for (let i = 0; i < js_urls.length; i++) {\n      const url = js_urls[i];\n      const element = document.createElement('script');\n      element.onload = on_load;\n      element.onerror = on_error.bind(null, url);\n      element.async = false;\n      element.src = url;\n      console.debug(\"Bokeh: injecting script tag for BokehJS library: \", url);\n      document.head.appendChild(element);\n    }\n  };\n\n  function inject_raw_css(css) {\n    const element = document.createElement(\"style\");\n    element.appendChild(document.createTextNode(css));\n    document.body.appendChild(element);\n  }\n\n  const js_urls = [\"https://cdn.bokeh.org/bokeh/release/bokeh-2.4.3.min.js\", \"https://cdn.bokeh.org/bokeh/release/bokeh-gl-2.4.3.min.js\", \"https://cdn.bokeh.org/bokeh/release/bokeh-widgets-2.4.3.min.js\", \"https://cdn.bokeh.org/bokeh/release/bokeh-tables-2.4.3.min.js\", \"https://cdn.bokeh.org/bokeh/release/bokeh-mathjax-2.4.3.min.js\"];\n  const css_urls = [];\n\n  const inline_js = [    function(Bokeh) {\n      Bokeh.set_log_level(\"info\");\n    },\nfunction(Bokeh) {\n    }\n  ];\n\n  function run_inline_js() {\n    if (root.Bokeh !== undefined || force === true) {\n          for (let i = 0; i < inline_js.length; i++) {\n      inline_js[i].call(root, root.Bokeh);\n    }\nif (force === true) {\n        display_loaded();\n      }} else if (Date.now() < root._bokeh_timeout) {\n      setTimeout(run_inline_js, 100);\n    } else if (!root._bokeh_failed_load) {\n      console.log(\"Bokeh: BokehJS failed to load within specified timeout.\");\n      root._bokeh_failed_load = true;\n    } else if (force !== true) {\n      const cell = $(document.getElementById(\"1610\")).parents('.cell').data().cell;\n      cell.output_area.append_execute_result(NB_LOAD_WARNING)\n    }\n  }\n\n  if (root._bokeh_is_loading === 0) {\n    console.debug(\"Bokeh: BokehJS loaded, going straight to plotting\");\n    run_inline_js();\n  } else {\n    load_libs(css_urls, js_urls, function() {\n      console.debug(\"Bokeh: BokehJS plotting callback run at\", now());\n      run_inline_js();\n    });\n  }\n}(window));",
      "application/vnd.bokehjs_load.v0+json": ""
     },
     "metadata": {},
     "output_type": "display_data"
    }
   ],
   "source": [
    "#----------------------------------------------------------------------\n",
    "import pandas as pd \n",
    "import numpy as np \n",
    "#----------------------------------------------------------------------\n",
    "import matplotlib.pyplot as plt \n",
    "import seaborn as sns \n",
    "import pandas_bokeh\n",
    "pandas_bokeh.output_notebook()\n",
    "pd.set_option('plotting.backend', 'pandas_bokeh')\n",
    "# Create Bokeh-Table with DataFrame:\n",
    "from bokeh.models.widgets import DataTable, TableColumn\n",
    "from bokeh.models import ColumnDataSource\n",
    "#----------------------------------------------------------------------\n",
    "import datetime \n",
    "import requests\n",
    "#----------------------------------------------------------------------\n",
    "from sklearn.metrics import mean_absolute_error \n",
    "from sklearn.metrics import mean_squared_error \n",
    "from sklearn.metrics import r2_score\n",
    "#---------------------------------------------------------------------\n",
    "from functools import reduce"
   ]
  },
  {
   "cell_type": "code",
   "execution_count": 16,
   "metadata": {},
   "outputs": [],
   "source": [
    "def collect_data(url):\n",
    "   feeds_ = requests.get(url).json()['feeds']\n",
    "   feeds_data = pd.DataFrame(feeds_)\n",
    "   # drop columns which will be unused: Latitude, longitude, gps, battery, pm10 values \n",
    "   feeds_data.drop(columns = ['field2','field4','field5','field6','field8','field7','entry_id'],inplace = True)\n",
    "   #Rename fields correspomnding to pm2.5\n",
    "   feeds_data.rename(columns ={'field1': 'sensor1_PM2.5','field3':'sensor2_PM2.5','created_at':'timestamp'},inplace = True)\n",
    "   # converting the date field to timestamp \n",
    "   feeds_data['timestamp'] = pd.to_datetime(feeds_data['timestamp'])\n",
    "   # setting time stamp as the index \n",
    "   feeds_data.set_index('timestamp',inplace = True)\n",
    "   feeds_data = feeds_data.astype({'sensor1_PM2.5':'float','sensor2_PM2.5':'float'}).round(2)\n",
    "   #feeds_data[['sensor1_PM2.5'],['sensor2_PM2.5']] = pd.to_numeric([['sensor1_PM2.5'],['sensor2_PM2.5']],errors = 'coerce')\n",
    "   feeds_data = feeds_data.assign(average_PM2_5 = lambda x : (feeds_data['sensor1_PM2.5'] + feeds_data['sensor2_PM2.5'])/2)\n",
    "   feeds_data.drop(columns = ['sensor1_PM2.5','sensor2_PM2.5'],inplace = True)\n",
    "   return feeds_data \n",
    "   "
   ]
  },
  {
   "cell_type": "code",
   "execution_count": 17,
   "metadata": {},
   "outputs": [],
   "source": [
    "def offtime_sampling(dataframe_ , on_time,off_time):# dataframe to get the samples from. Y- off time we are looking at \n",
    "    track_length = 0\n",
    "    add_to_dataframe = 1\n",
    "    sampled_dataframe = pd.DataFrame()\n",
    "    while(track_length < 60):\n",
    "        if (add_to_dataframe):\n",
    "            new_sampled_dataframe = dataframe_[(( (track_length <= dataframe_.index.minute)&(dataframe_.index.minute < (track_length + on_time))))]\n",
    "            sampled_dataframe = pd.concat([sampled_dataframe,new_sampled_dataframe])\n",
    "            add_to_dataframe = 0\n",
    "            track_length = track_length + on_time\n",
    "        else:\n",
    "            add_to_dataframe = 1 \n",
    "            track_length = track_length + off_time \n",
    "    print(track_length) \n",
    "    sampled_dataframe.sort_index(ascending =True)\n",
    "    sampled_dataframe.rename(columns ={\"average_PM2_5\":\"\\\"average_PM2_5\\\"+ offtime \"})\n",
    "    return sampled_dataframe"
   ]
  },
  {
   "cell_type": "code",
   "execution_count": 18,
   "metadata": {},
   "outputs": [],
   "source": [
    "def convert_frequency(dataframe_,frequency): \n",
    "    if(frequency == 'D'):\n",
    "        df = dataframe_.resample('D')['average_PM2_5'].mean()\n",
    "    elif (frequency == 'H'):\n",
    "        df = dataframe_.resample('H')['average_PM2_5'].mean()\n",
    "    return pd.DataFrame(df)  "
   ]
  },
  {
   "cell_type": "code",
   "execution_count": 19,
   "metadata": {},
   "outputs": [],
   "source": [
    "def data_frame_visuals(merged_dataframe):\n",
    "    #merged_dataframe.plot(title='Title',xlabel='Values',figsize =(10,6))\n",
    "    print(merged_dataframe.plot_blokeh(kind=\"line\"))"
   ]
  },
  {
   "cell_type": "code",
   "execution_count": 20,
   "metadata": {},
   "outputs": [],
   "source": [
    "def parformance_comparisons(dataframe1,dataframe2):\n",
    "    #combined_dataset = pd.merge(dataframe1,dataframe2,on='TimeStamp')\n",
    "    mae = mean_absolute_error( dataframe1['average_PM2_5'], dataframe2['average_PM2_5'])\n",
    "    rmse = mean_squared_error(dataframe1['average_PM2_5'], dataframe2['average_PM2_5'])\n",
    "    rsquared = r2_score(dataframe1['average_PM2_5'], dataframe2['average_PM2_5'])\n",
    "    metric = ['mae','rmse','rsquared']\n",
    "    values= [mae,rmse,rsquared]\n",
    "    comparison_df = pd.DataFrame(list(zip(metric,values)),columns=['metris','value'])\n",
    "    # get the list of tuples from two lists \n",
    "    # merge them using zip()\n",
    "    return comparison_df\n",
    "    "
   ]
  },
  {
   "cell_type": "code",
   "execution_count": 21,
   "metadata": {},
   "outputs": [],
   "source": [
    "# data for analysis using the device AQ_G5133\n",
    "AQ_G5133 = collect_data('https://thingspeak.com/channels/1962719/feeds.json?start=2023-02-18T00:00:00Z&end=2023-02-20T23:59:59Z&api_key=0IBG2XN6MIRMUMQ17')"
   ]
  },
  {
   "cell_type": "code",
   "execution_count": 22,
   "metadata": {},
   "outputs": [
    {
     "name": "stdout",
     "output_type": "stream",
     "text": [
      "60\n",
      "60\n",
      "75\n"
     ]
    }
   ],
   "source": [
    "five_mins_data = offtime_sampling(AQ_G5133,5,5)\n",
    "fifteen_mins_off_data = offtime_sampling(AQ_G5133,5,15)\n",
    "twenty_mins_off_data = offtime_sampling(AQ_G5133,5,20)"
   ]
  },
  {
   "cell_type": "code",
   "execution_count": 23,
   "metadata": {},
   "outputs": [],
   "source": [
    "five_mins_data_hourly = convert_frequency(five_mins_data,'H')\n",
    "five_mins_data_daily = convert_frequency(five_mins_data,'D')\n",
    "fifteen_mins_off_data_hourly = convert_frequency(fifteen_mins_off_data,'H')\n",
    "fifteen_mins_off_data_daily = convert_frequency(fifteen_mins_off_data,'D')\n",
    "twenty_mins_off_data_hourly = convert_frequency(twenty_mins_off_data,'H')\n",
    "twenty_mins_off_data_daily = convert_frequency(twenty_mins_off_data,'D')\n",
    "AQ_G5133_hourly = convert_frequency(AQ_G5133,'H')\n",
    "AQ_G5133_daily = convert_frequency(AQ_G5133,'D')"
   ]
  },
  {
   "cell_type": "code",
   "execution_count": 24,
   "metadata": {},
   "outputs": [
    {
     "data": {
      "text/html": [
       "<div>\n",
       "<style scoped>\n",
       "    .dataframe tbody tr th:only-of-type {\n",
       "        vertical-align: middle;\n",
       "    }\n",
       "\n",
       "    .dataframe tbody tr th {\n",
       "        vertical-align: top;\n",
       "    }\n",
       "\n",
       "    .dataframe thead th {\n",
       "        text-align: right;\n",
       "    }\n",
       "</style>\n",
       "<table border=\"1\" class=\"dataframe\">\n",
       "  <thead>\n",
       "    <tr style=\"text-align: right;\">\n",
       "      <th></th>\n",
       "      <th>metris</th>\n",
       "      <th>value</th>\n",
       "    </tr>\n",
       "  </thead>\n",
       "  <tbody>\n",
       "    <tr>\n",
       "      <th>0</th>\n",
       "      <td>mae</td>\n",
       "      <td>1.228654</td>\n",
       "    </tr>\n",
       "    <tr>\n",
       "      <th>1</th>\n",
       "      <td>rmse</td>\n",
       "      <td>3.754420</td>\n",
       "    </tr>\n",
       "    <tr>\n",
       "      <th>2</th>\n",
       "      <td>rsquared</td>\n",
       "      <td>0.997307</td>\n",
       "    </tr>\n",
       "  </tbody>\n",
       "</table>\n",
       "</div>"
      ],
      "text/plain": [
       "     metris     value\n",
       "0       mae  1.228654\n",
       "1      rmse  3.754420\n",
       "2  rsquared  0.997307"
      ]
     },
     "execution_count": 24,
     "metadata": {},
     "output_type": "execute_result"
    }
   ],
   "source": [
    "no_off_vs_five_off = parformance_comparisons(AQ_G5133_hourly,five_mins_data_hourly)\n",
    "no_off_vs_five_off "
   ]
  },
  {
   "cell_type": "code",
   "execution_count": 25,
   "metadata": {},
   "outputs": [
    {
     "data": {
      "text/html": [
       "<div>\n",
       "<style scoped>\n",
       "    .dataframe tbody tr th:only-of-type {\n",
       "        vertical-align: middle;\n",
       "    }\n",
       "\n",
       "    .dataframe tbody tr th {\n",
       "        vertical-align: top;\n",
       "    }\n",
       "\n",
       "    .dataframe thead th {\n",
       "        text-align: right;\n",
       "    }\n",
       "</style>\n",
       "<table border=\"1\" class=\"dataframe\">\n",
       "  <thead>\n",
       "    <tr style=\"text-align: right;\">\n",
       "      <th></th>\n",
       "      <th>metris</th>\n",
       "      <th>value</th>\n",
       "    </tr>\n",
       "  </thead>\n",
       "  <tbody>\n",
       "    <tr>\n",
       "      <th>0</th>\n",
       "      <td>mae</td>\n",
       "      <td>2.709738</td>\n",
       "    </tr>\n",
       "    <tr>\n",
       "      <th>1</th>\n",
       "      <td>rmse</td>\n",
       "      <td>18.585511</td>\n",
       "    </tr>\n",
       "    <tr>\n",
       "      <th>2</th>\n",
       "      <td>rsquared</td>\n",
       "      <td>0.986668</td>\n",
       "    </tr>\n",
       "  </tbody>\n",
       "</table>\n",
       "</div>"
      ],
      "text/plain": [
       "     metris      value\n",
       "0       mae   2.709738\n",
       "1      rmse  18.585511\n",
       "2  rsquared   0.986668"
      ]
     },
     "execution_count": 25,
     "metadata": {},
     "output_type": "execute_result"
    }
   ],
   "source": [
    "no_off_vs_fifteen_off = parformance_comparisons(AQ_G5133_hourly,fifteen_mins_off_data_hourly)\n",
    "no_off_vs_fifteen_off "
   ]
  },
  {
   "cell_type": "code",
   "execution_count": 26,
   "metadata": {},
   "outputs": [],
   "source": [
    "df_hourly = [AQ_G5133_hourly,five_mins_data_hourly,fifteen_mins_off_data_hourly]#,twenty_mins_off_data_hourly]\n",
    "def plot_relations(df): #df should be a list of dataframes \n",
    "    data_merge = reduce(lambda left, right:pd.merge(left, right,on = [\"timestamp\"]),df)\n",
    "    name={'average_PM2_5_x':'row_data_average','average_PM2_5_y':'5mins_off_average','average_PM2_5':'15mins_off_average'}\n",
    "    data_merge.rename(columns=name,inplace=True)\n",
    "    return data_merge.plot()"
   ]
  },
  {
   "cell_type": "code",
   "execution_count": 27,
   "metadata": {},
   "outputs": [
    {
     "data": {
      "text/html": [
       "\n",
       "  <div class=\"bk-root\" id=\"6f187ccb-7131-4ca3-8b40-3f442de5d59a\" data-root-id=\"1611\"></div>\n"
      ]
     },
     "metadata": {},
     "output_type": "display_data"
    },
    {
     "data": {
      "application/javascript": "(function(root) {\n  function embed_document(root) {\n  const docs_json = {\"dbdae064-851e-47de-868b-8f10099639b6\":{\"defs\":[],\"roots\":{\"references\":[{\"attributes\":{\"below\":[{\"id\":\"1622\"}],\"center\":[{\"id\":\"1625\"},{\"id\":\"1629\"},{\"id\":\"1673\"}],\"height\":400,\"left\":[{\"id\":\"1626\"}],\"output_backend\":\"webgl\",\"renderers\":[{\"id\":\"1649\"},{\"id\":\"1682\"},{\"id\":\"1716\"}],\"sizing_mode\":\"fixed\",\"title\":{\"id\":\"1612\"},\"toolbar\":{\"id\":\"1637\"},\"x_range\":{\"id\":\"1614\"},\"x_scale\":{\"id\":\"1618\"},\"y_range\":{\"id\":\"1616\"},\"y_scale\":{\"id\":\"1620\"}},\"id\":\"1611\",\"subtype\":\"Figure\",\"type\":\"Plot\"},{\"attributes\":{},\"id\":\"1653\",\"type\":\"BasicTickFormatter\"},{\"attributes\":{\"days\":[\"%d %B %Y\"],\"hours\":[\"%H:%M:%S\"],\"milliseconds\":[\"%H:%M:%S.%f\"],\"minutes\":[\"%H:%M:%S\"],\"months\":[\"%d %B %Y\"],\"seconds\":[\"%H:%M:%S\"],\"years\":[\"%d %B %Y\"]},\"id\":\"1747\",\"type\":\"DatetimeTickFormatter\"},{\"attributes\":{\"callback\":null,\"formatters\":{\"@__x__values_original\":\"datetime\"},\"mode\":\"vline\",\"renderers\":[{\"id\":\"1716\"}],\"tooltips\":[[\"timestamp\",\"@__x__values_original{%F}\"],[\"15mins_off_average\",\"@{15mins_off_average}\"]]},\"id\":\"1745\",\"type\":\"HoverTool\"},{\"attributes\":{\"mantissas\":[1,2,5],\"max_interval\":500.0,\"num_minor_ticks\":0},\"id\":\"1661\",\"type\":\"AdaptiveTicker\"},{\"attributes\":{\"data\":{\"15mins_off_average\":{\"__ndarray__\":\"7nw/NV7mXkA4ryaeFXViQH6x5BdLDmFAFK5H4Xp/YUAYS36x5H9lQHsUrkfhtGlAQDVeukl4XkDiehSuRxFPQIXrUbgeVU1Asp3vp8aDTkCMJb9Y8jtSQMakVUxaBUpAY8kvlvxmSECf9Emf9KlGQNs3rH3DakVA9Shcj8IdR0ANdNpAp3VJQFAHdVAHjVNAehSuR+EqT0CYbhKDwJpLQD+7gNhUQlBAI9v5fmpQV0DhehSuR/VUQDLAnGXzP1FAvJp4VjQiT0AiQ2WHqXtMQEWIt6vuXUlAFa5H4XosTEBQ0vHpa1tZQNbEs6KRAFdASOF6FK4TTkCuR+F6FA5GQDCW/GLJN0JA61G4HoVLOEA5baDTBko7QEV/J6vlrT9AtMh2vp8KQUAVrkfhejRBQIbKDlOXq0BA5/up8dKFQkDGpFVMWrVEQArXo3A9Y1VA3WcXEJtaVEApXI/C9RRQQAkNhtBgOFNAjC666KLvYUBQjZduErNeQME3ryaedVtAjWCiv5OlW0BERERERHZUQEw3iUFgQVBA6LSBThteUEAfhetRuHhXQIwTyTiRTFZAQLkDlDu4UUDfT42XbsJAQEoMAiuHZjVAVHaYuty+MkCJ/k5Wy7s0QClcj8L1iDdA9Shcj8L1OkBcj8L1KBQ7QFK4HoXr5TlAiIiIiIjYOkDrUbgehetBQPq8l897WUpAFK5H4Xq4TkBSuB6F6/VQQO/u7u7u1k1A+FPjpZs8SUAVrkfhehJJQAVbsAVb4E1A\",\"dtype\":\"float64\",\"order\":\"little\",\"shape\":[72]},\"5mins_off_average\":{\"__ndarray__\":\"CtejcH09YEC0pTpbqvNhQOgIFG01IGFAMWkVk1ZpYUAUrkfheuhjQNZJlTEsHmpA6EMm++qUX0B/seQXS0hNQFK4HoXroU1AUrgehes5TkAor6G8hpJPQBhLfrHk10pAJb9Y8otNSEB605ve9FZGQEfhehSu/0VALPnFkl9aR0AAAAAAAMdMQFbLGyOYrFNA3t7e3t6eTkDVvUOiijBMQN2pdkMQZVBAxL9G/GtIVkCDwMqhRWRUQOfYbY7dLlFAuR6F61HwTUC6urq6uvpLQO0b1r5htUlAeHd3d3dDTEA6W6qzpf5ZQODJanljpFZAQ859dgHxS0DPZtXnantFQLuk8mHcj0FA2P1LSehjN0AV71lKZyg6QOF6FK5H4T9AUI2XbhJXQUBGtvP91IBBQPpgxy2UOkFA2zesfcPyQkCPwvUoXM9GQBknknEiAVRApHA9CtfQUkB84kivFURQQB+F61E4GVZABk3tVQHPYUBC4vDae8peQGVfnVQZw1pAodQHO27BWkAWk1YxaclTQMlqeWMEk09AsVVznq7UT0AB5Q5Q7ixaQMT88W3cVVVAetnK4D+pUUAeoNwBynVAQC+66KKLXjRAaiHmj2+DMkA49XtuiRM1QLmUS7mUqzdAxz7NDd/1O0BLN4lBYO07QKGmH2r6ITtASibWIUxrO0CQNYz2m0JCQGg0Ac6aV0tAmSYDzFlGT0BbsAVbsNlQQHH24TPsik1AfT81XrpxSUAk4JtXExdJQCkhrFtUv05A\",\"dtype\":\"float64\",\"order\":\"little\",\"shape\":[72]},\"__x__values\":{\"__ndarray__\":\"AACAIB1meEIAAGiPIGZ4QgAAUP4jZnhCAAA4bSdmeEIAACDcKmZ4QgAACEsuZnhCAADwuTFmeEIAANgoNWZ4QgAAwJc4ZnhCAACoBjxmeEIAAJB1P2Z4QgAAeORCZnhCAABgU0ZmeEIAAEjCSWZ4QgAAMDFNZnhCAAAYoFBmeEIAAAAPVGZ4QgAA6H1XZnhCAADQ7FpmeEIAALhbXmZ4QgAAoMphZnhCAACIOWVmeEIAAHCoaGZ4QgAAWBdsZnhCAABAhm9meEIAACj1cmZ4QgAAEGR2ZnhCAAD40nlmeEIAAOBBfWZ4QgAAyLCAZnhCAACwH4RmeEIAAJiOh2Z4QgAAgP2KZnhCAABobI5meEIAAFDbkWZ4QgAAOEqVZnhCAAAguZhmeEIAAAgonGZ4QgAA8JafZnhCAADYBaNmeEIAAMB0pmZ4QgAAqOOpZnhCAACQUq1meEIAAHjBsGZ4QgAAYDC0ZnhCAABIn7dmeEIAADAOu2Z4QgAAGH2+ZnhCAAAA7MFmeEIAAOhaxWZ4QgAA0MnIZnhCAAC4OMxmeEIAAKCnz2Z4QgAAiBbTZnhCAABwhdZmeEIAAFj02WZ4QgAAQGPdZnhCAAAo0uBmeEIAABBB5GZ4QgAA+K/nZnhCAADgHutmeEIAAMiN7mZ4QgAAsPzxZnhCAACYa/VmeEIAAIDa+GZ4QgAAaEn8ZnhCAABQuP9meEIAADgnA2d4QgAAIJYGZ3hCAAAIBQpneEIAAPBzDWd4QgAA2OIQZ3hC\",\"dtype\":\"float64\",\"order\":\"little\",\"shape\":[72]},\"__x__values_original\":{\"__ndarray__\":\"AACAIB1meEIAAGiPIGZ4QgAAUP4jZnhCAAA4bSdmeEIAACDcKmZ4QgAACEsuZnhCAADwuTFmeEIAANgoNWZ4QgAAwJc4ZnhCAACoBjxmeEIAAJB1P2Z4QgAAeORCZnhCAABgU0ZmeEIAAEjCSWZ4QgAAMDFNZnhCAAAYoFBmeEIAAAAPVGZ4QgAA6H1XZnhCAADQ7FpmeEIAALhbXmZ4QgAAoMphZnhCAACIOWVmeEIAAHCoaGZ4QgAAWBdsZnhCAABAhm9meEIAACj1cmZ4QgAAEGR2ZnhCAAD40nlmeEIAAOBBfWZ4QgAAyLCAZnhCAACwH4RmeEIAAJiOh2Z4QgAAgP2KZnhCAABobI5meEIAAFDbkWZ4QgAAOEqVZnhCAAAguZhmeEIAAAgonGZ4QgAA8JafZnhCAADYBaNmeEIAAMB0pmZ4QgAAqOOpZnhCAACQUq1meEIAAHjBsGZ4QgAAYDC0ZnhCAABIn7dmeEIAADAOu2Z4QgAAGH2+ZnhCAAAA7MFmeEIAAOhaxWZ4QgAA0MnIZnhCAAC4OMxmeEIAAKCnz2Z4QgAAiBbTZnhCAABwhdZmeEIAAFj02WZ4QgAAQGPdZnhCAAAo0uBmeEIAABBB5GZ4QgAA+K/nZnhCAADgHutmeEIAAMiN7mZ4QgAAsPzxZnhCAACYa/VmeEIAAIDa+GZ4QgAAaEn8ZnhCAABQuP9meEIAADgnA2d4QgAAIJYGZ3hCAAAIBQpneEIAAPBzDWd4QgAA2OIQZ3hC\",\"dtype\":\"float64\",\"order\":\"little\",\"shape\":[72]},\"row_data_average\":{\"__ndarray__\":\"BD/wAz84YUC89p4iXcdhQGFBScenS2FAMg1O9QKDYUC6SQwCK5VjQDXqPGgdgGlAonUpWpcCYEDktgAPOyhPQAWDY2vpmU1A5G1I3oZETkBQjZduEh5QQOVrUL4GdUpAJWpXonZVSEAUpHWmpzBGQArXo3A9+kVASpCnBHmaR0B5VjQS8NlOQKXe1a+1cVNAog+Z7KuDTUBtlRLlDEpMQFRUVFRUVFBAjpduEoPzVkAJYd2i+h5UQP25QWQ5NVFA0YdM9tV5TUBXO4Lw1BtMQMyuVhxT4UlAEZtKQ851TEBH4XoUrqNaQH8nq+WNlVZAtL+5PPubSkCTtSlZm2JFQNO0LE3LwkFAoQ7qoA4qOEBJ16J0Leo6QM73U+OlKUBAtMh2vp84QUDb+X5qvHJBQPo4KS1sbEFAokW28/0cQ0B5VjQS8PVGQF5DeQ3lGVNAmpmZmZkIU0Dc29vb25NQQPrBe0t6GlZA9DE4H4OfYUAFVg4tsmxfQFTfjocS2llAiBXyukgtWkBI60xPgRtUQEPOfXYBAU9A8dQbim7lTUAAAAAAAKhZQCKTfXVSlVZAv69qwMiHUkCWQ4ts50VAQN9PjZduOjRAgZVDi2x/MkDr2/FQQig1QLy7u7u72zdA7j1FugoSPEDa4mBBSQc8QJmcjcnZWDtA67vtqeJRO0AofdInfSJCQJf8YskvFktAfM2FpCktT0DQtEJUoJRQQDdSdQ32FU1A9ihcj8JRSUBt5/up8QZJQIP/xByZHk9A\",\"dtype\":\"float64\",\"order\":\"little\",\"shape\":[72]}},\"selected\":{\"id\":\"1730\"},\"selection_policy\":{\"id\":\"1729\"}},\"id\":\"1711\",\"type\":\"ColumnDataSource\"},{\"attributes\":{},\"id\":\"1634\",\"type\":\"ResetTool\"},{\"attributes\":{\"coordinates\":null,\"data_source\":{\"id\":\"1644\"},\"glyph\":{\"id\":\"1646\"},\"group\":null,\"hover_glyph\":null,\"muted_glyph\":{\"id\":\"1648\"},\"nonselection_glyph\":{\"id\":\"1647\"},\"view\":{\"id\":\"1650\"}},\"id\":\"1649\",\"type\":\"GlyphRenderer\"},{\"attributes\":{\"label\":{\"value\":\" 15mins_off_average\"},\"renderers\":[{\"id\":\"1716\"}]},\"id\":\"1744\",\"type\":\"LegendItem\"},{\"attributes\":{\"source\":{\"id\":\"1644\"}},\"id\":\"1650\",\"type\":\"CDSView\"},{\"attributes\":{\"line_alpha\":0.1,\"line_color\":\"#2ca02c\",\"line_width\":2,\"x\":{\"field\":\"__x__values\"},\"y\":{\"field\":\"15mins_off_average\"}},\"id\":\"1714\",\"type\":\"Line\"},{\"attributes\":{\"line_alpha\":0.2,\"line_color\":\"#1f77b4\",\"line_width\":2,\"x\":{\"field\":\"__x__values\"},\"y\":{\"field\":\"row_data_average\"}},\"id\":\"1648\",\"type\":\"Line\"},{\"attributes\":{\"line_alpha\":0.2,\"line_color\":\"#2ca02c\",\"line_width\":2,\"x\":{\"field\":\"__x__values\"},\"y\":{\"field\":\"15mins_off_average\"}},\"id\":\"1715\",\"type\":\"Line\"},{\"attributes\":{\"click_policy\":\"hide\",\"coordinates\":null,\"group\":null,\"items\":[{\"id\":\"1674\"},{\"id\":\"1708\"},{\"id\":\"1744\"}]},\"id\":\"1673\",\"type\":\"Legend\"},{\"attributes\":{\"coordinates\":null,\"data_source\":{\"id\":\"1711\"},\"glyph\":{\"id\":\"1713\"},\"group\":null,\"hover_glyph\":null,\"muted_glyph\":{\"id\":\"1715\"},\"nonselection_glyph\":{\"id\":\"1714\"},\"view\":{\"id\":\"1717\"}},\"id\":\"1716\",\"type\":\"GlyphRenderer\"},{\"attributes\":{\"axis_label\":\"timestamp\",\"coordinates\":null,\"formatter\":{\"id\":\"1747\"},\"group\":null,\"major_label_policy\":{\"id\":\"1657\"},\"ticker\":{\"id\":\"1623\"}},\"id\":\"1622\",\"type\":\"DatetimeAxis\"},{\"attributes\":{\"label\":{\"value\":\" row_data_average\"},\"renderers\":[{\"id\":\"1649\"}]},\"id\":\"1674\",\"type\":\"LegendItem\"},{\"attributes\":{\"data\":{\"15mins_off_average\":{\"__ndarray__\":\"7nw/NV7mXkA4ryaeFXViQH6x5BdLDmFAFK5H4Xp/YUAYS36x5H9lQHsUrkfhtGlAQDVeukl4XkDiehSuRxFPQIXrUbgeVU1Asp3vp8aDTkCMJb9Y8jtSQMakVUxaBUpAY8kvlvxmSECf9Emf9KlGQNs3rH3DakVA9Shcj8IdR0ANdNpAp3VJQFAHdVAHjVNAehSuR+EqT0CYbhKDwJpLQD+7gNhUQlBAI9v5fmpQV0DhehSuR/VUQDLAnGXzP1FAvJp4VjQiT0AiQ2WHqXtMQEWIt6vuXUlAFa5H4XosTEBQ0vHpa1tZQNbEs6KRAFdASOF6FK4TTkCuR+F6FA5GQDCW/GLJN0JA61G4HoVLOEA5baDTBko7QEV/J6vlrT9AtMh2vp8KQUAVrkfhejRBQIbKDlOXq0BA5/up8dKFQkDGpFVMWrVEQArXo3A9Y1VA3WcXEJtaVEApXI/C9RRQQAkNhtBgOFNAjC666KLvYUBQjZduErNeQME3ryaedVtAjWCiv5OlW0BERERERHZUQEw3iUFgQVBA6LSBThteUEAfhetRuHhXQIwTyTiRTFZAQLkDlDu4UUDfT42XbsJAQEoMAiuHZjVAVHaYuty+MkCJ/k5Wy7s0QClcj8L1iDdA9Shcj8L1OkBcj8L1KBQ7QFK4HoXr5TlAiIiIiIjYOkDrUbgehetBQPq8l897WUpAFK5H4Xq4TkBSuB6F6/VQQO/u7u7u1k1A+FPjpZs8SUAVrkfhehJJQAVbsAVb4E1A\",\"dtype\":\"float64\",\"order\":\"little\",\"shape\":[72]},\"5mins_off_average\":{\"__ndarray__\":\"CtejcH09YEC0pTpbqvNhQOgIFG01IGFAMWkVk1ZpYUAUrkfheuhjQNZJlTEsHmpA6EMm++qUX0B/seQXS0hNQFK4HoXroU1AUrgehes5TkAor6G8hpJPQBhLfrHk10pAJb9Y8otNSEB605ve9FZGQEfhehSu/0VALPnFkl9aR0AAAAAAAMdMQFbLGyOYrFNA3t7e3t6eTkDVvUOiijBMQN2pdkMQZVBAxL9G/GtIVkCDwMqhRWRUQOfYbY7dLlFAuR6F61HwTUC6urq6uvpLQO0b1r5htUlAeHd3d3dDTEA6W6qzpf5ZQODJanljpFZAQ859dgHxS0DPZtXnantFQLuk8mHcj0FA2P1LSehjN0AV71lKZyg6QOF6FK5H4T9AUI2XbhJXQUBGtvP91IBBQPpgxy2UOkFA2zesfcPyQkCPwvUoXM9GQBknknEiAVRApHA9CtfQUkB84kivFURQQB+F61E4GVZABk3tVQHPYUBC4vDae8peQGVfnVQZw1pAodQHO27BWkAWk1YxaclTQMlqeWMEk09AsVVznq7UT0AB5Q5Q7ixaQMT88W3cVVVAetnK4D+pUUAeoNwBynVAQC+66KKLXjRAaiHmj2+DMkA49XtuiRM1QLmUS7mUqzdAxz7NDd/1O0BLN4lBYO07QKGmH2r6ITtASibWIUxrO0CQNYz2m0JCQGg0Ac6aV0tAmSYDzFlGT0BbsAVbsNlQQHH24TPsik1AfT81XrpxSUAk4JtXExdJQCkhrFtUv05A\",\"dtype\":\"float64\",\"order\":\"little\",\"shape\":[72]},\"__x__values\":{\"__ndarray__\":\"AACAIB1meEIAAGiPIGZ4QgAAUP4jZnhCAAA4bSdmeEIAACDcKmZ4QgAACEsuZnhCAADwuTFmeEIAANgoNWZ4QgAAwJc4ZnhCAACoBjxmeEIAAJB1P2Z4QgAAeORCZnhCAABgU0ZmeEIAAEjCSWZ4QgAAMDFNZnhCAAAYoFBmeEIAAAAPVGZ4QgAA6H1XZnhCAADQ7FpmeEIAALhbXmZ4QgAAoMphZnhCAACIOWVmeEIAAHCoaGZ4QgAAWBdsZnhCAABAhm9meEIAACj1cmZ4QgAAEGR2ZnhCAAD40nlmeEIAAOBBfWZ4QgAAyLCAZnhCAACwH4RmeEIAAJiOh2Z4QgAAgP2KZnhCAABobI5meEIAAFDbkWZ4QgAAOEqVZnhCAAAguZhmeEIAAAgonGZ4QgAA8JafZnhCAADYBaNmeEIAAMB0pmZ4QgAAqOOpZnhCAACQUq1meEIAAHjBsGZ4QgAAYDC0ZnhCAABIn7dmeEIAADAOu2Z4QgAAGH2+ZnhCAAAA7MFmeEIAAOhaxWZ4QgAA0MnIZnhCAAC4OMxmeEIAAKCnz2Z4QgAAiBbTZnhCAABwhdZmeEIAAFj02WZ4QgAAQGPdZnhCAAAo0uBmeEIAABBB5GZ4QgAA+K/nZnhCAADgHutmeEIAAMiN7mZ4QgAAsPzxZnhCAACYa/VmeEIAAIDa+GZ4QgAAaEn8ZnhCAABQuP9meEIAADgnA2d4QgAAIJYGZ3hCAAAIBQpneEIAAPBzDWd4QgAA2OIQZ3hC\",\"dtype\":\"float64\",\"order\":\"little\",\"shape\":[72]},\"__x__values_original\":{\"__ndarray__\":\"AACAIB1meEIAAGiPIGZ4QgAAUP4jZnhCAAA4bSdmeEIAACDcKmZ4QgAACEsuZnhCAADwuTFmeEIAANgoNWZ4QgAAwJc4ZnhCAACoBjxmeEIAAJB1P2Z4QgAAeORCZnhCAABgU0ZmeEIAAEjCSWZ4QgAAMDFNZnhCAAAYoFBmeEIAAAAPVGZ4QgAA6H1XZnhCAADQ7FpmeEIAALhbXmZ4QgAAoMphZnhCAACIOWVmeEIAAHCoaGZ4QgAAWBdsZnhCAABAhm9meEIAACj1cmZ4QgAAEGR2ZnhCAAD40nlmeEIAAOBBfWZ4QgAAyLCAZnhCAACwH4RmeEIAAJiOh2Z4QgAAgP2KZnhCAABobI5meEIAAFDbkWZ4QgAAOEqVZnhCAAAguZhmeEIAAAgonGZ4QgAA8JafZnhCAADYBaNmeEIAAMB0pmZ4QgAAqOOpZnhCAACQUq1meEIAAHjBsGZ4QgAAYDC0ZnhCAABIn7dmeEIAADAOu2Z4QgAAGH2+ZnhCAAAA7MFmeEIAAOhaxWZ4QgAA0MnIZnhCAAC4OMxmeEIAAKCnz2Z4QgAAiBbTZnhCAABwhdZmeEIAAFj02WZ4QgAAQGPdZnhCAAAo0uBmeEIAABBB5GZ4QgAA+K/nZnhCAADgHutmeEIAAMiN7mZ4QgAAsPzxZnhCAACYa/VmeEIAAIDa+GZ4QgAAaEn8ZnhCAABQuP9meEIAADgnA2d4QgAAIJYGZ3hCAAAIBQpneEIAAPBzDWd4QgAA2OIQZ3hC\",\"dtype\":\"float64\",\"order\":\"little\",\"shape\":[72]},\"row_data_average\":{\"__ndarray__\":\"BD/wAz84YUC89p4iXcdhQGFBScenS2FAMg1O9QKDYUC6SQwCK5VjQDXqPGgdgGlAonUpWpcCYEDktgAPOyhPQAWDY2vpmU1A5G1I3oZETkBQjZduEh5QQOVrUL4GdUpAJWpXonZVSEAUpHWmpzBGQArXo3A9+kVASpCnBHmaR0B5VjQS8NlOQKXe1a+1cVNAog+Z7KuDTUBtlRLlDEpMQFRUVFRUVFBAjpduEoPzVkAJYd2i+h5UQP25QWQ5NVFA0YdM9tV5TUBXO4Lw1BtMQMyuVhxT4UlAEZtKQ851TEBH4XoUrqNaQH8nq+WNlVZAtL+5PPubSkCTtSlZm2JFQNO0LE3LwkFAoQ7qoA4qOEBJ16J0Leo6QM73U+OlKUBAtMh2vp84QUDb+X5qvHJBQPo4KS1sbEFAokW28/0cQ0B5VjQS8PVGQF5DeQ3lGVNAmpmZmZkIU0Dc29vb25NQQPrBe0t6GlZA9DE4H4OfYUAFVg4tsmxfQFTfjocS2llAiBXyukgtWkBI60xPgRtUQEPOfXYBAU9A8dQbim7lTUAAAAAAAKhZQCKTfXVSlVZAv69qwMiHUkCWQ4ts50VAQN9PjZduOjRAgZVDi2x/MkDr2/FQQig1QLy7u7u72zdA7j1FugoSPEDa4mBBSQc8QJmcjcnZWDtA67vtqeJRO0AofdInfSJCQJf8YskvFktAfM2FpCktT0DQtEJUoJRQQDdSdQ32FU1A9ihcj8JRSUBt5/up8QZJQIP/xByZHk9A\",\"dtype\":\"float64\",\"order\":\"little\",\"shape\":[72]}},\"selected\":{\"id\":\"1659\"},\"selection_policy\":{\"id\":\"1658\"}},\"id\":\"1644\",\"type\":\"ColumnDataSource\"},{\"attributes\":{\"callback\":null,\"formatters\":{\"@__x__values_original\":\"datetime\"},\"mode\":\"vline\",\"renderers\":[{\"id\":\"1649\"}],\"tooltips\":[[\"timestamp\",\"@__x__values_original{%F}\"],[\"row_data_average\",\"@{row_data_average}\"]]},\"id\":\"1675\",\"type\":\"HoverTool\"},{\"attributes\":{\"source\":{\"id\":\"1711\"}},\"id\":\"1717\",\"type\":\"CDSView\"},{\"attributes\":{\"line_color\":\"#1f77b4\",\"line_width\":2,\"x\":{\"field\":\"__x__values\"},\"y\":{\"field\":\"row_data_average\"}},\"id\":\"1646\",\"type\":\"Line\"},{\"attributes\":{},\"id\":\"1729\",\"type\":\"UnionRenderers\"},{\"attributes\":{\"active_scroll\":{\"id\":\"1631\"},\"tools\":[{\"id\":\"1630\"},{\"id\":\"1631\"},{\"id\":\"1632\"},{\"id\":\"1633\"},{\"id\":\"1634\"},{\"id\":\"1635\"},{\"id\":\"1675\"},{\"id\":\"1709\"},{\"id\":\"1745\"}]},\"id\":\"1637\",\"type\":\"Toolbar\"},{\"attributes\":{\"data\":{\"15mins_off_average\":{\"__ndarray__\":\"7nw/NV7mXkA4ryaeFXViQH6x5BdLDmFAFK5H4Xp/YUAYS36x5H9lQHsUrkfhtGlAQDVeukl4XkDiehSuRxFPQIXrUbgeVU1Asp3vp8aDTkCMJb9Y8jtSQMakVUxaBUpAY8kvlvxmSECf9Emf9KlGQNs3rH3DakVA9Shcj8IdR0ANdNpAp3VJQFAHdVAHjVNAehSuR+EqT0CYbhKDwJpLQD+7gNhUQlBAI9v5fmpQV0DhehSuR/VUQDLAnGXzP1FAvJp4VjQiT0AiQ2WHqXtMQEWIt6vuXUlAFa5H4XosTEBQ0vHpa1tZQNbEs6KRAFdASOF6FK4TTkCuR+F6FA5GQDCW/GLJN0JA61G4HoVLOEA5baDTBko7QEV/J6vlrT9AtMh2vp8KQUAVrkfhejRBQIbKDlOXq0BA5/up8dKFQkDGpFVMWrVEQArXo3A9Y1VA3WcXEJtaVEApXI/C9RRQQAkNhtBgOFNAjC666KLvYUBQjZduErNeQME3ryaedVtAjWCiv5OlW0BERERERHZUQEw3iUFgQVBA6LSBThteUEAfhetRuHhXQIwTyTiRTFZAQLkDlDu4UUDfT42XbsJAQEoMAiuHZjVAVHaYuty+MkCJ/k5Wy7s0QClcj8L1iDdA9Shcj8L1OkBcj8L1KBQ7QFK4HoXr5TlAiIiIiIjYOkDrUbgehetBQPq8l897WUpAFK5H4Xq4TkBSuB6F6/VQQO/u7u7u1k1A+FPjpZs8SUAVrkfhehJJQAVbsAVb4E1A\",\"dtype\":\"float64\",\"order\":\"little\",\"shape\":[72]},\"5mins_off_average\":{\"__ndarray__\":\"CtejcH09YEC0pTpbqvNhQOgIFG01IGFAMWkVk1ZpYUAUrkfheuhjQNZJlTEsHmpA6EMm++qUX0B/seQXS0hNQFK4HoXroU1AUrgehes5TkAor6G8hpJPQBhLfrHk10pAJb9Y8otNSEB605ve9FZGQEfhehSu/0VALPnFkl9aR0AAAAAAAMdMQFbLGyOYrFNA3t7e3t6eTkDVvUOiijBMQN2pdkMQZVBAxL9G/GtIVkCDwMqhRWRUQOfYbY7dLlFAuR6F61HwTUC6urq6uvpLQO0b1r5htUlAeHd3d3dDTEA6W6qzpf5ZQODJanljpFZAQ859dgHxS0DPZtXnantFQLuk8mHcj0FA2P1LSehjN0AV71lKZyg6QOF6FK5H4T9AUI2XbhJXQUBGtvP91IBBQPpgxy2UOkFA2zesfcPyQkCPwvUoXM9GQBknknEiAVRApHA9CtfQUkB84kivFURQQB+F61E4GVZABk3tVQHPYUBC4vDae8peQGVfnVQZw1pAodQHO27BWkAWk1YxaclTQMlqeWMEk09AsVVznq7UT0AB5Q5Q7ixaQMT88W3cVVVAetnK4D+pUUAeoNwBynVAQC+66KKLXjRAaiHmj2+DMkA49XtuiRM1QLmUS7mUqzdAxz7NDd/1O0BLN4lBYO07QKGmH2r6ITtASibWIUxrO0CQNYz2m0JCQGg0Ac6aV0tAmSYDzFlGT0BbsAVbsNlQQHH24TPsik1AfT81XrpxSUAk4JtXExdJQCkhrFtUv05A\",\"dtype\":\"float64\",\"order\":\"little\",\"shape\":[72]},\"__x__values\":{\"__ndarray__\":\"AACAIB1meEIAAGiPIGZ4QgAAUP4jZnhCAAA4bSdmeEIAACDcKmZ4QgAACEsuZnhCAADwuTFmeEIAANgoNWZ4QgAAwJc4ZnhCAACoBjxmeEIAAJB1P2Z4QgAAeORCZnhCAABgU0ZmeEIAAEjCSWZ4QgAAMDFNZnhCAAAYoFBmeEIAAAAPVGZ4QgAA6H1XZnhCAADQ7FpmeEIAALhbXmZ4QgAAoMphZnhCAACIOWVmeEIAAHCoaGZ4QgAAWBdsZnhCAABAhm9meEIAACj1cmZ4QgAAEGR2ZnhCAAD40nlmeEIAAOBBfWZ4QgAAyLCAZnhCAACwH4RmeEIAAJiOh2Z4QgAAgP2KZnhCAABobI5meEIAAFDbkWZ4QgAAOEqVZnhCAAAguZhmeEIAAAgonGZ4QgAA8JafZnhCAADYBaNmeEIAAMB0pmZ4QgAAqOOpZnhCAACQUq1meEIAAHjBsGZ4QgAAYDC0ZnhCAABIn7dmeEIAADAOu2Z4QgAAGH2+ZnhCAAAA7MFmeEIAAOhaxWZ4QgAA0MnIZnhCAAC4OMxmeEIAAKCnz2Z4QgAAiBbTZnhCAABwhdZmeEIAAFj02WZ4QgAAQGPdZnhCAAAo0uBmeEIAABBB5GZ4QgAA+K/nZnhCAADgHutmeEIAAMiN7mZ4QgAAsPzxZnhCAACYa/VmeEIAAIDa+GZ4QgAAaEn8ZnhCAABQuP9meEIAADgnA2d4QgAAIJYGZ3hCAAAIBQpneEIAAPBzDWd4QgAA2OIQZ3hC\",\"dtype\":\"float64\",\"order\":\"little\",\"shape\":[72]},\"__x__values_original\":{\"__ndarray__\":\"AACAIB1meEIAAGiPIGZ4QgAAUP4jZnhCAAA4bSdmeEIAACDcKmZ4QgAACEsuZnhCAADwuTFmeEIAANgoNWZ4QgAAwJc4ZnhCAACoBjxmeEIAAJB1P2Z4QgAAeORCZnhCAABgU0ZmeEIAAEjCSWZ4QgAAMDFNZnhCAAAYoFBmeEIAAAAPVGZ4QgAA6H1XZnhCAADQ7FpmeEIAALhbXmZ4QgAAoMphZnhCAACIOWVmeEIAAHCoaGZ4QgAAWBdsZnhCAABAhm9meEIAACj1cmZ4QgAAEGR2ZnhCAAD40nlmeEIAAOBBfWZ4QgAAyLCAZnhCAACwH4RmeEIAAJiOh2Z4QgAAgP2KZnhCAABobI5meEIAAFDbkWZ4QgAAOEqVZnhCAAAguZhmeEIAAAgonGZ4QgAA8JafZnhCAADYBaNmeEIAAMB0pmZ4QgAAqOOpZnhCAACQUq1meEIAAHjBsGZ4QgAAYDC0ZnhCAABIn7dmeEIAADAOu2Z4QgAAGH2+ZnhCAAAA7MFmeEIAAOhaxWZ4QgAA0MnIZnhCAAC4OMxmeEIAAKCnz2Z4QgAAiBbTZnhCAABwhdZmeEIAAFj02WZ4QgAAQGPdZnhCAAAo0uBmeEIAABBB5GZ4QgAA+K/nZnhCAADgHutmeEIAAMiN7mZ4QgAAsPzxZnhCAACYa/VmeEIAAIDa+GZ4QgAAaEn8ZnhCAABQuP9meEIAADgnA2d4QgAAIJYGZ3hCAAAIBQpneEIAAPBzDWd4QgAA2OIQZ3hC\",\"dtype\":\"float64\",\"order\":\"little\",\"shape\":[72]},\"row_data_average\":{\"__ndarray__\":\"BD/wAz84YUC89p4iXcdhQGFBScenS2FAMg1O9QKDYUC6SQwCK5VjQDXqPGgdgGlAonUpWpcCYEDktgAPOyhPQAWDY2vpmU1A5G1I3oZETkBQjZduEh5QQOVrUL4GdUpAJWpXonZVSEAUpHWmpzBGQArXo3A9+kVASpCnBHmaR0B5VjQS8NlOQKXe1a+1cVNAog+Z7KuDTUBtlRLlDEpMQFRUVFRUVFBAjpduEoPzVkAJYd2i+h5UQP25QWQ5NVFA0YdM9tV5TUBXO4Lw1BtMQMyuVhxT4UlAEZtKQ851TEBH4XoUrqNaQH8nq+WNlVZAtL+5PPubSkCTtSlZm2JFQNO0LE3LwkFAoQ7qoA4qOEBJ16J0Leo6QM73U+OlKUBAtMh2vp84QUDb+X5qvHJBQPo4KS1sbEFAokW28/0cQ0B5VjQS8PVGQF5DeQ3lGVNAmpmZmZkIU0Dc29vb25NQQPrBe0t6GlZA9DE4H4OfYUAFVg4tsmxfQFTfjocS2llAiBXyukgtWkBI60xPgRtUQEPOfXYBAU9A8dQbim7lTUAAAAAAAKhZQCKTfXVSlVZAv69qwMiHUkCWQ4ts50VAQN9PjZduOjRAgZVDi2x/MkDr2/FQQig1QLy7u7u72zdA7j1FugoSPEDa4mBBSQc8QJmcjcnZWDtA67vtqeJRO0AofdInfSJCQJf8YskvFktAfM2FpCktT0DQtEJUoJRQQDdSdQ32FU1A9ihcj8JRSUBt5/up8QZJQIP/xByZHk9A\",\"dtype\":\"float64\",\"order\":\"little\",\"shape\":[72]}},\"selected\":{\"id\":\"1694\"},\"selection_policy\":{\"id\":\"1693\"}},\"id\":\"1677\",\"type\":\"ColumnDataSource\"},{\"attributes\":{},\"id\":\"1618\",\"type\":\"LinearScale\"},{\"attributes\":{\"line_alpha\":0.1,\"line_color\":\"#1f77b4\",\"line_width\":2,\"x\":{\"field\":\"__x__values\"},\"y\":{\"field\":\"row_data_average\"}},\"id\":\"1647\",\"type\":\"Line\"},{\"attributes\":{\"line_alpha\":0.1,\"line_color\":\"#ff7f0e\",\"line_width\":2,\"x\":{\"field\":\"__x__values\"},\"y\":{\"field\":\"5mins_off_average\"}},\"id\":\"1680\",\"type\":\"Line\"},{\"attributes\":{},\"id\":\"1730\",\"type\":\"Selection\"},{\"attributes\":{},\"id\":\"1635\",\"type\":\"HelpTool\"},{\"attributes\":{\"label\":{\"value\":\" 5mins_off_average\"},\"renderers\":[{\"id\":\"1682\"}]},\"id\":\"1708\",\"type\":\"LegendItem\"},{\"attributes\":{\"line_color\":\"#ff7f0e\",\"line_width\":2,\"x\":{\"field\":\"__x__values\"},\"y\":{\"field\":\"5mins_off_average\"}},\"id\":\"1679\",\"type\":\"Line\"},{\"attributes\":{},\"id\":\"1654\",\"type\":\"AllLabels\"},{\"attributes\":{\"line_color\":\"#2ca02c\",\"line_width\":2,\"x\":{\"field\":\"__x__values\"},\"y\":{\"field\":\"15mins_off_average\"}},\"id\":\"1713\",\"type\":\"Line\"},{\"attributes\":{\"line_alpha\":0.2,\"line_color\":\"#ff7f0e\",\"line_width\":2,\"x\":{\"field\":\"__x__values\"},\"y\":{\"field\":\"5mins_off_average\"}},\"id\":\"1681\",\"type\":\"Line\"},{\"attributes\":{\"coordinates\":null,\"group\":null},\"id\":\"1612\",\"type\":\"Title\"},{\"attributes\":{\"days\":[1,4,7,10,13,16,19,22,25,28]},\"id\":\"1665\",\"type\":\"DaysTicker\"},{\"attributes\":{\"source\":{\"id\":\"1677\"}},\"id\":\"1683\",\"type\":\"CDSView\"},{\"attributes\":{\"days\":[1,15]},\"id\":\"1667\",\"type\":\"DaysTicker\"},{\"attributes\":{\"coordinates\":null,\"data_source\":{\"id\":\"1677\"},\"glyph\":{\"id\":\"1679\"},\"group\":null,\"hover_glyph\":null,\"muted_glyph\":{\"id\":\"1681\"},\"nonselection_glyph\":{\"id\":\"1680\"},\"view\":{\"id\":\"1683\"}},\"id\":\"1682\",\"type\":\"GlyphRenderer\"},{\"attributes\":{\"callback\":null,\"formatters\":{\"@__x__values_original\":\"datetime\"},\"mode\":\"vline\",\"renderers\":[{\"id\":\"1682\"}],\"tooltips\":[[\"timestamp\",\"@__x__values_original{%F}\"],[\"5mins_off_average\",\"@{5mins_off_average}\"]]},\"id\":\"1709\",\"type\":\"HoverTool\"},{\"attributes\":{},\"id\":\"1627\",\"type\":\"BasicTicker\"},{\"attributes\":{},\"id\":\"1633\",\"type\":\"SaveTool\"},{\"attributes\":{\"num_minor_ticks\":5,\"tickers\":[{\"id\":\"1661\"},{\"id\":\"1662\"},{\"id\":\"1663\"},{\"id\":\"1664\"},{\"id\":\"1665\"},{\"id\":\"1666\"},{\"id\":\"1667\"},{\"id\":\"1668\"},{\"id\":\"1669\"},{\"id\":\"1670\"},{\"id\":\"1671\"},{\"id\":\"1672\"}]},\"id\":\"1623\",\"type\":\"DatetimeTicker\"},{\"attributes\":{\"base\":60,\"mantissas\":[1,2,5,10,15,20,30],\"max_interval\":1800000.0,\"min_interval\":1000.0,\"num_minor_ticks\":0},\"id\":\"1662\",\"type\":\"AdaptiveTicker\"},{\"attributes\":{\"overlay\":{\"id\":\"1636\"}},\"id\":\"1632\",\"type\":\"BoxZoomTool\"},{\"attributes\":{\"months\":[0,6]},\"id\":\"1671\",\"type\":\"MonthsTicker\"},{\"attributes\":{\"months\":[0,1,2,3,4,5,6,7,8,9,10,11]},\"id\":\"1668\",\"type\":\"MonthsTicker\"},{\"attributes\":{\"months\":[0,2,4,6,8,10]},\"id\":\"1669\",\"type\":\"MonthsTicker\"},{\"attributes\":{\"days\":[1,8,15,22]},\"id\":\"1666\",\"type\":\"DaysTicker\"},{\"attributes\":{},\"id\":\"1630\",\"type\":\"PanTool\"},{\"attributes\":{},\"id\":\"1693\",\"type\":\"UnionRenderers\"},{\"attributes\":{\"bottom_units\":\"screen\",\"coordinates\":null,\"fill_alpha\":0.5,\"fill_color\":\"lightgrey\",\"group\":null,\"left_units\":\"screen\",\"level\":\"overlay\",\"line_alpha\":1.0,\"line_color\":\"black\",\"line_dash\":[4,4],\"line_width\":2,\"right_units\":\"screen\",\"syncable\":false,\"top_units\":\"screen\"},\"id\":\"1636\",\"type\":\"BoxAnnotation\"},{\"attributes\":{\"base\":24,\"mantissas\":[1,2,4,6,8,12],\"max_interval\":43200000.0,\"min_interval\":3600000.0,\"num_minor_ticks\":0},\"id\":\"1663\",\"type\":\"AdaptiveTicker\"},{\"attributes\":{},\"id\":\"1672\",\"type\":\"YearsTicker\"},{\"attributes\":{\"days\":[1,2,3,4,5,6,7,8,9,10,11,12,13,14,15,16,17,18,19,20,21,22,23,24,25,26,27,28,29,30,31]},\"id\":\"1664\",\"type\":\"DaysTicker\"},{\"attributes\":{},\"id\":\"1614\",\"type\":\"DataRange1d\"},{\"attributes\":{},\"id\":\"1658\",\"type\":\"UnionRenderers\"},{\"attributes\":{\"coordinates\":null,\"formatter\":{\"id\":\"1653\"},\"group\":null,\"major_label_policy\":{\"id\":\"1654\"},\"ticker\":{\"id\":\"1627\"}},\"id\":\"1626\",\"type\":\"LinearAxis\"},{\"attributes\":{},\"id\":\"1659\",\"type\":\"Selection\"},{\"attributes\":{},\"id\":\"1694\",\"type\":\"Selection\"},{\"attributes\":{},\"id\":\"1616\",\"type\":\"DataRange1d\"},{\"attributes\":{},\"id\":\"1620\",\"type\":\"LinearScale\"},{\"attributes\":{},\"id\":\"1657\",\"type\":\"AllLabels\"},{\"attributes\":{},\"id\":\"1631\",\"type\":\"WheelZoomTool\"},{\"attributes\":{\"axis\":{\"id\":\"1626\"},\"coordinates\":null,\"dimension\":1,\"group\":null,\"ticker\":null},\"id\":\"1629\",\"type\":\"Grid\"},{\"attributes\":{\"axis\":{\"id\":\"1622\"},\"coordinates\":null,\"group\":null,\"ticker\":null},\"id\":\"1625\",\"type\":\"Grid\"},{\"attributes\":{\"months\":[0,4,8]},\"id\":\"1670\",\"type\":\"MonthsTicker\"}],\"root_ids\":[\"1611\"]},\"title\":\"Bokeh Application\",\"version\":\"2.4.3\"}};\n  const render_items = [{\"docid\":\"dbdae064-851e-47de-868b-8f10099639b6\",\"root_ids\":[\"1611\"],\"roots\":{\"1611\":\"6f187ccb-7131-4ca3-8b40-3f442de5d59a\"}}];\n  root.Bokeh.embed.embed_items_notebook(docs_json, render_items);\n  }\n  if (root.Bokeh !== undefined) {\n    embed_document(root);\n  } else {\n    let attempts = 0;\n    const timer = setInterval(function(root) {\n      if (root.Bokeh !== undefined) {\n        clearInterval(timer);\n        embed_document(root);\n      } else {\n        attempts++;\n        if (attempts > 100) {\n          clearInterval(timer);\n          console.log(\"Bokeh: ERROR: Unable to run BokehJS code because BokehJS library is missing\");\n        }\n      }\n    }, 10, root)\n  }\n})(window);",
      "application/vnd.bokehjs_exec.v0+json": ""
     },
     "metadata": {
      "application/vnd.bokehjs_exec.v0+json": {
       "id": "1611"
      }
     },
     "output_type": "display_data"
    },
    {
     "data": {
      "text/html": [
       "<div style=\"display: table;\"><div style=\"display: table-row;\"><div style=\"display: table-cell;\"><b title=\"bokeh.plotting.figure.Figure\">Figure</b>(</div><div style=\"display: table-cell;\">id&nbsp;=&nbsp;'1611', <span id=\"1900\" style=\"cursor: pointer;\">&hellip;)</span></div></div><div class=\"1899\" style=\"display: none;\"><div style=\"display: table-cell;\"></div><div style=\"display: table-cell;\">above&nbsp;=&nbsp;[],</div></div><div class=\"1899\" style=\"display: none;\"><div style=\"display: table-cell;\"></div><div style=\"display: table-cell;\">align&nbsp;=&nbsp;'start',</div></div><div class=\"1899\" style=\"display: none;\"><div style=\"display: table-cell;\"></div><div style=\"display: table-cell;\">aspect_ratio&nbsp;=&nbsp;None,</div></div><div class=\"1899\" style=\"display: none;\"><div style=\"display: table-cell;\"></div><div style=\"display: table-cell;\">aspect_scale&nbsp;=&nbsp;1,</div></div><div class=\"1899\" style=\"display: none;\"><div style=\"display: table-cell;\"></div><div style=\"display: table-cell;\">background&nbsp;=&nbsp;None,</div></div><div class=\"1899\" style=\"display: none;\"><div style=\"display: table-cell;\"></div><div style=\"display: table-cell;\">background_fill_alpha&nbsp;=&nbsp;1.0,</div></div><div class=\"1899\" style=\"display: none;\"><div style=\"display: table-cell;\"></div><div style=\"display: table-cell;\">background_fill_color&nbsp;=&nbsp;'#ffffff',</div></div><div class=\"1899\" style=\"display: none;\"><div style=\"display: table-cell;\"></div><div style=\"display: table-cell;\">below&nbsp;=&nbsp;[DatetimeAxis(id='1622', ...)],</div></div><div class=\"1899\" style=\"display: none;\"><div style=\"display: table-cell;\"></div><div style=\"display: table-cell;\">border_fill_alpha&nbsp;=&nbsp;1.0,</div></div><div class=\"1899\" style=\"display: none;\"><div style=\"display: table-cell;\"></div><div style=\"display: table-cell;\">border_fill_color&nbsp;=&nbsp;'#ffffff',</div></div><div class=\"1899\" style=\"display: none;\"><div style=\"display: table-cell;\"></div><div style=\"display: table-cell;\">center&nbsp;=&nbsp;[Grid(id='1625', ...), Grid(id='1629', ...), Legend(id='1673', ...)],</div></div><div class=\"1899\" style=\"display: none;\"><div style=\"display: table-cell;\"></div><div style=\"display: table-cell;\">css_classes&nbsp;=&nbsp;[],</div></div><div class=\"1899\" style=\"display: none;\"><div style=\"display: table-cell;\"></div><div style=\"display: table-cell;\">disabled&nbsp;=&nbsp;False,</div></div><div class=\"1899\" style=\"display: none;\"><div style=\"display: table-cell;\"></div><div style=\"display: table-cell;\">extra_x_ranges&nbsp;=&nbsp;{},</div></div><div class=\"1899\" style=\"display: none;\"><div style=\"display: table-cell;\"></div><div style=\"display: table-cell;\">extra_x_scales&nbsp;=&nbsp;{},</div></div><div class=\"1899\" style=\"display: none;\"><div style=\"display: table-cell;\"></div><div style=\"display: table-cell;\">extra_y_ranges&nbsp;=&nbsp;{},</div></div><div class=\"1899\" style=\"display: none;\"><div style=\"display: table-cell;\"></div><div style=\"display: table-cell;\">extra_y_scales&nbsp;=&nbsp;{},</div></div><div class=\"1899\" style=\"display: none;\"><div style=\"display: table-cell;\"></div><div style=\"display: table-cell;\">frame_height&nbsp;=&nbsp;None,</div></div><div class=\"1899\" style=\"display: none;\"><div style=\"display: table-cell;\"></div><div style=\"display: table-cell;\">frame_width&nbsp;=&nbsp;None,</div></div><div class=\"1899\" style=\"display: none;\"><div style=\"display: table-cell;\"></div><div style=\"display: table-cell;\">height&nbsp;=&nbsp;400,</div></div><div class=\"1899\" style=\"display: none;\"><div style=\"display: table-cell;\"></div><div style=\"display: table-cell;\">height_policy&nbsp;=&nbsp;'auto',</div></div><div class=\"1899\" style=\"display: none;\"><div style=\"display: table-cell;\"></div><div style=\"display: table-cell;\">hidpi&nbsp;=&nbsp;True,</div></div><div class=\"1899\" style=\"display: none;\"><div style=\"display: table-cell;\"></div><div style=\"display: table-cell;\">inner_height&nbsp;=&nbsp;0,</div></div><div class=\"1899\" style=\"display: none;\"><div style=\"display: table-cell;\"></div><div style=\"display: table-cell;\">inner_width&nbsp;=&nbsp;0,</div></div><div class=\"1899\" style=\"display: none;\"><div style=\"display: table-cell;\"></div><div style=\"display: table-cell;\">js_event_callbacks&nbsp;=&nbsp;{},</div></div><div class=\"1899\" style=\"display: none;\"><div style=\"display: table-cell;\"></div><div style=\"display: table-cell;\">js_property_callbacks&nbsp;=&nbsp;{},</div></div><div class=\"1899\" style=\"display: none;\"><div style=\"display: table-cell;\"></div><div style=\"display: table-cell;\">left&nbsp;=&nbsp;[LinearAxis(id='1626', ...)],</div></div><div class=\"1899\" style=\"display: none;\"><div style=\"display: table-cell;\"></div><div style=\"display: table-cell;\">lod_factor&nbsp;=&nbsp;10,</div></div><div class=\"1899\" style=\"display: none;\"><div style=\"display: table-cell;\"></div><div style=\"display: table-cell;\">lod_interval&nbsp;=&nbsp;300,</div></div><div class=\"1899\" style=\"display: none;\"><div style=\"display: table-cell;\"></div><div style=\"display: table-cell;\">lod_threshold&nbsp;=&nbsp;2000,</div></div><div class=\"1899\" style=\"display: none;\"><div style=\"display: table-cell;\"></div><div style=\"display: table-cell;\">lod_timeout&nbsp;=&nbsp;500,</div></div><div class=\"1899\" style=\"display: none;\"><div style=\"display: table-cell;\"></div><div style=\"display: table-cell;\">margin&nbsp;=&nbsp;(0, 0, 0, 0),</div></div><div class=\"1899\" style=\"display: none;\"><div style=\"display: table-cell;\"></div><div style=\"display: table-cell;\">match_aspect&nbsp;=&nbsp;False,</div></div><div class=\"1899\" style=\"display: none;\"><div style=\"display: table-cell;\"></div><div style=\"display: table-cell;\">max_height&nbsp;=&nbsp;None,</div></div><div class=\"1899\" style=\"display: none;\"><div style=\"display: table-cell;\"></div><div style=\"display: table-cell;\">max_width&nbsp;=&nbsp;None,</div></div><div class=\"1899\" style=\"display: none;\"><div style=\"display: table-cell;\"></div><div style=\"display: table-cell;\">min_border&nbsp;=&nbsp;5,</div></div><div class=\"1899\" style=\"display: none;\"><div style=\"display: table-cell;\"></div><div style=\"display: table-cell;\">min_border_bottom&nbsp;=&nbsp;None,</div></div><div class=\"1899\" style=\"display: none;\"><div style=\"display: table-cell;\"></div><div style=\"display: table-cell;\">min_border_left&nbsp;=&nbsp;None,</div></div><div class=\"1899\" style=\"display: none;\"><div style=\"display: table-cell;\"></div><div style=\"display: table-cell;\">min_border_right&nbsp;=&nbsp;None,</div></div><div class=\"1899\" style=\"display: none;\"><div style=\"display: table-cell;\"></div><div style=\"display: table-cell;\">min_border_top&nbsp;=&nbsp;None,</div></div><div class=\"1899\" style=\"display: none;\"><div style=\"display: table-cell;\"></div><div style=\"display: table-cell;\">min_height&nbsp;=&nbsp;None,</div></div><div class=\"1899\" style=\"display: none;\"><div style=\"display: table-cell;\"></div><div style=\"display: table-cell;\">min_width&nbsp;=&nbsp;None,</div></div><div class=\"1899\" style=\"display: none;\"><div style=\"display: table-cell;\"></div><div style=\"display: table-cell;\">name&nbsp;=&nbsp;None,</div></div><div class=\"1899\" style=\"display: none;\"><div style=\"display: table-cell;\"></div><div style=\"display: table-cell;\">outer_height&nbsp;=&nbsp;0,</div></div><div class=\"1899\" style=\"display: none;\"><div style=\"display: table-cell;\"></div><div style=\"display: table-cell;\">outer_width&nbsp;=&nbsp;0,</div></div><div class=\"1899\" style=\"display: none;\"><div style=\"display: table-cell;\"></div><div style=\"display: table-cell;\">outline_line_alpha&nbsp;=&nbsp;1.0,</div></div><div class=\"1899\" style=\"display: none;\"><div style=\"display: table-cell;\"></div><div style=\"display: table-cell;\">outline_line_cap&nbsp;=&nbsp;'butt',</div></div><div class=\"1899\" style=\"display: none;\"><div style=\"display: table-cell;\"></div><div style=\"display: table-cell;\">outline_line_color&nbsp;=&nbsp;'#e5e5e5',</div></div><div class=\"1899\" style=\"display: none;\"><div style=\"display: table-cell;\"></div><div style=\"display: table-cell;\">outline_line_dash&nbsp;=&nbsp;[],</div></div><div class=\"1899\" style=\"display: none;\"><div style=\"display: table-cell;\"></div><div style=\"display: table-cell;\">outline_line_dash_offset&nbsp;=&nbsp;0,</div></div><div class=\"1899\" style=\"display: none;\"><div style=\"display: table-cell;\"></div><div style=\"display: table-cell;\">outline_line_join&nbsp;=&nbsp;'bevel',</div></div><div class=\"1899\" style=\"display: none;\"><div style=\"display: table-cell;\"></div><div style=\"display: table-cell;\">outline_line_width&nbsp;=&nbsp;1,</div></div><div class=\"1899\" style=\"display: none;\"><div style=\"display: table-cell;\"></div><div style=\"display: table-cell;\">output_backend&nbsp;=&nbsp;'webgl',</div></div><div class=\"1899\" style=\"display: none;\"><div style=\"display: table-cell;\"></div><div style=\"display: table-cell;\">renderers&nbsp;=&nbsp;[GlyphRenderer(id='1649', ...), GlyphRenderer(id='1682', ...), GlyphRenderer(id='1716', ...)],</div></div><div class=\"1899\" style=\"display: none;\"><div style=\"display: table-cell;\"></div><div style=\"display: table-cell;\">reset_policy&nbsp;=&nbsp;'standard',</div></div><div class=\"1899\" style=\"display: none;\"><div style=\"display: table-cell;\"></div><div style=\"display: table-cell;\">right&nbsp;=&nbsp;[],</div></div><div class=\"1899\" style=\"display: none;\"><div style=\"display: table-cell;\"></div><div style=\"display: table-cell;\">sizing_mode&nbsp;=&nbsp;'fixed',</div></div><div class=\"1899\" style=\"display: none;\"><div style=\"display: table-cell;\"></div><div style=\"display: table-cell;\">subscribed_events&nbsp;=&nbsp;[],</div></div><div class=\"1899\" style=\"display: none;\"><div style=\"display: table-cell;\"></div><div style=\"display: table-cell;\">syncable&nbsp;=&nbsp;True,</div></div><div class=\"1899\" style=\"display: none;\"><div style=\"display: table-cell;\"></div><div style=\"display: table-cell;\">tags&nbsp;=&nbsp;[],</div></div><div class=\"1899\" style=\"display: none;\"><div style=\"display: table-cell;\"></div><div style=\"display: table-cell;\">title&nbsp;=&nbsp;Title(id='1612', ...),</div></div><div class=\"1899\" style=\"display: none;\"><div style=\"display: table-cell;\"></div><div style=\"display: table-cell;\">title_location&nbsp;=&nbsp;'above',</div></div><div class=\"1899\" style=\"display: none;\"><div style=\"display: table-cell;\"></div><div style=\"display: table-cell;\">toolbar&nbsp;=&nbsp;Toolbar(id='1637', ...),</div></div><div class=\"1899\" style=\"display: none;\"><div style=\"display: table-cell;\"></div><div style=\"display: table-cell;\">toolbar_location&nbsp;=&nbsp;'right',</div></div><div class=\"1899\" style=\"display: none;\"><div style=\"display: table-cell;\"></div><div style=\"display: table-cell;\">toolbar_sticky&nbsp;=&nbsp;True,</div></div><div class=\"1899\" style=\"display: none;\"><div style=\"display: table-cell;\"></div><div style=\"display: table-cell;\">visible&nbsp;=&nbsp;True,</div></div><div class=\"1899\" style=\"display: none;\"><div style=\"display: table-cell;\"></div><div style=\"display: table-cell;\">width&nbsp;=&nbsp;600,</div></div><div class=\"1899\" style=\"display: none;\"><div style=\"display: table-cell;\"></div><div style=\"display: table-cell;\">width_policy&nbsp;=&nbsp;'auto',</div></div><div class=\"1899\" style=\"display: none;\"><div style=\"display: table-cell;\"></div><div style=\"display: table-cell;\">x_range&nbsp;=&nbsp;DataRange1d(id='1614', ...),</div></div><div class=\"1899\" style=\"display: none;\"><div style=\"display: table-cell;\"></div><div style=\"display: table-cell;\">x_scale&nbsp;=&nbsp;LinearScale(id='1618', ...),</div></div><div class=\"1899\" style=\"display: none;\"><div style=\"display: table-cell;\"></div><div style=\"display: table-cell;\">y_range&nbsp;=&nbsp;DataRange1d(id='1616', ...),</div></div><div class=\"1899\" style=\"display: none;\"><div style=\"display: table-cell;\"></div><div style=\"display: table-cell;\">y_scale&nbsp;=&nbsp;LinearScale(id='1620', ...))</div></div></div>\n",
       "<script>\n",
       "(function() {\n",
       "  let expanded = false;\n",
       "  const ellipsis = document.getElementById(\"1900\");\n",
       "  ellipsis.addEventListener(\"click\", function() {\n",
       "    const rows = document.getElementsByClassName(\"1899\");\n",
       "    for (let i = 0; i < rows.length; i++) {\n",
       "      const el = rows[i];\n",
       "      el.style.display = expanded ? \"none\" : \"table-row\";\n",
       "    }\n",
       "    ellipsis.innerHTML = expanded ? \"&hellip;)\" : \"&lsaquo;&lsaquo;&lsaquo;\";\n",
       "    expanded = !expanded;\n",
       "  });\n",
       "})();\n",
       "</script>\n"
      ],
      "text/plain": [
       "Figure(id='1611', ...)"
      ]
     },
     "execution_count": 27,
     "metadata": {},
     "output_type": "execute_result"
    }
   ],
   "source": [
    "hourly_relations = plot_relations(df_hourly)\n",
    "hourly_relations"
   ]
  },
  {
   "cell_type": "code",
   "execution_count": 28,
   "metadata": {},
   "outputs": [
    {
     "data": {
      "text/html": [
       "\n",
       "  <div class=\"bk-root\" id=\"6ab209f4-9f87-4eda-92d8-f46d94379fca\" data-root-id=\"1902\"></div>\n"
      ]
     },
     "metadata": {},
     "output_type": "display_data"
    },
    {
     "data": {
      "application/javascript": "(function(root) {\n  function embed_document(root) {\n  const docs_json = {\"bd127361-8266-459d-8841-8f4a3cf463a6\":{\"defs\":[],\"roots\":{\"references\":[{\"attributes\":{\"below\":[{\"id\":\"1913\"}],\"center\":[{\"id\":\"1916\"},{\"id\":\"1920\"},{\"id\":\"1964\"}],\"height\":400,\"left\":[{\"id\":\"1917\"}],\"output_backend\":\"webgl\",\"renderers\":[{\"id\":\"1940\"},{\"id\":\"1973\"},{\"id\":\"2007\"}],\"sizing_mode\":\"fixed\",\"title\":{\"id\":\"1903\"},\"toolbar\":{\"id\":\"1928\"},\"x_range\":{\"id\":\"1905\"},\"x_scale\":{\"id\":\"1909\"},\"y_range\":{\"id\":\"1907\"},\"y_scale\":{\"id\":\"1911\"}},\"id\":\"1902\",\"subtype\":\"Figure\",\"type\":\"Plot\"},{\"attributes\":{\"coordinates\":null,\"formatter\":{\"id\":\"1944\"},\"group\":null,\"major_label_policy\":{\"id\":\"1945\"},\"ticker\":{\"id\":\"1918\"}},\"id\":\"1917\",\"type\":\"LinearAxis\"},{\"attributes\":{\"source\":{\"id\":\"1935\"}},\"id\":\"1941\",\"type\":\"CDSView\"},{\"attributes\":{\"days\":[\"%d %B %Y\"],\"hours\":[\"%H:%M:%S\"],\"milliseconds\":[\"%H:%M:%S.%f\"],\"minutes\":[\"%H:%M:%S\"],\"months\":[\"%d %B %Y\"],\"seconds\":[\"%H:%M:%S\"],\"years\":[\"%d %B %Y\"]},\"id\":\"2038\",\"type\":\"DatetimeTickFormatter\"},{\"attributes\":{\"axis_label\":\"timestamp\",\"coordinates\":null,\"formatter\":{\"id\":\"2038\"},\"group\":null,\"major_label_policy\":{\"id\":\"1948\"},\"ticker\":{\"id\":\"1914\"}},\"id\":\"1913\",\"type\":\"DatetimeAxis\"},{\"attributes\":{\"data\":{\"15mins_off_average\":{\"__ndarray__\":\"+Gu3U07eVUB6OZ6X4+NOQP/s4SlWHkpA\",\"dtype\":\"float64\",\"order\":\"little\",\"shape\":[3]},\"5mins_off_average\":{\"__ndarray__\":\"3KARSMykVUDWFQgChxdPQHS9wJ6okklA\",\"dtype\":\"float64\",\"order\":\"little\",\"shape\":[3]},\"__x__values\":{\"__ndarray__\":\"AACAIB1meEIAAECGb2Z4QgAAAOzBZnhC\",\"dtype\":\"float64\",\"order\":\"little\",\"shape\":[3]},\"__x__values_original\":{\"__ndarray__\":\"AACAIB1meEIAAECGb2Z4QgAAAOzBZnhC\",\"dtype\":\"float64\",\"order\":\"little\",\"shape\":[3]},\"row_data_average\":{\"__ndarray__\":\"BQBD05PiVUB21JMijkRPQF96y3bF6UlA\",\"dtype\":\"float64\",\"order\":\"little\",\"shape\":[3]}},\"selected\":{\"id\":\"1950\"},\"selection_policy\":{\"id\":\"1949\"}},\"id\":\"1935\",\"type\":\"ColumnDataSource\"},{\"attributes\":{},\"id\":\"1911\",\"type\":\"LinearScale\"},{\"attributes\":{},\"id\":\"1944\",\"type\":\"BasicTickFormatter\"},{\"attributes\":{},\"id\":\"1949\",\"type\":\"UnionRenderers\"},{\"attributes\":{},\"id\":\"1945\",\"type\":\"AllLabels\"},{\"attributes\":{\"axis\":{\"id\":\"1913\"},\"coordinates\":null,\"group\":null,\"ticker\":null},\"id\":\"1916\",\"type\":\"Grid\"},{\"attributes\":{},\"id\":\"1922\",\"type\":\"WheelZoomTool\"},{\"attributes\":{\"num_minor_ticks\":5,\"tickers\":[{\"id\":\"1952\"},{\"id\":\"1953\"},{\"id\":\"1954\"},{\"id\":\"1955\"},{\"id\":\"1956\"},{\"id\":\"1957\"},{\"id\":\"1958\"},{\"id\":\"1959\"},{\"id\":\"1960\"},{\"id\":\"1961\"},{\"id\":\"1962\"},{\"id\":\"1963\"}]},\"id\":\"1914\",\"type\":\"DatetimeTicker\"},{\"attributes\":{\"label\":{\"value\":\" row_data_average\"},\"renderers\":[{\"id\":\"1940\"}]},\"id\":\"1965\",\"type\":\"LegendItem\"},{\"attributes\":{},\"id\":\"1905\",\"type\":\"DataRange1d\"},{\"attributes\":{\"line_alpha\":0.1,\"line_color\":\"#1f77b4\",\"line_width\":2,\"x\":{\"field\":\"__x__values\"},\"y\":{\"field\":\"row_data_average\"}},\"id\":\"1938\",\"type\":\"Line\"},{\"attributes\":{\"callback\":null,\"formatters\":{\"@__x__values_original\":\"datetime\"},\"mode\":\"vline\",\"renderers\":[{\"id\":\"1940\"}],\"tooltips\":[[\"timestamp\",\"@__x__values_original{%F}\"],[\"row_data_average\",\"@{row_data_average}\"]]},\"id\":\"1966\",\"type\":\"HoverTool\"},{\"attributes\":{\"line_color\":\"#1f77b4\",\"line_width\":2,\"x\":{\"field\":\"__x__values\"},\"y\":{\"field\":\"row_data_average\"}},\"id\":\"1937\",\"type\":\"Line\"},{\"attributes\":{},\"id\":\"1925\",\"type\":\"ResetTool\"},{\"attributes\":{\"line_alpha\":0.2,\"line_color\":\"#1f77b4\",\"line_width\":2,\"x\":{\"field\":\"__x__values\"},\"y\":{\"field\":\"row_data_average\"}},\"id\":\"1939\",\"type\":\"Line\"},{\"attributes\":{\"coordinates\":null,\"group\":null},\"id\":\"1903\",\"type\":\"Title\"},{\"attributes\":{\"data\":{\"15mins_off_average\":{\"__ndarray__\":\"+Gu3U07eVUB6OZ6X4+NOQP/s4SlWHkpA\",\"dtype\":\"float64\",\"order\":\"little\",\"shape\":[3]},\"5mins_off_average\":{\"__ndarray__\":\"3KARSMykVUDWFQgChxdPQHS9wJ6okklA\",\"dtype\":\"float64\",\"order\":\"little\",\"shape\":[3]},\"__x__values\":{\"__ndarray__\":\"AACAIB1meEIAAECGb2Z4QgAAAOzBZnhC\",\"dtype\":\"float64\",\"order\":\"little\",\"shape\":[3]},\"__x__values_original\":{\"__ndarray__\":\"AACAIB1meEIAAECGb2Z4QgAAAOzBZnhC\",\"dtype\":\"float64\",\"order\":\"little\",\"shape\":[3]},\"row_data_average\":{\"__ndarray__\":\"BQBD05PiVUB21JMijkRPQF96y3bF6UlA\",\"dtype\":\"float64\",\"order\":\"little\",\"shape\":[3]}},\"selected\":{\"id\":\"1985\"},\"selection_policy\":{\"id\":\"1984\"}},\"id\":\"1968\",\"type\":\"ColumnDataSource\"},{\"attributes\":{\"line_color\":\"#2ca02c\",\"line_width\":2,\"x\":{\"field\":\"__x__values\"},\"y\":{\"field\":\"15mins_off_average\"}},\"id\":\"2004\",\"type\":\"Line\"},{\"attributes\":{\"line_alpha\":0.1,\"line_color\":\"#ff7f0e\",\"line_width\":2,\"x\":{\"field\":\"__x__values\"},\"y\":{\"field\":\"5mins_off_average\"}},\"id\":\"1971\",\"type\":\"Line\"},{\"attributes\":{},\"id\":\"1907\",\"type\":\"DataRange1d\"},{\"attributes\":{\"coordinates\":null,\"data_source\":{\"id\":\"1935\"},\"glyph\":{\"id\":\"1937\"},\"group\":null,\"hover_glyph\":null,\"muted_glyph\":{\"id\":\"1939\"},\"nonselection_glyph\":{\"id\":\"1938\"},\"view\":{\"id\":\"1941\"}},\"id\":\"1940\",\"type\":\"GlyphRenderer\"},{\"attributes\":{\"line_color\":\"#ff7f0e\",\"line_width\":2,\"x\":{\"field\":\"__x__values\"},\"y\":{\"field\":\"5mins_off_average\"}},\"id\":\"1970\",\"type\":\"Line\"},{\"attributes\":{},\"id\":\"1909\",\"type\":\"LinearScale\"},{\"attributes\":{},\"id\":\"1924\",\"type\":\"SaveTool\"},{\"attributes\":{\"click_policy\":\"hide\",\"coordinates\":null,\"group\":null,\"items\":[{\"id\":\"1965\"},{\"id\":\"1999\"},{\"id\":\"2035\"}]},\"id\":\"1964\",\"type\":\"Legend\"},{\"attributes\":{\"line_alpha\":0.2,\"line_color\":\"#ff7f0e\",\"line_width\":2,\"x\":{\"field\":\"__x__values\"},\"y\":{\"field\":\"5mins_off_average\"}},\"id\":\"1972\",\"type\":\"Line\"},{\"attributes\":{\"mantissas\":[1,2,5],\"max_interval\":500.0,\"num_minor_ticks\":0},\"id\":\"1952\",\"type\":\"AdaptiveTicker\"},{\"attributes\":{\"source\":{\"id\":\"1968\"}},\"id\":\"1974\",\"type\":\"CDSView\"},{\"attributes\":{\"line_alpha\":0.2,\"line_color\":\"#2ca02c\",\"line_width\":2,\"x\":{\"field\":\"__x__values\"},\"y\":{\"field\":\"15mins_off_average\"}},\"id\":\"2006\",\"type\":\"Line\"},{\"attributes\":{\"coordinates\":null,\"data_source\":{\"id\":\"1968\"},\"glyph\":{\"id\":\"1970\"},\"group\":null,\"hover_glyph\":null,\"muted_glyph\":{\"id\":\"1972\"},\"nonselection_glyph\":{\"id\":\"1971\"},\"view\":{\"id\":\"1974\"}},\"id\":\"1973\",\"type\":\"GlyphRenderer\"},{\"attributes\":{\"overlay\":{\"id\":\"1927\"}},\"id\":\"1923\",\"type\":\"BoxZoomTool\"},{\"attributes\":{\"callback\":null,\"formatters\":{\"@__x__values_original\":\"datetime\"},\"mode\":\"vline\",\"renderers\":[{\"id\":\"1973\"}],\"tooltips\":[[\"timestamp\",\"@__x__values_original{%F}\"],[\"5mins_off_average\",\"@{5mins_off_average}\"]]},\"id\":\"2000\",\"type\":\"HoverTool\"},{\"attributes\":{},\"id\":\"1948\",\"type\":\"AllLabels\"},{\"attributes\":{\"label\":{\"value\":\" 5mins_off_average\"},\"renderers\":[{\"id\":\"1973\"}]},\"id\":\"1999\",\"type\":\"LegendItem\"},{\"attributes\":{\"base\":60,\"mantissas\":[1,2,5,10,15,20,30],\"max_interval\":1800000.0,\"min_interval\":1000.0,\"num_minor_ticks\":0},\"id\":\"1953\",\"type\":\"AdaptiveTicker\"},{\"attributes\":{\"active_scroll\":{\"id\":\"1922\"},\"tools\":[{\"id\":\"1921\"},{\"id\":\"1922\"},{\"id\":\"1923\"},{\"id\":\"1924\"},{\"id\":\"1925\"},{\"id\":\"1926\"},{\"id\":\"1966\"},{\"id\":\"2000\"},{\"id\":\"2036\"}]},\"id\":\"1928\",\"type\":\"Toolbar\"},{\"attributes\":{\"data\":{\"15mins_off_average\":{\"__ndarray__\":\"+Gu3U07eVUB6OZ6X4+NOQP/s4SlWHkpA\",\"dtype\":\"float64\",\"order\":\"little\",\"shape\":[3]},\"5mins_off_average\":{\"__ndarray__\":\"3KARSMykVUDWFQgChxdPQHS9wJ6okklA\",\"dtype\":\"float64\",\"order\":\"little\",\"shape\":[3]},\"__x__values\":{\"__ndarray__\":\"AACAIB1meEIAAECGb2Z4QgAAAOzBZnhC\",\"dtype\":\"float64\",\"order\":\"little\",\"shape\":[3]},\"__x__values_original\":{\"__ndarray__\":\"AACAIB1meEIAAECGb2Z4QgAAAOzBZnhC\",\"dtype\":\"float64\",\"order\":\"little\",\"shape\":[3]},\"row_data_average\":{\"__ndarray__\":\"BQBD05PiVUB21JMijkRPQF96y3bF6UlA\",\"dtype\":\"float64\",\"order\":\"little\",\"shape\":[3]}},\"selected\":{\"id\":\"2021\"},\"selection_policy\":{\"id\":\"2020\"}},\"id\":\"2002\",\"type\":\"ColumnDataSource\"},{\"attributes\":{\"line_alpha\":0.1,\"line_color\":\"#2ca02c\",\"line_width\":2,\"x\":{\"field\":\"__x__values\"},\"y\":{\"field\":\"15mins_off_average\"}},\"id\":\"2005\",\"type\":\"Line\"},{\"attributes\":{},\"id\":\"1926\",\"type\":\"HelpTool\"},{\"attributes\":{\"months\":[0,1,2,3,4,5,6,7,8,9,10,11]},\"id\":\"1959\",\"type\":\"MonthsTicker\"},{\"attributes\":{\"bottom_units\":\"screen\",\"coordinates\":null,\"fill_alpha\":0.5,\"fill_color\":\"lightgrey\",\"group\":null,\"left_units\":\"screen\",\"level\":\"overlay\",\"line_alpha\":1.0,\"line_color\":\"black\",\"line_dash\":[4,4],\"line_width\":2,\"right_units\":\"screen\",\"syncable\":false,\"top_units\":\"screen\"},\"id\":\"1927\",\"type\":\"BoxAnnotation\"},{\"attributes\":{\"days\":[1,8,15,22]},\"id\":\"1957\",\"type\":\"DaysTicker\"},{\"attributes\":{},\"id\":\"1963\",\"type\":\"YearsTicker\"},{\"attributes\":{},\"id\":\"1984\",\"type\":\"UnionRenderers\"},{\"attributes\":{\"source\":{\"id\":\"2002\"}},\"id\":\"2008\",\"type\":\"CDSView\"},{\"attributes\":{\"callback\":null,\"formatters\":{\"@__x__values_original\":\"datetime\"},\"mode\":\"vline\",\"renderers\":[{\"id\":\"2007\"}],\"tooltips\":[[\"timestamp\",\"@__x__values_original{%F}\"],[\"15mins_off_average\",\"@{15mins_off_average}\"]]},\"id\":\"2036\",\"type\":\"HoverTool\"},{\"attributes\":{\"base\":24,\"mantissas\":[1,2,4,6,8,12],\"max_interval\":43200000.0,\"min_interval\":3600000.0,\"num_minor_ticks\":0},\"id\":\"1954\",\"type\":\"AdaptiveTicker\"},{\"attributes\":{\"coordinates\":null,\"data_source\":{\"id\":\"2002\"},\"glyph\":{\"id\":\"2004\"},\"group\":null,\"hover_glyph\":null,\"muted_glyph\":{\"id\":\"2006\"},\"nonselection_glyph\":{\"id\":\"2005\"},\"view\":{\"id\":\"2008\"}},\"id\":\"2007\",\"type\":\"GlyphRenderer\"},{\"attributes\":{},\"id\":\"1921\",\"type\":\"PanTool\"},{\"attributes\":{\"days\":[1,2,3,4,5,6,7,8,9,10,11,12,13,14,15,16,17,18,19,20,21,22,23,24,25,26,27,28,29,30,31]},\"id\":\"1955\",\"type\":\"DaysTicker\"},{\"attributes\":{\"label\":{\"value\":\" 15mins_off_average\"},\"renderers\":[{\"id\":\"2007\"}]},\"id\":\"2035\",\"type\":\"LegendItem\"},{\"attributes\":{\"days\":[1,4,7,10,13,16,19,22,25,28]},\"id\":\"1956\",\"type\":\"DaysTicker\"},{\"attributes\":{},\"id\":\"1985\",\"type\":\"Selection\"},{\"attributes\":{\"days\":[1,15]},\"id\":\"1958\",\"type\":\"DaysTicker\"},{\"attributes\":{\"months\":[0,4,8]},\"id\":\"1961\",\"type\":\"MonthsTicker\"},{\"attributes\":{\"months\":[0,6]},\"id\":\"1962\",\"type\":\"MonthsTicker\"},{\"attributes\":{},\"id\":\"1950\",\"type\":\"Selection\"},{\"attributes\":{},\"id\":\"2020\",\"type\":\"UnionRenderers\"},{\"attributes\":{\"months\":[0,2,4,6,8,10]},\"id\":\"1960\",\"type\":\"MonthsTicker\"},{\"attributes\":{},\"id\":\"2021\",\"type\":\"Selection\"},{\"attributes\":{\"axis\":{\"id\":\"1917\"},\"coordinates\":null,\"dimension\":1,\"group\":null,\"ticker\":null},\"id\":\"1920\",\"type\":\"Grid\"},{\"attributes\":{},\"id\":\"1918\",\"type\":\"BasicTicker\"}],\"root_ids\":[\"1902\"]},\"title\":\"Bokeh Application\",\"version\":\"2.4.3\"}};\n  const render_items = [{\"docid\":\"bd127361-8266-459d-8841-8f4a3cf463a6\",\"root_ids\":[\"1902\"],\"roots\":{\"1902\":\"6ab209f4-9f87-4eda-92d8-f46d94379fca\"}}];\n  root.Bokeh.embed.embed_items_notebook(docs_json, render_items);\n  }\n  if (root.Bokeh !== undefined) {\n    embed_document(root);\n  } else {\n    let attempts = 0;\n    const timer = setInterval(function(root) {\n      if (root.Bokeh !== undefined) {\n        clearInterval(timer);\n        embed_document(root);\n      } else {\n        attempts++;\n        if (attempts > 100) {\n          clearInterval(timer);\n          console.log(\"Bokeh: ERROR: Unable to run BokehJS code because BokehJS library is missing\");\n        }\n      }\n    }, 10, root)\n  }\n})(window);",
      "application/vnd.bokehjs_exec.v0+json": ""
     },
     "metadata": {
      "application/vnd.bokehjs_exec.v0+json": {
       "id": "1902"
      }
     },
     "output_type": "display_data"
    },
    {
     "data": {
      "text/html": [
       "<div style=\"display: table;\"><div style=\"display: table-row;\"><div style=\"display: table-cell;\"><b title=\"bokeh.plotting.figure.Figure\">Figure</b>(</div><div style=\"display: table-cell;\">id&nbsp;=&nbsp;'1902', <span id=\"2216\" style=\"cursor: pointer;\">&hellip;)</span></div></div><div class=\"2215\" style=\"display: none;\"><div style=\"display: table-cell;\"></div><div style=\"display: table-cell;\">above&nbsp;=&nbsp;[],</div></div><div class=\"2215\" style=\"display: none;\"><div style=\"display: table-cell;\"></div><div style=\"display: table-cell;\">align&nbsp;=&nbsp;'start',</div></div><div class=\"2215\" style=\"display: none;\"><div style=\"display: table-cell;\"></div><div style=\"display: table-cell;\">aspect_ratio&nbsp;=&nbsp;None,</div></div><div class=\"2215\" style=\"display: none;\"><div style=\"display: table-cell;\"></div><div style=\"display: table-cell;\">aspect_scale&nbsp;=&nbsp;1,</div></div><div class=\"2215\" style=\"display: none;\"><div style=\"display: table-cell;\"></div><div style=\"display: table-cell;\">background&nbsp;=&nbsp;None,</div></div><div class=\"2215\" style=\"display: none;\"><div style=\"display: table-cell;\"></div><div style=\"display: table-cell;\">background_fill_alpha&nbsp;=&nbsp;1.0,</div></div><div class=\"2215\" style=\"display: none;\"><div style=\"display: table-cell;\"></div><div style=\"display: table-cell;\">background_fill_color&nbsp;=&nbsp;'#ffffff',</div></div><div class=\"2215\" style=\"display: none;\"><div style=\"display: table-cell;\"></div><div style=\"display: table-cell;\">below&nbsp;=&nbsp;[DatetimeAxis(id='1913', ...)],</div></div><div class=\"2215\" style=\"display: none;\"><div style=\"display: table-cell;\"></div><div style=\"display: table-cell;\">border_fill_alpha&nbsp;=&nbsp;1.0,</div></div><div class=\"2215\" style=\"display: none;\"><div style=\"display: table-cell;\"></div><div style=\"display: table-cell;\">border_fill_color&nbsp;=&nbsp;'#ffffff',</div></div><div class=\"2215\" style=\"display: none;\"><div style=\"display: table-cell;\"></div><div style=\"display: table-cell;\">center&nbsp;=&nbsp;[Grid(id='1916', ...), Grid(id='1920', ...), Legend(id='1964', ...)],</div></div><div class=\"2215\" style=\"display: none;\"><div style=\"display: table-cell;\"></div><div style=\"display: table-cell;\">css_classes&nbsp;=&nbsp;[],</div></div><div class=\"2215\" style=\"display: none;\"><div style=\"display: table-cell;\"></div><div style=\"display: table-cell;\">disabled&nbsp;=&nbsp;False,</div></div><div class=\"2215\" style=\"display: none;\"><div style=\"display: table-cell;\"></div><div style=\"display: table-cell;\">extra_x_ranges&nbsp;=&nbsp;{},</div></div><div class=\"2215\" style=\"display: none;\"><div style=\"display: table-cell;\"></div><div style=\"display: table-cell;\">extra_x_scales&nbsp;=&nbsp;{},</div></div><div class=\"2215\" style=\"display: none;\"><div style=\"display: table-cell;\"></div><div style=\"display: table-cell;\">extra_y_ranges&nbsp;=&nbsp;{},</div></div><div class=\"2215\" style=\"display: none;\"><div style=\"display: table-cell;\"></div><div style=\"display: table-cell;\">extra_y_scales&nbsp;=&nbsp;{},</div></div><div class=\"2215\" style=\"display: none;\"><div style=\"display: table-cell;\"></div><div style=\"display: table-cell;\">frame_height&nbsp;=&nbsp;None,</div></div><div class=\"2215\" style=\"display: none;\"><div style=\"display: table-cell;\"></div><div style=\"display: table-cell;\">frame_width&nbsp;=&nbsp;None,</div></div><div class=\"2215\" style=\"display: none;\"><div style=\"display: table-cell;\"></div><div style=\"display: table-cell;\">height&nbsp;=&nbsp;400,</div></div><div class=\"2215\" style=\"display: none;\"><div style=\"display: table-cell;\"></div><div style=\"display: table-cell;\">height_policy&nbsp;=&nbsp;'auto',</div></div><div class=\"2215\" style=\"display: none;\"><div style=\"display: table-cell;\"></div><div style=\"display: table-cell;\">hidpi&nbsp;=&nbsp;True,</div></div><div class=\"2215\" style=\"display: none;\"><div style=\"display: table-cell;\"></div><div style=\"display: table-cell;\">inner_height&nbsp;=&nbsp;0,</div></div><div class=\"2215\" style=\"display: none;\"><div style=\"display: table-cell;\"></div><div style=\"display: table-cell;\">inner_width&nbsp;=&nbsp;0,</div></div><div class=\"2215\" style=\"display: none;\"><div style=\"display: table-cell;\"></div><div style=\"display: table-cell;\">js_event_callbacks&nbsp;=&nbsp;{},</div></div><div class=\"2215\" style=\"display: none;\"><div style=\"display: table-cell;\"></div><div style=\"display: table-cell;\">js_property_callbacks&nbsp;=&nbsp;{},</div></div><div class=\"2215\" style=\"display: none;\"><div style=\"display: table-cell;\"></div><div style=\"display: table-cell;\">left&nbsp;=&nbsp;[LinearAxis(id='1917', ...)],</div></div><div class=\"2215\" style=\"display: none;\"><div style=\"display: table-cell;\"></div><div style=\"display: table-cell;\">lod_factor&nbsp;=&nbsp;10,</div></div><div class=\"2215\" style=\"display: none;\"><div style=\"display: table-cell;\"></div><div style=\"display: table-cell;\">lod_interval&nbsp;=&nbsp;300,</div></div><div class=\"2215\" style=\"display: none;\"><div style=\"display: table-cell;\"></div><div style=\"display: table-cell;\">lod_threshold&nbsp;=&nbsp;2000,</div></div><div class=\"2215\" style=\"display: none;\"><div style=\"display: table-cell;\"></div><div style=\"display: table-cell;\">lod_timeout&nbsp;=&nbsp;500,</div></div><div class=\"2215\" style=\"display: none;\"><div style=\"display: table-cell;\"></div><div style=\"display: table-cell;\">margin&nbsp;=&nbsp;(0, 0, 0, 0),</div></div><div class=\"2215\" style=\"display: none;\"><div style=\"display: table-cell;\"></div><div style=\"display: table-cell;\">match_aspect&nbsp;=&nbsp;False,</div></div><div class=\"2215\" style=\"display: none;\"><div style=\"display: table-cell;\"></div><div style=\"display: table-cell;\">max_height&nbsp;=&nbsp;None,</div></div><div class=\"2215\" style=\"display: none;\"><div style=\"display: table-cell;\"></div><div style=\"display: table-cell;\">max_width&nbsp;=&nbsp;None,</div></div><div class=\"2215\" style=\"display: none;\"><div style=\"display: table-cell;\"></div><div style=\"display: table-cell;\">min_border&nbsp;=&nbsp;5,</div></div><div class=\"2215\" style=\"display: none;\"><div style=\"display: table-cell;\"></div><div style=\"display: table-cell;\">min_border_bottom&nbsp;=&nbsp;None,</div></div><div class=\"2215\" style=\"display: none;\"><div style=\"display: table-cell;\"></div><div style=\"display: table-cell;\">min_border_left&nbsp;=&nbsp;None,</div></div><div class=\"2215\" style=\"display: none;\"><div style=\"display: table-cell;\"></div><div style=\"display: table-cell;\">min_border_right&nbsp;=&nbsp;None,</div></div><div class=\"2215\" style=\"display: none;\"><div style=\"display: table-cell;\"></div><div style=\"display: table-cell;\">min_border_top&nbsp;=&nbsp;None,</div></div><div class=\"2215\" style=\"display: none;\"><div style=\"display: table-cell;\"></div><div style=\"display: table-cell;\">min_height&nbsp;=&nbsp;None,</div></div><div class=\"2215\" style=\"display: none;\"><div style=\"display: table-cell;\"></div><div style=\"display: table-cell;\">min_width&nbsp;=&nbsp;None,</div></div><div class=\"2215\" style=\"display: none;\"><div style=\"display: table-cell;\"></div><div style=\"display: table-cell;\">name&nbsp;=&nbsp;None,</div></div><div class=\"2215\" style=\"display: none;\"><div style=\"display: table-cell;\"></div><div style=\"display: table-cell;\">outer_height&nbsp;=&nbsp;0,</div></div><div class=\"2215\" style=\"display: none;\"><div style=\"display: table-cell;\"></div><div style=\"display: table-cell;\">outer_width&nbsp;=&nbsp;0,</div></div><div class=\"2215\" style=\"display: none;\"><div style=\"display: table-cell;\"></div><div style=\"display: table-cell;\">outline_line_alpha&nbsp;=&nbsp;1.0,</div></div><div class=\"2215\" style=\"display: none;\"><div style=\"display: table-cell;\"></div><div style=\"display: table-cell;\">outline_line_cap&nbsp;=&nbsp;'butt',</div></div><div class=\"2215\" style=\"display: none;\"><div style=\"display: table-cell;\"></div><div style=\"display: table-cell;\">outline_line_color&nbsp;=&nbsp;'#e5e5e5',</div></div><div class=\"2215\" style=\"display: none;\"><div style=\"display: table-cell;\"></div><div style=\"display: table-cell;\">outline_line_dash&nbsp;=&nbsp;[],</div></div><div class=\"2215\" style=\"display: none;\"><div style=\"display: table-cell;\"></div><div style=\"display: table-cell;\">outline_line_dash_offset&nbsp;=&nbsp;0,</div></div><div class=\"2215\" style=\"display: none;\"><div style=\"display: table-cell;\"></div><div style=\"display: table-cell;\">outline_line_join&nbsp;=&nbsp;'bevel',</div></div><div class=\"2215\" style=\"display: none;\"><div style=\"display: table-cell;\"></div><div style=\"display: table-cell;\">outline_line_width&nbsp;=&nbsp;1,</div></div><div class=\"2215\" style=\"display: none;\"><div style=\"display: table-cell;\"></div><div style=\"display: table-cell;\">output_backend&nbsp;=&nbsp;'webgl',</div></div><div class=\"2215\" style=\"display: none;\"><div style=\"display: table-cell;\"></div><div style=\"display: table-cell;\">renderers&nbsp;=&nbsp;[GlyphRenderer(id='1940', ...), GlyphRenderer(id='1973', ...), GlyphRenderer(id='2007', ...)],</div></div><div class=\"2215\" style=\"display: none;\"><div style=\"display: table-cell;\"></div><div style=\"display: table-cell;\">reset_policy&nbsp;=&nbsp;'standard',</div></div><div class=\"2215\" style=\"display: none;\"><div style=\"display: table-cell;\"></div><div style=\"display: table-cell;\">right&nbsp;=&nbsp;[],</div></div><div class=\"2215\" style=\"display: none;\"><div style=\"display: table-cell;\"></div><div style=\"display: table-cell;\">sizing_mode&nbsp;=&nbsp;'fixed',</div></div><div class=\"2215\" style=\"display: none;\"><div style=\"display: table-cell;\"></div><div style=\"display: table-cell;\">subscribed_events&nbsp;=&nbsp;[],</div></div><div class=\"2215\" style=\"display: none;\"><div style=\"display: table-cell;\"></div><div style=\"display: table-cell;\">syncable&nbsp;=&nbsp;True,</div></div><div class=\"2215\" style=\"display: none;\"><div style=\"display: table-cell;\"></div><div style=\"display: table-cell;\">tags&nbsp;=&nbsp;[],</div></div><div class=\"2215\" style=\"display: none;\"><div style=\"display: table-cell;\"></div><div style=\"display: table-cell;\">title&nbsp;=&nbsp;Title(id='1903', ...),</div></div><div class=\"2215\" style=\"display: none;\"><div style=\"display: table-cell;\"></div><div style=\"display: table-cell;\">title_location&nbsp;=&nbsp;'above',</div></div><div class=\"2215\" style=\"display: none;\"><div style=\"display: table-cell;\"></div><div style=\"display: table-cell;\">toolbar&nbsp;=&nbsp;Toolbar(id='1928', ...),</div></div><div class=\"2215\" style=\"display: none;\"><div style=\"display: table-cell;\"></div><div style=\"display: table-cell;\">toolbar_location&nbsp;=&nbsp;'right',</div></div><div class=\"2215\" style=\"display: none;\"><div style=\"display: table-cell;\"></div><div style=\"display: table-cell;\">toolbar_sticky&nbsp;=&nbsp;True,</div></div><div class=\"2215\" style=\"display: none;\"><div style=\"display: table-cell;\"></div><div style=\"display: table-cell;\">visible&nbsp;=&nbsp;True,</div></div><div class=\"2215\" style=\"display: none;\"><div style=\"display: table-cell;\"></div><div style=\"display: table-cell;\">width&nbsp;=&nbsp;600,</div></div><div class=\"2215\" style=\"display: none;\"><div style=\"display: table-cell;\"></div><div style=\"display: table-cell;\">width_policy&nbsp;=&nbsp;'auto',</div></div><div class=\"2215\" style=\"display: none;\"><div style=\"display: table-cell;\"></div><div style=\"display: table-cell;\">x_range&nbsp;=&nbsp;DataRange1d(id='1905', ...),</div></div><div class=\"2215\" style=\"display: none;\"><div style=\"display: table-cell;\"></div><div style=\"display: table-cell;\">x_scale&nbsp;=&nbsp;LinearScale(id='1909', ...),</div></div><div class=\"2215\" style=\"display: none;\"><div style=\"display: table-cell;\"></div><div style=\"display: table-cell;\">y_range&nbsp;=&nbsp;DataRange1d(id='1907', ...),</div></div><div class=\"2215\" style=\"display: none;\"><div style=\"display: table-cell;\"></div><div style=\"display: table-cell;\">y_scale&nbsp;=&nbsp;LinearScale(id='1911', ...))</div></div></div>\n",
       "<script>\n",
       "(function() {\n",
       "  let expanded = false;\n",
       "  const ellipsis = document.getElementById(\"2216\");\n",
       "  ellipsis.addEventListener(\"click\", function() {\n",
       "    const rows = document.getElementsByClassName(\"2215\");\n",
       "    for (let i = 0; i < rows.length; i++) {\n",
       "      const el = rows[i];\n",
       "      el.style.display = expanded ? \"none\" : \"table-row\";\n",
       "    }\n",
       "    ellipsis.innerHTML = expanded ? \"&hellip;)\" : \"&lsaquo;&lsaquo;&lsaquo;\";\n",
       "    expanded = !expanded;\n",
       "  });\n",
       "})();\n",
       "</script>\n"
      ],
      "text/plain": [
       "Figure(id='1902', ...)"
      ]
     },
     "execution_count": 28,
     "metadata": {},
     "output_type": "execute_result"
    }
   ],
   "source": [
    "df_daily = [AQ_G5133_daily,five_mins_data_daily,fifteen_mins_off_data_daily]\n",
    "daily_relations = plot_relations(df_daily)\n",
    "daily_relations"
   ]
  },
  {
   "cell_type": "code",
   "execution_count": 29,
   "metadata": {},
   "outputs": [
    {
     "data": {
      "text/html": [
       "<div>\n",
       "<style scoped>\n",
       "    .dataframe tbody tr th:only-of-type {\n",
       "        vertical-align: middle;\n",
       "    }\n",
       "\n",
       "    .dataframe tbody tr th {\n",
       "        vertical-align: top;\n",
       "    }\n",
       "\n",
       "    .dataframe thead th {\n",
       "        text-align: right;\n",
       "    }\n",
       "</style>\n",
       "<table border=\"1\" class=\"dataframe\">\n",
       "  <thead>\n",
       "    <tr style=\"text-align: right;\">\n",
       "      <th></th>\n",
       "      <th>average_PM2_5</th>\n",
       "    </tr>\n",
       "    <tr>\n",
       "      <th>timestamp</th>\n",
       "      <th></th>\n",
       "    </tr>\n",
       "  </thead>\n",
       "  <tbody>\n",
       "    <tr>\n",
       "      <th>2023-02-18 00:00:00+00:00</th>\n",
       "      <td>87.540273</td>\n",
       "    </tr>\n",
       "    <tr>\n",
       "      <th>2023-02-19 00:00:00+00:00</th>\n",
       "      <td>62.535588</td>\n",
       "    </tr>\n",
       "    <tr>\n",
       "      <th>2023-02-20 00:00:00+00:00</th>\n",
       "      <td>51.826339</td>\n",
       "    </tr>\n",
       "  </tbody>\n",
       "</table>\n",
       "</div>"
      ],
      "text/plain": [
       "                           average_PM2_5\n",
       "timestamp                               \n",
       "2023-02-18 00:00:00+00:00      87.540273\n",
       "2023-02-19 00:00:00+00:00      62.535588\n",
       "2023-02-20 00:00:00+00:00      51.826339"
      ]
     },
     "execution_count": 29,
     "metadata": {},
     "output_type": "execute_result"
    }
   ],
   "source": [
    "AQ_G5133_daily\n"
   ]
  }
 ],
 "metadata": {
  "kernelspec": {
   "display_name": "Python 3",
   "language": "python",
   "name": "python3"
  },
  "language_info": {
   "codemirror_mode": {
    "name": "ipython",
    "version": 3
   },
   "file_extension": ".py",
   "mimetype": "text/x-python",
   "name": "python",
   "nbconvert_exporter": "python",
   "pygments_lexer": "ipython3",
   "version": "3.10.10"
  },
  "orig_nbformat": 4,
  "vscode": {
   "interpreter": {
    "hash": "7b1f2b33e866b0bf2409397e5f58ba9cdf170d3b7f64c8f359c79998e2f88ad4"
   }
  }
 },
 "nbformat": 4,
 "nbformat_minor": 2
}
