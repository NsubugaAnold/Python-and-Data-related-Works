{
 "cells": [
  {
   "cell_type": "code",
   "execution_count": 1,
   "metadata": {},
   "outputs": [
    {
     "data": {
      "text/html": [
       "<div class=\"bk-root\">\n",
       "        <a href=\"https://bokeh.org\" target=\"_blank\" class=\"bk-logo bk-logo-small bk-logo-notebook\"></a>\n",
       "        <span id=\"1002\">Loading BokehJS ...</span>\n",
       "    </div>\n"
      ]
     },
     "metadata": {},
     "output_type": "display_data"
    },
    {
     "data": {
      "application/javascript": "(function(root) {\n  function now() {\n    return new Date();\n  }\n\n  const force = true;\n\n  if (typeof root._bokeh_onload_callbacks === \"undefined\" || force === true) {\n    root._bokeh_onload_callbacks = [];\n    root._bokeh_is_loading = undefined;\n  }\n\nconst JS_MIME_TYPE = 'application/javascript';\n  const HTML_MIME_TYPE = 'text/html';\n  const EXEC_MIME_TYPE = 'application/vnd.bokehjs_exec.v0+json';\n  const CLASS_NAME = 'output_bokeh rendered_html';\n\n  /**\n   * Render data to the DOM node\n   */\n  function render(props, node) {\n    const script = document.createElement(\"script\");\n    node.appendChild(script);\n  }\n\n  /**\n   * Handle when an output is cleared or removed\n   */\n  function handleClearOutput(event, handle) {\n    const cell = handle.cell;\n\n    const id = cell.output_area._bokeh_element_id;\n    const server_id = cell.output_area._bokeh_server_id;\n    // Clean up Bokeh references\n    if (id != null && id in Bokeh.index) {\n      Bokeh.index[id].model.document.clear();\n      delete Bokeh.index[id];\n    }\n\n    if (server_id !== undefined) {\n      // Clean up Bokeh references\n      const cmd_clean = \"from bokeh.io.state import curstate; print(curstate().uuid_to_server['\" + server_id + \"'].get_sessions()[0].document.roots[0]._id)\";\n      cell.notebook.kernel.execute(cmd_clean, {\n        iopub: {\n          output: function(msg) {\n            const id = msg.content.text.trim();\n            if (id in Bokeh.index) {\n              Bokeh.index[id].model.document.clear();\n              delete Bokeh.index[id];\n            }\n          }\n        }\n      });\n      // Destroy server and session\n      const cmd_destroy = \"import bokeh.io.notebook as ion; ion.destroy_server('\" + server_id + \"')\";\n      cell.notebook.kernel.execute(cmd_destroy);\n    }\n  }\n\n  /**\n   * Handle when a new output is added\n   */\n  function handleAddOutput(event, handle) {\n    const output_area = handle.output_area;\n    const output = handle.output;\n\n    // limit handleAddOutput to display_data with EXEC_MIME_TYPE content only\n    if ((output.output_type != \"display_data\") || (!Object.prototype.hasOwnProperty.call(output.data, EXEC_MIME_TYPE))) {\n      return\n    }\n\n    const toinsert = output_area.element.find(\".\" + CLASS_NAME.split(' ')[0]);\n\n    if (output.metadata[EXEC_MIME_TYPE][\"id\"] !== undefined) {\n      toinsert[toinsert.length - 1].firstChild.textContent = output.data[JS_MIME_TYPE];\n      // store reference to embed id on output_area\n      output_area._bokeh_element_id = output.metadata[EXEC_MIME_TYPE][\"id\"];\n    }\n    if (output.metadata[EXEC_MIME_TYPE][\"server_id\"] !== undefined) {\n      const bk_div = document.createElement(\"div\");\n      bk_div.innerHTML = output.data[HTML_MIME_TYPE];\n      const script_attrs = bk_div.children[0].attributes;\n      for (let i = 0; i < script_attrs.length; i++) {\n        toinsert[toinsert.length - 1].firstChild.setAttribute(script_attrs[i].name, script_attrs[i].value);\n        toinsert[toinsert.length - 1].firstChild.textContent = bk_div.children[0].textContent\n      }\n      // store reference to server id on output_area\n      output_area._bokeh_server_id = output.metadata[EXEC_MIME_TYPE][\"server_id\"];\n    }\n  }\n\n  function register_renderer(events, OutputArea) {\n\n    function append_mime(data, metadata, element) {\n      // create a DOM node to render to\n      const toinsert = this.create_output_subarea(\n        metadata,\n        CLASS_NAME,\n        EXEC_MIME_TYPE\n      );\n      this.keyboard_manager.register_events(toinsert);\n      // Render to node\n      const props = {data: data, metadata: metadata[EXEC_MIME_TYPE]};\n      render(props, toinsert[toinsert.length - 1]);\n      element.append(toinsert);\n      return toinsert\n    }\n\n    /* Handle when an output is cleared or removed */\n    events.on('clear_output.CodeCell', handleClearOutput);\n    events.on('delete.Cell', handleClearOutput);\n\n    /* Handle when a new output is added */\n    events.on('output_added.OutputArea', handleAddOutput);\n\n    /**\n     * Register the mime type and append_mime function with output_area\n     */\n    OutputArea.prototype.register_mime_type(EXEC_MIME_TYPE, append_mime, {\n      /* Is output safe? */\n      safe: true,\n      /* Index of renderer in `output_area.display_order` */\n      index: 0\n    });\n  }\n\n  // register the mime type if in Jupyter Notebook environment and previously unregistered\n  if (root.Jupyter !== undefined) {\n    const events = require('base/js/events');\n    const OutputArea = require('notebook/js/outputarea').OutputArea;\n\n    if (OutputArea.prototype.mime_types().indexOf(EXEC_MIME_TYPE) == -1) {\n      register_renderer(events, OutputArea);\n    }\n  }\n  if (typeof (root._bokeh_timeout) === \"undefined\" || force === true) {\n    root._bokeh_timeout = Date.now() + 5000;\n    root._bokeh_failed_load = false;\n  }\n\n  const NB_LOAD_WARNING = {'data': {'text/html':\n     \"<div style='background-color: #fdd'>\\n\"+\n     \"<p>\\n\"+\n     \"BokehJS does not appear to have successfully loaded. If loading BokehJS from CDN, this \\n\"+\n     \"may be due to a slow or bad network connection. Possible fixes:\\n\"+\n     \"</p>\\n\"+\n     \"<ul>\\n\"+\n     \"<li>re-rerun `output_notebook()` to attempt to load from CDN again, or</li>\\n\"+\n     \"<li>use INLINE resources instead, as so:</li>\\n\"+\n     \"</ul>\\n\"+\n     \"<code>\\n\"+\n     \"from bokeh.resources import INLINE\\n\"+\n     \"output_notebook(resources=INLINE)\\n\"+\n     \"</code>\\n\"+\n     \"</div>\"}};\n\n  function display_loaded() {\n    const el = document.getElementById(\"1002\");\n    if (el != null) {\n      el.textContent = \"BokehJS is loading...\";\n    }\n    if (root.Bokeh !== undefined) {\n      if (el != null) {\n        el.textContent = \"BokehJS \" + root.Bokeh.version + \" successfully loaded.\";\n      }\n    } else if (Date.now() < root._bokeh_timeout) {\n      setTimeout(display_loaded, 100)\n    }\n  }\n\n  function run_callbacks() {\n    try {\n      root._bokeh_onload_callbacks.forEach(function(callback) {\n        if (callback != null)\n          callback();\n      });\n    } finally {\n      delete root._bokeh_onload_callbacks\n    }\n    console.debug(\"Bokeh: all callbacks have finished\");\n  }\n\n  function load_libs(css_urls, js_urls, callback) {\n    if (css_urls == null) css_urls = [];\n    if (js_urls == null) js_urls = [];\n\n    root._bokeh_onload_callbacks.push(callback);\n    if (root._bokeh_is_loading > 0) {\n      console.debug(\"Bokeh: BokehJS is being loaded, scheduling callback at\", now());\n      return null;\n    }\n    if (js_urls == null || js_urls.length === 0) {\n      run_callbacks();\n      return null;\n    }\n    console.debug(\"Bokeh: BokehJS not loaded, scheduling load and callback at\", now());\n    root._bokeh_is_loading = css_urls.length + js_urls.length;\n\n    function on_load() {\n      root._bokeh_is_loading--;\n      if (root._bokeh_is_loading === 0) {\n        console.debug(\"Bokeh: all BokehJS libraries/stylesheets loaded\");\n        run_callbacks()\n      }\n    }\n\n    function on_error(url) {\n      console.error(\"failed to load \" + url);\n    }\n\n    for (let i = 0; i < css_urls.length; i++) {\n      const url = css_urls[i];\n      const element = document.createElement(\"link\");\n      element.onload = on_load;\n      element.onerror = on_error.bind(null, url);\n      element.rel = \"stylesheet\";\n      element.type = \"text/css\";\n      element.href = url;\n      console.debug(\"Bokeh: injecting link tag for BokehJS stylesheet: \", url);\n      document.body.appendChild(element);\n    }\n\n    for (let i = 0; i < js_urls.length; i++) {\n      const url = js_urls[i];\n      const element = document.createElement('script');\n      element.onload = on_load;\n      element.onerror = on_error.bind(null, url);\n      element.async = false;\n      element.src = url;\n      console.debug(\"Bokeh: injecting script tag for BokehJS library: \", url);\n      document.head.appendChild(element);\n    }\n  };\n\n  function inject_raw_css(css) {\n    const element = document.createElement(\"style\");\n    element.appendChild(document.createTextNode(css));\n    document.body.appendChild(element);\n  }\n\n  const js_urls = [\"https://cdn.bokeh.org/bokeh/release/bokeh-2.4.3.min.js\", \"https://cdn.bokeh.org/bokeh/release/bokeh-gl-2.4.3.min.js\", \"https://cdn.bokeh.org/bokeh/release/bokeh-widgets-2.4.3.min.js\", \"https://cdn.bokeh.org/bokeh/release/bokeh-tables-2.4.3.min.js\", \"https://cdn.bokeh.org/bokeh/release/bokeh-mathjax-2.4.3.min.js\"];\n  const css_urls = [];\n\n  const inline_js = [    function(Bokeh) {\n      Bokeh.set_log_level(\"info\");\n    },\nfunction(Bokeh) {\n    }\n  ];\n\n  function run_inline_js() {\n    if (root.Bokeh !== undefined || force === true) {\n          for (let i = 0; i < inline_js.length; i++) {\n      inline_js[i].call(root, root.Bokeh);\n    }\nif (force === true) {\n        display_loaded();\n      }} else if (Date.now() < root._bokeh_timeout) {\n      setTimeout(run_inline_js, 100);\n    } else if (!root._bokeh_failed_load) {\n      console.log(\"Bokeh: BokehJS failed to load within specified timeout.\");\n      root._bokeh_failed_load = true;\n    } else if (force !== true) {\n      const cell = $(document.getElementById(\"1002\")).parents('.cell').data().cell;\n      cell.output_area.append_execute_result(NB_LOAD_WARNING)\n    }\n  }\n\n  if (root._bokeh_is_loading === 0) {\n    console.debug(\"Bokeh: BokehJS loaded, going straight to plotting\");\n    run_inline_js();\n  } else {\n    load_libs(css_urls, js_urls, function() {\n      console.debug(\"Bokeh: BokehJS plotting callback run at\", now());\n      run_inline_js();\n    });\n  }\n}(window));",
      "application/vnd.bokehjs_load.v0+json": ""
     },
     "metadata": {},
     "output_type": "display_data"
    }
   ],
   "source": [
    "#----------------------------------------------------------------------\n",
    "import pandas as pd \n",
    "import numpy as np \n",
    "#----------------------------------------------------------------------\n",
    "import matplotlib.pyplot as plt \n",
    "import seaborn as sns \n",
    "import pandas_bokeh\n",
    "pandas_bokeh.output_notebook()\n",
    "pd.set_option('plotting.backend', 'pandas_bokeh')\n",
    "# Create Bokeh-Table with DataFrame:\n",
    "from bokeh.models.widgets import DataTable, TableColumn\n",
    "from bokeh.models import ColumnDataSource\n",
    "#----------------------------------------------------------------------\n",
    "import datetime \n",
    "import requests\n",
    "#----------------------------------------------------------------------\n",
    "from sklearn.metrics import mean_absolute_error \n",
    "from sklearn.metrics import mean_squared_error \n",
    "from sklearn.metrics import r2_score"
   ]
  },
  {
   "cell_type": "code",
   "execution_count": 2,
   "metadata": {},
   "outputs": [],
   "source": [
    "def collect_data(url):\n",
    "   feeds_ = requests.get(url).json()['feeds']\n",
    "   feeds_data = pd.DataFrame(feeds_)\n",
    "   # drop columns which will be unused: Latitude, longitude, gps, battery, pm10 values \n",
    "   feeds_data.drop(columns = ['field2','field4','field5','field6','field8','field7','entry_id'],inplace = True)\n",
    "   #Rename fields correspomnding to pm2.5\n",
    "   feeds_data.rename(columns ={'field1': 'sensor1_PM2.5','field3':'sensor2_PM2.5','created_at':'timestamp'},inplace = True)\n",
    "   # converting the date field to timestamp \n",
    "   feeds_data['timestamp'] = pd.to_datetime(feeds_data['timestamp'])\n",
    "   # setting time stamp as the index \n",
    "   feeds_data.set_index('timestamp',inplace = True)\n",
    "   feeds_data = feeds_data.astype({'sensor1_PM2.5':'float','sensor2_PM2.5':'float'}).round(2)\n",
    "   #feeds_data[['sensor1_PM2.5'],['sensor2_PM2.5']] = pd.to_numeric([['sensor1_PM2.5'],['sensor2_PM2.5']],errors = 'coerce')\n",
    "   feeds_data = feeds_data.assign(average_PM2_5 = lambda x : (feeds_data['sensor1_PM2.5'] + feeds_data['sensor2_PM2.5'])/2)\n",
    "   feeds_data.drop(columns = ['sensor1_PM2.5','sensor2_PM2.5'],inplace = True)\n",
    "   return feeds_data \n",
    "   "
   ]
  },
  {
   "cell_type": "code",
   "execution_count": 3,
   "metadata": {},
   "outputs": [],
   "source": [
    "def offtime_sampling(dataframe_ , on_time,off_time):# dataframe to get the samples from. Y- off time we are looking at \n",
    "    track_length = 0\n",
    "    add_to_dataframe = 1\n",
    "    sampled_dataframe = pd.DataFrame()\n",
    "    while(track_length < 60):\n",
    "        if (add_to_dataframe):\n",
    "            new_sampled_dataframe = dataframe_[(( (track_length <= dataframe_.index.minute)&(dataframe_.index.minute < (track_length + on_time))))]\n",
    "            sampled_dataframe = pd.concat([sampled_dataframe,new_sampled_dataframe])\n",
    "            add_to_dataframe = 0\n",
    "            track_length = track_length + on_time\n",
    "        else:\n",
    "            add_to_dataframe = 1 \n",
    "            track_length = track_length + off_time \n",
    "    print(track_length) \n",
    "    sampled_dataframe.sort_index(ascending =True)\n",
    "    sampled_dataframe.rename(columns ={\"average_PM2_5\":\"\\\"average_PM2_5\\\"+ offtime \"})\n",
    "    return sampled_dataframe"
   ]
  },
  {
   "cell_type": "code",
   "execution_count": 4,
   "metadata": {},
   "outputs": [],
   "source": [
    "def convert_frequency(dataframe_,frequency): \n",
    "    if(frequency == 'D'):\n",
    "        df = dataframe_.resample('D')['average_PM2_5'].mean()\n",
    "    elif (frequency == 'H'):\n",
    "        df = dataframe_.resample('H')['average_PM2_5'].mean()\n",
    "    return df  "
   ]
  },
  {
   "cell_type": "code",
   "execution_count": 5,
   "metadata": {},
   "outputs": [],
   "source": [
    "def data_frame_visuals(merged_dataframe):\n",
    "    #merged_dataframe.plot(title='Title',xlabel='Values',figsize =(10,6))\n",
    "    print(merged_dataframe.plot_blokeh(kind=\"line\"))"
   ]
  },
  {
   "cell_type": "code",
   "execution_count": 6,
   "metadata": {},
   "outputs": [],
   "source": [
    "def parformance_comparisons(dataframe1,dataframe2):\n",
    "    combined_dataset = pd.merge(dataframe1,dataframe2,on='TimeStamp')\n",
    "    mae = mean_absolute_error( dataframe1[\"value_x\"], dataframe2['value_y'])\n",
    "    rmse = mean_squared_error(dataframe1[\"value_x\"], dataframe2['value_y'])\n",
    "    rsquared = r2_score(dataframe1[\"value_x\"], dataframe2['value_y'])\n",
    "    metric = ['mae','rmse','rsquared']\n",
    "    values= [mae,rmse,rsquared]\n",
    "    comparison_df = pd.DataFrame(list(zip(metric,values)),columns=['metris','value'])\n",
    "    # get the list of tuples from two lists \n",
    "    # merge them using zip()\n",
    "    return comparison_df\n",
    "    "
   ]
  },
  {
   "cell_type": "code",
   "execution_count": 7,
   "metadata": {},
   "outputs": [],
   "source": [
    "# data for analysis using the device AQ_G5133\n",
    "AQ_G5133 = collect_data('https://thingspeak.com/channels/1962719/feeds.json?start=2023-02-18T00:00:00Z&end=2023-02-20T23:59:59Z&api_key=0IBG2XN6MIRMUMQ17')"
   ]
  },
  {
   "cell_type": "code",
   "execution_count": 8,
   "metadata": {},
   "outputs": [
    {
     "name": "stdout",
     "output_type": "stream",
     "text": [
      "60\n",
      "60\n",
      "75\n"
     ]
    }
   ],
   "source": [
    "five_mins_data = offtime_sampling(AQ_G5133,5,5)\n",
    "fifteen_mins_off_data = offtime_sampling(AQ_G5133,5,15)\n",
    "twenty_mins_off_data = offtime_sampling(AQ_G5133,5,20)"
   ]
  },
  {
   "cell_type": "code",
   "execution_count": 9,
   "metadata": {},
   "outputs": [
    {
     "name": "stdout",
     "output_type": "stream",
     "text": [
      "                           average_PM2_5\n",
      "timestamp                               \n",
      "2023-02-18 00:01:54+00:00         85.440\n",
      "2023-02-18 00:02:54+00:00         88.755\n",
      "                           average_PM2_5\n",
      "timestamp                               \n",
      "2023-02-18 00:01:54+00:00         85.440\n",
      "2023-02-18 00:02:54+00:00         88.755\n",
      "                           average_PM2_5\n",
      "timestamp                               \n",
      "2023-02-18 00:01:54+00:00         85.440\n",
      "2023-02-18 00:02:54+00:00         88.755\n"
     ]
    }
   ],
   "source": [
    "five_mins_data_hourly = convert_frequency(five_mins_data,'H')\n",
    "five_mins_data_daily = convert_frequency(five_mins_data,'D')\n",
    "fifteen_mins_off_data_hourly = convert_frequency(fifteen_mins_off_data,'H')\n",
    "fifteen_mins_off_data_daily = convert_frequency(fifteen_mins_off_data,'D')\n",
    "twenty_mins_off_data_hourly = convert_frequency(twenty_mins_off_data,'H')\n",
    "twenty_mins_off_data_daily = convert_frequency(twenty_mins_off_data,'D')"
   ]
  },
  {
   "cell_type": "code",
   "execution_count": 10,
   "metadata": {},
   "outputs": [
    {
     "data": {
      "text/html": [
       "<div>\n",
       "<style scoped>\n",
       "    .dataframe tbody tr th:only-of-type {\n",
       "        vertical-align: middle;\n",
       "    }\n",
       "\n",
       "    .dataframe tbody tr th {\n",
       "        vertical-align: top;\n",
       "    }\n",
       "\n",
       "    .dataframe thead th {\n",
       "        text-align: right;\n",
       "    }\n",
       "</style>\n",
       "<table border=\"1\" class=\"dataframe\">\n",
       "  <thead>\n",
       "    <tr style=\"text-align: right;\">\n",
       "      <th></th>\n",
       "      <th>average_PM2_5</th>\n",
       "      <th>average_PM2_5</th>\n",
       "      <th>average_PM2_5</th>\n",
       "      <th>average_PM2_5</th>\n",
       "    </tr>\n",
       "    <tr>\n",
       "      <th>timestamp</th>\n",
       "      <th></th>\n",
       "      <th></th>\n",
       "      <th></th>\n",
       "      <th></th>\n",
       "    </tr>\n",
       "  </thead>\n",
       "  <tbody>\n",
       "    <tr>\n",
       "      <th>2023-02-18 00:00:00+00:00</th>\n",
       "      <td>137.757692</td>\n",
       "      <td>129.921562</td>\n",
       "      <td>123.599500</td>\n",
       "      <td>118.901875</td>\n",
       "    </tr>\n",
       "    <tr>\n",
       "      <th>2023-02-18 01:00:00+00:00</th>\n",
       "      <td>142.230119</td>\n",
       "      <td>143.614545</td>\n",
       "      <td>147.658889</td>\n",
       "      <td>140.806000</td>\n",
       "    </tr>\n",
       "    <tr>\n",
       "      <th>2023-02-18 02:00:00+00:00</th>\n",
       "      <td>138.364231</td>\n",
       "      <td>137.006522</td>\n",
       "      <td>136.446667</td>\n",
       "      <td>141.576500</td>\n",
       "    </tr>\n",
       "    <tr>\n",
       "      <th>2023-02-18 03:00:00+00:00</th>\n",
       "      <td>140.094111</td>\n",
       "      <td>139.291818</td>\n",
       "      <td>139.983750</td>\n",
       "      <td>141.115500</td>\n",
       "    </tr>\n",
       "    <tr>\n",
       "      <th>2023-02-18 04:00:00+00:00</th>\n",
       "      <td>156.661500</td>\n",
       "      <td>159.265000</td>\n",
       "      <td>171.996667</td>\n",
       "      <td>151.349375</td>\n",
       "    </tr>\n",
       "  </tbody>\n",
       "</table>\n",
       "</div>"
      ],
      "text/plain": [
       "                           average_PM2_5  average_PM2_5  average_PM2_5  \\\n",
       "timestamp                                                                \n",
       "2023-02-18 00:00:00+00:00     137.757692     129.921562     123.599500   \n",
       "2023-02-18 01:00:00+00:00     142.230119     143.614545     147.658889   \n",
       "2023-02-18 02:00:00+00:00     138.364231     137.006522     136.446667   \n",
       "2023-02-18 03:00:00+00:00     140.094111     139.291818     139.983750   \n",
       "2023-02-18 04:00:00+00:00     156.661500     159.265000     171.996667   \n",
       "\n",
       "                           average_PM2_5  \n",
       "timestamp                                 \n",
       "2023-02-18 00:00:00+00:00     118.901875  \n",
       "2023-02-18 01:00:00+00:00     140.806000  \n",
       "2023-02-18 02:00:00+00:00     141.576500  \n",
       "2023-02-18 03:00:00+00:00     141.115500  \n",
       "2023-02-18 04:00:00+00:00     151.349375  "
      ]
     },
     "execution_count": 10,
     "metadata": {},
     "output_type": "execute_result"
    }
   ],
   "source": [
    "data_for_analysis = [AQ_G5133,five_mins_data,fifteen_mins_off_data,twenty_mins_off_data]\n",
    "daily_data = convert_frequency(data_for_analysis,'D')\n",
    "hourly_data = convert_frequency(data_for_analysis,'H') \n",
    "hourly_data.head()"
   ]
  },
  {
   "cell_type": "code",
   "execution_count": null,
   "metadata": {},
   "outputs": [],
   "source": []
  },
  {
   "cell_type": "code",
   "execution_count": 11,
   "metadata": {},
   "outputs": [
    {
     "data": {
      "text/html": [
       "<div>\n",
       "<style scoped>\n",
       "    .dataframe tbody tr th:only-of-type {\n",
       "        vertical-align: middle;\n",
       "    }\n",
       "\n",
       "    .dataframe tbody tr th {\n",
       "        vertical-align: top;\n",
       "    }\n",
       "\n",
       "    .dataframe thead th {\n",
       "        text-align: right;\n",
       "    }\n",
       "</style>\n",
       "<table border=\"1\" class=\"dataframe\">\n",
       "  <thead>\n",
       "    <tr style=\"text-align: right;\">\n",
       "      <th></th>\n",
       "      <th>average_PM2_5</th>\n",
       "    </tr>\n",
       "    <tr>\n",
       "      <th>timestamp</th>\n",
       "      <th></th>\n",
       "    </tr>\n",
       "  </thead>\n",
       "  <tbody>\n",
       "    <tr>\n",
       "      <th>2023-02-18 00:01:54+00:00</th>\n",
       "      <td>85.440</td>\n",
       "    </tr>\n",
       "    <tr>\n",
       "      <th>2023-02-18 00:02:54+00:00</th>\n",
       "      <td>88.755</td>\n",
       "    </tr>\n",
       "  </tbody>\n",
       "</table>\n",
       "</div>"
      ],
      "text/plain": [
       "                           average_PM2_5\n",
       "timestamp                               \n",
       "2023-02-18 00:01:54+00:00         85.440\n",
       "2023-02-18 00:02:54+00:00         88.755"
      ]
     },
     "execution_count": 11,
     "metadata": {},
     "output_type": "execute_result"
    }
   ],
   "source": [
    "AQ_G5133.head(2)"
   ]
  },
  {
   "cell_type": "code",
   "execution_count": null,
   "metadata": {},
   "outputs": [],
   "source": []
  }
 ],
 "metadata": {
  "kernelspec": {
   "display_name": "Python 3",
   "language": "python",
   "name": "python3"
  },
  "language_info": {
   "codemirror_mode": {
    "name": "ipython",
    "version": 3
   },
   "file_extension": ".py",
   "mimetype": "text/x-python",
   "name": "python",
   "nbconvert_exporter": "python",
   "pygments_lexer": "ipython3",
   "version": "3.10.10"
  },
  "orig_nbformat": 4,
  "vscode": {
   "interpreter": {
    "hash": "7b1f2b33e866b0bf2409397e5f58ba9cdf170d3b7f64c8f359c79998e2f88ad4"
   }
  }
 },
 "nbformat": 4,
 "nbformat_minor": 2
}
